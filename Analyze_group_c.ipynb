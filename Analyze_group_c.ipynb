{
  "nbformat": 4,
  "nbformat_minor": 0,
  "metadata": {
    "colab": {
      "provenance": [],
      "toc_visible": true
    },
    "kernelspec": {
      "name": "python3",
      "display_name": "Python 3"
    },
    "language_info": {
      "name": "python"
    }
  },
  "cells": [
    {
      "cell_type": "markdown",
      "source": [
        "# Analyze Group C\n",
        "\n",
        "Observations:\n",
        "1. Cardiomegaly\n",
        "2. Plueral Effusion\n",
        "3. Eddema\n",
        "4. Inspectra Lung Opacity (Infiltration + Consolidation + Lung Opacity)\n",
        "5. Atelectasis\n",
        "6. Lung Lesion (Mass + Nodule)\n",
        "\n",
        "Steps:\n",
        "1. Import data\n",
        "2. Select data for each observation (choose reports that have different labelers)\n",
        "3. Prepare data for finding patterns\n",
        "4. Find patterns using RegEx and N-grams"
      ],
      "metadata": {
        "id": "DAGa-tNMUF9p"
      }
    },
    {
      "cell_type": "markdown",
      "source": [
        "## Import Data"
      ],
      "metadata": {
        "id": "xVaSJHfxUOw9"
      }
    },
    {
      "cell_type": "code",
      "execution_count": 3,
      "metadata": {
        "colab": {
          "base_uri": "https://localhost:8080/"
        },
        "id": "YUIvG0BYQKPw",
        "outputId": "9c007043-894c-4d3a-d96b-a7b5e64862da"
      },
      "outputs": [
        {
          "output_type": "stream",
          "name": "stdout",
          "text": [
            "Mounted at /content/drive\n"
          ]
        }
      ],
      "source": [
        "from google.colab import drive\n",
        "\n",
        "drive.mount('/content/drive')"
      ]
    },
    {
      "cell_type": "code",
      "source": [
        "%cd /content/drive"
      ],
      "metadata": {
        "colab": {
          "base_uri": "https://localhost:8080/"
        },
        "id": "uBAsZll7SsxD",
        "outputId": "05b19cc5-5a1e-424f-a749-c828c0460807"
      },
      "execution_count": 4,
      "outputs": [
        {
          "output_type": "stream",
          "name": "stdout",
          "text": [
            "/content/drive\n"
          ]
        }
      ]
    },
    {
      "cell_type": "code",
      "source": [
        "from google.colab import auth\n",
        "auth.authenticate_user()\n",
        "\n",
        "import gspread\n",
        "from google.auth import default\n",
        "creds, _ = default()\n",
        "\n",
        "gc = gspread.authorize(creds)"
      ],
      "metadata": {
        "id": "AyWHxLBDS1Bl"
      },
      "execution_count": 5,
      "outputs": []
    },
    {
      "cell_type": "code",
      "source": [
        "# get data from google sheet\n",
        "import pandas as pd\n",
        "\n",
        "worksheet = gc.open('Annotation_group_c_for_n_coop').sheet1\n",
        "\n",
        "# get_all_values gives a list of rows\n",
        "rows = worksheet.get_all_values()\n",
        "\n",
        "# Convert to a DataFrame\n",
        "df = pd.DataFrame.from_records(rows)\n",
        "# Create columns name\n",
        "df.columns = df.iloc[0]\n",
        "df = df[1:]\n",
        "# reset index value\n",
        "df.reset_index(drop=True, inplace=True)\n",
        "df"
      ],
      "metadata": {
        "id": "patG9RkBTTlS",
        "colab": {
          "base_uri": "https://localhost:8080/",
          "height": 783
        },
        "outputId": "bd0654e5-9bec-48a9-bbb3-f9da7e09ab7f"
      },
      "execution_count": 6,
      "outputs": [
        {
          "output_type": "execute_result",
          "data": {
            "text/plain": [
              "0      Image Index                                            Reports  \\\n",
              "0         20290676  CXR  (PA upright)\\n\\nPatchy infiltration at RL...   \n",
              "1         20292772  CXR (PA upright)\\n\\nReticulonodular infiltrati...   \n",
              "2         20294567  Chest:-\\nPa chest study reveals fibronodular i...   \n",
              "3         20294712  CHEST :\\nP.A. upright view .\\nFibronodular inf...   \n",
              "4         20294740  CHEST :\\nP.A. upright view .\\nFibronodular inf...   \n",
              "...            ...                                                ...   \n",
              "135579    25106595  CXR(PA)\\n\\n  IMP:\\n   No active pulmonary infi...   \n",
              "135580    25106622  CXR PA upright\\n\\n  There is no definite pulmo...   \n",
              "135581    25106687  CXR PA UPRIGHT\\n\\nIMP: As compared to previous...   \n",
              "135582    25106812  CXR(PA)\\n\\n  IMP:\\n   No active pulmonary infi...   \n",
              "135583    25106853  CXR(PA)\\n\\n  IMP:\\n   No active pulmonary infi...   \n",
              "\n",
              "0      Cardiomegaly BERT Labeler Edema BERT Labeler  \\\n",
              "0                              1                  0   \n",
              "1                              0                  0   \n",
              "2                              0                  0   \n",
              "3                              0                  0   \n",
              "4                              0                  0   \n",
              "...                          ...                ...   \n",
              "135579                         1                  0   \n",
              "135580                         0                  0   \n",
              "135581                         1                  0   \n",
              "135582                         1                  0   \n",
              "135583                         1                  0   \n",
              "\n",
              "0      Inspectra Lung Opacity v1 BERT Labeler Atelectasis BERT Labeler  \\\n",
              "0                                           0                        0   \n",
              "1                                           0                        0   \n",
              "2                                           0                        0   \n",
              "3                                           0                        0   \n",
              "4                                           0                        0   \n",
              "...                                       ...                      ...   \n",
              "135579                                      0                        0   \n",
              "135580                                      0                        0   \n",
              "135581                                      0                       -1   \n",
              "135582                                      0                        0   \n",
              "135583                                      0                        0   \n",
              "\n",
              "0      Pleural Effusion BERT Labeler Lung Lesion BERT Labeler  \\\n",
              "0                                  0                        0   \n",
              "1                                  0                        1   \n",
              "2                                  0                        1   \n",
              "3                                  0                        1   \n",
              "4                                  0                        1   \n",
              "...                              ...                      ...   \n",
              "135579                             0                        0   \n",
              "135580                             0                        0   \n",
              "135581                             1                        0   \n",
              "135582                             0                        0   \n",
              "135583                             0                        0   \n",
              "\n",
              "0      Cardiomegaly Inspectra Labeler Edema Inspectra Labeler  ...  \\\n",
              "0                                   1                       0  ...   \n",
              "1                                   0                       0  ...   \n",
              "2                                   0                       0  ...   \n",
              "3                                   0                       0  ...   \n",
              "4                                   0                       0  ...   \n",
              "...                               ...                     ...  ...   \n",
              "135579                              0                       0  ...   \n",
              "135580                              0                       0  ...   \n",
              "135581                              1                       0  ...   \n",
              "135582                              0                       0  ...   \n",
              "135583                              0                       0  ...   \n",
              "\n",
              "0      Atelectasis Inspectra Labeler Pleural Effusion Inspectra Labeler  \\\n",
              "0                                  0                                  0   \n",
              "1                                  0                                  0   \n",
              "2                                  0                                  0   \n",
              "3                                  0                                  0   \n",
              "4                                  0                                  0   \n",
              "...                              ...                                ...   \n",
              "135579                             0                                  0   \n",
              "135580                             0                                  0   \n",
              "135581                            -1                                  1   \n",
              "135582                             0                                  0   \n",
              "135583                             0                                  0   \n",
              "\n",
              "0      Lung Lesion Inspectra Labeler Inspectra Lung Opacity v1 Balanced Score  \\\n",
              "0                                  0                             0.6705767571   \n",
              "1                                  0                             0.9478721681   \n",
              "2                                  0                             0.8226948088   \n",
              "3                                  0                             0.6979679996   \n",
              "4                                  1                             0.9419731872   \n",
              "...                              ...                                      ...   \n",
              "135579                             0                            0.04828104463   \n",
              "135580                             0                            0.04914811821   \n",
              "135581                             0                             0.5108068485   \n",
              "135582                             0                             0.0397352668   \n",
              "135583                             0                             0.3934864976   \n",
              "\n",
              "0      Mass Balanced Score Nodule Balanced Score Edema Balanced Score  \\\n",
              "0            0.08962687799          0.3223274601       0.008262414654   \n",
              "1             0.1678770714          0.4644771763        0.08673519902   \n",
              "2             0.1517771742          0.6166349793        0.01350364634   \n",
              "3             0.1366843406          0.6163465142        0.04663362481   \n",
              "4             0.4525913554          0.4320501349        0.05085499389   \n",
              "...                    ...                   ...                  ...   \n",
              "135579      0.005975966292         0.08753935783      0.0004548292506   \n",
              "135580        0.0117086733          0.1039028442        0.01578075513   \n",
              "135581        0.2280439488          0.3587409915         0.1286962249   \n",
              "135582       0.00500379011          0.0558833124      0.0008390195919   \n",
              "135583        0.2281065511          0.5708052685         0.0810060183   \n",
              "\n",
              "0      Atelectasis Balanced Score Cardiomegaly Balanced Score  \\\n",
              "0                   0.07552811707               0.01909299623   \n",
              "1                    0.2267119501               0.05830180422   \n",
              "2                     0.235725454               0.00647519908   \n",
              "3                   0.08208811247               0.02999480347   \n",
              "4                    0.2342405043              0.007880797901   \n",
              "...                           ...                         ...   \n",
              "135579              0.01260417629               0.01721901118   \n",
              "135580              0.07933877652                0.4247253044   \n",
              "135581               0.2957346634                0.5565393814   \n",
              "135582              0.01478381395               0.02319880988   \n",
              "135583               0.1223664177                0.1964486495   \n",
              "\n",
              "0      Pleural Effusion Balanced Score  \n",
              "0                       0.007672864324  \n",
              "1                          0.878199365  \n",
              "2                        0.08067476336  \n",
              "3                        0.01371037712  \n",
              "4                         0.1427466416  \n",
              "...                                ...  \n",
              "135579                 0.0006430751514  \n",
              "135580                  0.007032924475  \n",
              "135581                    0.2747272033  \n",
              "135582                 0.0005166731356  \n",
              "135583                   0.06219239471  \n",
              "\n",
              "[135584 rows x 21 columns]"
            ],
            "text/html": [
              "\n",
              "  <div id=\"df-b0426d7d-bfe1-4b34-a0af-d0aa13381045\">\n",
              "    <div class=\"colab-df-container\">\n",
              "      <div>\n",
              "<style scoped>\n",
              "    .dataframe tbody tr th:only-of-type {\n",
              "        vertical-align: middle;\n",
              "    }\n",
              "\n",
              "    .dataframe tbody tr th {\n",
              "        vertical-align: top;\n",
              "    }\n",
              "\n",
              "    .dataframe thead th {\n",
              "        text-align: right;\n",
              "    }\n",
              "</style>\n",
              "<table border=\"1\" class=\"dataframe\">\n",
              "  <thead>\n",
              "    <tr style=\"text-align: right;\">\n",
              "      <th></th>\n",
              "      <th>Image Index</th>\n",
              "      <th>Reports</th>\n",
              "      <th>Cardiomegaly BERT Labeler</th>\n",
              "      <th>Edema BERT Labeler</th>\n",
              "      <th>Inspectra Lung Opacity v1 BERT Labeler</th>\n",
              "      <th>Atelectasis BERT Labeler</th>\n",
              "      <th>Pleural Effusion BERT Labeler</th>\n",
              "      <th>Lung Lesion BERT Labeler</th>\n",
              "      <th>Cardiomegaly Inspectra Labeler</th>\n",
              "      <th>Edema Inspectra Labeler</th>\n",
              "      <th>...</th>\n",
              "      <th>Atelectasis Inspectra Labeler</th>\n",
              "      <th>Pleural Effusion Inspectra Labeler</th>\n",
              "      <th>Lung Lesion Inspectra Labeler</th>\n",
              "      <th>Inspectra Lung Opacity v1 Balanced Score</th>\n",
              "      <th>Mass Balanced Score</th>\n",
              "      <th>Nodule Balanced Score</th>\n",
              "      <th>Edema Balanced Score</th>\n",
              "      <th>Atelectasis Balanced Score</th>\n",
              "      <th>Cardiomegaly Balanced Score</th>\n",
              "      <th>Pleural Effusion Balanced Score</th>\n",
              "    </tr>\n",
              "  </thead>\n",
              "  <tbody>\n",
              "    <tr>\n",
              "      <th>0</th>\n",
              "      <td>20290676</td>\n",
              "      <td>CXR  (PA upright)\\n\\nPatchy infiltration at RL...</td>\n",
              "      <td>1</td>\n",
              "      <td>0</td>\n",
              "      <td>0</td>\n",
              "      <td>0</td>\n",
              "      <td>0</td>\n",
              "      <td>0</td>\n",
              "      <td>1</td>\n",
              "      <td>0</td>\n",
              "      <td>...</td>\n",
              "      <td>0</td>\n",
              "      <td>0</td>\n",
              "      <td>0</td>\n",
              "      <td>0.6705767571</td>\n",
              "      <td>0.08962687799</td>\n",
              "      <td>0.3223274601</td>\n",
              "      <td>0.008262414654</td>\n",
              "      <td>0.07552811707</td>\n",
              "      <td>0.01909299623</td>\n",
              "      <td>0.007672864324</td>\n",
              "    </tr>\n",
              "    <tr>\n",
              "      <th>1</th>\n",
              "      <td>20292772</td>\n",
              "      <td>CXR (PA upright)\\n\\nReticulonodular infiltrati...</td>\n",
              "      <td>0</td>\n",
              "      <td>0</td>\n",
              "      <td>0</td>\n",
              "      <td>0</td>\n",
              "      <td>0</td>\n",
              "      <td>1</td>\n",
              "      <td>0</td>\n",
              "      <td>0</td>\n",
              "      <td>...</td>\n",
              "      <td>0</td>\n",
              "      <td>0</td>\n",
              "      <td>0</td>\n",
              "      <td>0.9478721681</td>\n",
              "      <td>0.1678770714</td>\n",
              "      <td>0.4644771763</td>\n",
              "      <td>0.08673519902</td>\n",
              "      <td>0.2267119501</td>\n",
              "      <td>0.05830180422</td>\n",
              "      <td>0.878199365</td>\n",
              "    </tr>\n",
              "    <tr>\n",
              "      <th>2</th>\n",
              "      <td>20294567</td>\n",
              "      <td>Chest:-\\nPa chest study reveals fibronodular i...</td>\n",
              "      <td>0</td>\n",
              "      <td>0</td>\n",
              "      <td>0</td>\n",
              "      <td>0</td>\n",
              "      <td>0</td>\n",
              "      <td>1</td>\n",
              "      <td>0</td>\n",
              "      <td>0</td>\n",
              "      <td>...</td>\n",
              "      <td>0</td>\n",
              "      <td>0</td>\n",
              "      <td>0</td>\n",
              "      <td>0.8226948088</td>\n",
              "      <td>0.1517771742</td>\n",
              "      <td>0.6166349793</td>\n",
              "      <td>0.01350364634</td>\n",
              "      <td>0.235725454</td>\n",
              "      <td>0.00647519908</td>\n",
              "      <td>0.08067476336</td>\n",
              "    </tr>\n",
              "    <tr>\n",
              "      <th>3</th>\n",
              "      <td>20294712</td>\n",
              "      <td>CHEST :\\nP.A. upright view .\\nFibronodular inf...</td>\n",
              "      <td>0</td>\n",
              "      <td>0</td>\n",
              "      <td>0</td>\n",
              "      <td>0</td>\n",
              "      <td>0</td>\n",
              "      <td>1</td>\n",
              "      <td>0</td>\n",
              "      <td>0</td>\n",
              "      <td>...</td>\n",
              "      <td>0</td>\n",
              "      <td>0</td>\n",
              "      <td>0</td>\n",
              "      <td>0.6979679996</td>\n",
              "      <td>0.1366843406</td>\n",
              "      <td>0.6163465142</td>\n",
              "      <td>0.04663362481</td>\n",
              "      <td>0.08208811247</td>\n",
              "      <td>0.02999480347</td>\n",
              "      <td>0.01371037712</td>\n",
              "    </tr>\n",
              "    <tr>\n",
              "      <th>4</th>\n",
              "      <td>20294740</td>\n",
              "      <td>CHEST :\\nP.A. upright view .\\nFibronodular inf...</td>\n",
              "      <td>0</td>\n",
              "      <td>0</td>\n",
              "      <td>0</td>\n",
              "      <td>0</td>\n",
              "      <td>0</td>\n",
              "      <td>1</td>\n",
              "      <td>0</td>\n",
              "      <td>0</td>\n",
              "      <td>...</td>\n",
              "      <td>0</td>\n",
              "      <td>0</td>\n",
              "      <td>1</td>\n",
              "      <td>0.9419731872</td>\n",
              "      <td>0.4525913554</td>\n",
              "      <td>0.4320501349</td>\n",
              "      <td>0.05085499389</td>\n",
              "      <td>0.2342405043</td>\n",
              "      <td>0.007880797901</td>\n",
              "      <td>0.1427466416</td>\n",
              "    </tr>\n",
              "    <tr>\n",
              "      <th>...</th>\n",
              "      <td>...</td>\n",
              "      <td>...</td>\n",
              "      <td>...</td>\n",
              "      <td>...</td>\n",
              "      <td>...</td>\n",
              "      <td>...</td>\n",
              "      <td>...</td>\n",
              "      <td>...</td>\n",
              "      <td>...</td>\n",
              "      <td>...</td>\n",
              "      <td>...</td>\n",
              "      <td>...</td>\n",
              "      <td>...</td>\n",
              "      <td>...</td>\n",
              "      <td>...</td>\n",
              "      <td>...</td>\n",
              "      <td>...</td>\n",
              "      <td>...</td>\n",
              "      <td>...</td>\n",
              "      <td>...</td>\n",
              "      <td>...</td>\n",
              "    </tr>\n",
              "    <tr>\n",
              "      <th>135579</th>\n",
              "      <td>25106595</td>\n",
              "      <td>CXR(PA)\\n\\n  IMP:\\n   No active pulmonary infi...</td>\n",
              "      <td>1</td>\n",
              "      <td>0</td>\n",
              "      <td>0</td>\n",
              "      <td>0</td>\n",
              "      <td>0</td>\n",
              "      <td>0</td>\n",
              "      <td>0</td>\n",
              "      <td>0</td>\n",
              "      <td>...</td>\n",
              "      <td>0</td>\n",
              "      <td>0</td>\n",
              "      <td>0</td>\n",
              "      <td>0.04828104463</td>\n",
              "      <td>0.005975966292</td>\n",
              "      <td>0.08753935783</td>\n",
              "      <td>0.0004548292506</td>\n",
              "      <td>0.01260417629</td>\n",
              "      <td>0.01721901118</td>\n",
              "      <td>0.0006430751514</td>\n",
              "    </tr>\n",
              "    <tr>\n",
              "      <th>135580</th>\n",
              "      <td>25106622</td>\n",
              "      <td>CXR PA upright\\n\\n  There is no definite pulmo...</td>\n",
              "      <td>0</td>\n",
              "      <td>0</td>\n",
              "      <td>0</td>\n",
              "      <td>0</td>\n",
              "      <td>0</td>\n",
              "      <td>0</td>\n",
              "      <td>0</td>\n",
              "      <td>0</td>\n",
              "      <td>...</td>\n",
              "      <td>0</td>\n",
              "      <td>0</td>\n",
              "      <td>0</td>\n",
              "      <td>0.04914811821</td>\n",
              "      <td>0.0117086733</td>\n",
              "      <td>0.1039028442</td>\n",
              "      <td>0.01578075513</td>\n",
              "      <td>0.07933877652</td>\n",
              "      <td>0.4247253044</td>\n",
              "      <td>0.007032924475</td>\n",
              "    </tr>\n",
              "    <tr>\n",
              "      <th>135581</th>\n",
              "      <td>25106687</td>\n",
              "      <td>CXR PA UPRIGHT\\n\\nIMP: As compared to previous...</td>\n",
              "      <td>1</td>\n",
              "      <td>0</td>\n",
              "      <td>0</td>\n",
              "      <td>-1</td>\n",
              "      <td>1</td>\n",
              "      <td>0</td>\n",
              "      <td>1</td>\n",
              "      <td>0</td>\n",
              "      <td>...</td>\n",
              "      <td>-1</td>\n",
              "      <td>1</td>\n",
              "      <td>0</td>\n",
              "      <td>0.5108068485</td>\n",
              "      <td>0.2280439488</td>\n",
              "      <td>0.3587409915</td>\n",
              "      <td>0.1286962249</td>\n",
              "      <td>0.2957346634</td>\n",
              "      <td>0.5565393814</td>\n",
              "      <td>0.2747272033</td>\n",
              "    </tr>\n",
              "    <tr>\n",
              "      <th>135582</th>\n",
              "      <td>25106812</td>\n",
              "      <td>CXR(PA)\\n\\n  IMP:\\n   No active pulmonary infi...</td>\n",
              "      <td>1</td>\n",
              "      <td>0</td>\n",
              "      <td>0</td>\n",
              "      <td>0</td>\n",
              "      <td>0</td>\n",
              "      <td>0</td>\n",
              "      <td>0</td>\n",
              "      <td>0</td>\n",
              "      <td>...</td>\n",
              "      <td>0</td>\n",
              "      <td>0</td>\n",
              "      <td>0</td>\n",
              "      <td>0.0397352668</td>\n",
              "      <td>0.00500379011</td>\n",
              "      <td>0.0558833124</td>\n",
              "      <td>0.0008390195919</td>\n",
              "      <td>0.01478381395</td>\n",
              "      <td>0.02319880988</td>\n",
              "      <td>0.0005166731356</td>\n",
              "    </tr>\n",
              "    <tr>\n",
              "      <th>135583</th>\n",
              "      <td>25106853</td>\n",
              "      <td>CXR(PA)\\n\\n  IMP:\\n   No active pulmonary infi...</td>\n",
              "      <td>1</td>\n",
              "      <td>0</td>\n",
              "      <td>0</td>\n",
              "      <td>0</td>\n",
              "      <td>0</td>\n",
              "      <td>0</td>\n",
              "      <td>0</td>\n",
              "      <td>0</td>\n",
              "      <td>...</td>\n",
              "      <td>0</td>\n",
              "      <td>0</td>\n",
              "      <td>0</td>\n",
              "      <td>0.3934864976</td>\n",
              "      <td>0.2281065511</td>\n",
              "      <td>0.5708052685</td>\n",
              "      <td>0.0810060183</td>\n",
              "      <td>0.1223664177</td>\n",
              "      <td>0.1964486495</td>\n",
              "      <td>0.06219239471</td>\n",
              "    </tr>\n",
              "  </tbody>\n",
              "</table>\n",
              "<p>135584 rows × 21 columns</p>\n",
              "</div>\n",
              "      <button class=\"colab-df-convert\" onclick=\"convertToInteractive('df-b0426d7d-bfe1-4b34-a0af-d0aa13381045')\"\n",
              "              title=\"Convert this dataframe to an interactive table.\"\n",
              "              style=\"display:none;\">\n",
              "        \n",
              "  <svg xmlns=\"http://www.w3.org/2000/svg\" height=\"24px\"viewBox=\"0 0 24 24\"\n",
              "       width=\"24px\">\n",
              "    <path d=\"M0 0h24v24H0V0z\" fill=\"none\"/>\n",
              "    <path d=\"M18.56 5.44l.94 2.06.94-2.06 2.06-.94-2.06-.94-.94-2.06-.94 2.06-2.06.94zm-11 1L8.5 8.5l.94-2.06 2.06-.94-2.06-.94L8.5 2.5l-.94 2.06-2.06.94zm10 10l.94 2.06.94-2.06 2.06-.94-2.06-.94-.94-2.06-.94 2.06-2.06.94z\"/><path d=\"M17.41 7.96l-1.37-1.37c-.4-.4-.92-.59-1.43-.59-.52 0-1.04.2-1.43.59L10.3 9.45l-7.72 7.72c-.78.78-.78 2.05 0 2.83L4 21.41c.39.39.9.59 1.41.59.51 0 1.02-.2 1.41-.59l7.78-7.78 2.81-2.81c.8-.78.8-2.07 0-2.86zM5.41 20L4 18.59l7.72-7.72 1.47 1.35L5.41 20z\"/>\n",
              "  </svg>\n",
              "      </button>\n",
              "      \n",
              "  <style>\n",
              "    .colab-df-container {\n",
              "      display:flex;\n",
              "      flex-wrap:wrap;\n",
              "      gap: 12px;\n",
              "    }\n",
              "\n",
              "    .colab-df-convert {\n",
              "      background-color: #E8F0FE;\n",
              "      border: none;\n",
              "      border-radius: 50%;\n",
              "      cursor: pointer;\n",
              "      display: none;\n",
              "      fill: #1967D2;\n",
              "      height: 32px;\n",
              "      padding: 0 0 0 0;\n",
              "      width: 32px;\n",
              "    }\n",
              "\n",
              "    .colab-df-convert:hover {\n",
              "      background-color: #E2EBFA;\n",
              "      box-shadow: 0px 1px 2px rgba(60, 64, 67, 0.3), 0px 1px 3px 1px rgba(60, 64, 67, 0.15);\n",
              "      fill: #174EA6;\n",
              "    }\n",
              "\n",
              "    [theme=dark] .colab-df-convert {\n",
              "      background-color: #3B4455;\n",
              "      fill: #D2E3FC;\n",
              "    }\n",
              "\n",
              "    [theme=dark] .colab-df-convert:hover {\n",
              "      background-color: #434B5C;\n",
              "      box-shadow: 0px 1px 3px 1px rgba(0, 0, 0, 0.15);\n",
              "      filter: drop-shadow(0px 1px 2px rgba(0, 0, 0, 0.3));\n",
              "      fill: #FFFFFF;\n",
              "    }\n",
              "  </style>\n",
              "\n",
              "      <script>\n",
              "        const buttonEl =\n",
              "          document.querySelector('#df-b0426d7d-bfe1-4b34-a0af-d0aa13381045 button.colab-df-convert');\n",
              "        buttonEl.style.display =\n",
              "          google.colab.kernel.accessAllowed ? 'block' : 'none';\n",
              "\n",
              "        async function convertToInteractive(key) {\n",
              "          const element = document.querySelector('#df-b0426d7d-bfe1-4b34-a0af-d0aa13381045');\n",
              "          const dataTable =\n",
              "            await google.colab.kernel.invokeFunction('convertToInteractive',\n",
              "                                                     [key], {});\n",
              "          if (!dataTable) return;\n",
              "\n",
              "          const docLinkHtml = 'Like what you see? Visit the ' +\n",
              "            '<a target=\"_blank\" href=https://colab.research.google.com/notebooks/data_table.ipynb>data table notebook</a>'\n",
              "            + ' to learn more about interactive tables.';\n",
              "          element.innerHTML = '';\n",
              "          dataTable['output_type'] = 'display_data';\n",
              "          await google.colab.output.renderOutput(dataTable, element);\n",
              "          const docLink = document.createElement('div');\n",
              "          docLink.innerHTML = docLinkHtml;\n",
              "          element.appendChild(docLink);\n",
              "        }\n",
              "      </script>\n",
              "    </div>\n",
              "  </div>\n",
              "  "
            ]
          },
          "metadata": {},
          "execution_count": 6
        }
      ]
    },
    {
      "cell_type": "markdown",
      "source": [
        "## Function"
      ],
      "metadata": {
        "id": "3yaJYox00UUU"
      }
    },
    {
      "cell_type": "code",
      "source": [
        "# create dataframe of each observations\n",
        "def selectData(df, name):\n",
        "  # choose rows that have different labelers\n",
        "  name_df = df.loc[df[name + ' BERT Labeler'] != df[name + ' Inspectra Labeler']]\n",
        "  name_df.reset_index(drop=True, inplace=True)\n",
        "\n",
        "  # split into 2 dataframes\n",
        "  BERT_0_Inspec_1_df = name_df[name_df[name + ' BERT Labeler'] == '0']\n",
        "  BERT_1_Inspec_0_df = name_df[name_df[name + ' BERT Labeler'] == '1']\n",
        "\n",
        "  return name_df, BERT_0_Inspec_1_df, BERT_1_Inspec_0_df"
      ],
      "metadata": {
        "id": "-N6cAn_LLtrO"
      },
      "execution_count": 7,
      "outputs": []
    },
    {
      "cell_type": "code",
      "source": [
        "# create list of reports\n",
        "import re\n",
        "\n",
        "def createReportList(df):\n",
        "  report = []\n",
        "  for i in range(df['Reports'].shape[0]):\n",
        "    report.append([s for s in (df['Reports'].iloc[i]).split('\\n') if s != '' and s != ' '])\n",
        "  print('Lenght :', len(report))\n",
        "  return report"
      ],
      "metadata": {
        "id": "A1rOQeqGfnhY"
      },
      "execution_count": 8,
      "outputs": []
    },
    {
      "cell_type": "code",
      "source": [
        "# crate n-grams\n",
        "from collections import defaultdict\n",
        "import re\n",
        "from nltk import ngrams\n",
        "\n",
        "def createPatternNgrams(data, n, keyword=None):\n",
        "  pattern_dict = defaultdict(lambda: 0)\n",
        "  for report in data:\n",
        "    for s in report[1:]:\n",
        "      s = re.sub('[,;:=\\\\-]', ' ', s)\n",
        "      s = (s.strip()).lower()\n",
        "      s = re.sub('[.]\\Z', '', s)\n",
        "      s = '<s> ' + s + ' <\\s>'\n",
        "      if (keyword != None and re.search(keyword, s)) or keyword == None:\n",
        "        words = []\n",
        "        for w in s.split(): \n",
        "          if w != '' and w != ' ':\n",
        "            words.extend([w[:-1], '<\\s>', '<s>']) if re.search('[.]\\Z', w) else words.append(w)\n",
        "        for word in ngrams(words, n):\n",
        "          pattern_dict[word] += 1    \n",
        "\n",
        "  pattern_dict = sorted(pattern_dict.items(), key=lambda x: x[1], reverse=True)\n",
        "\n",
        "  return dict(pattern_dict)"
      ],
      "metadata": {
        "id": "sG6V8g6PNX3k"
      },
      "execution_count": 9,
      "outputs": []
    },
    {
      "cell_type": "code",
      "source": [
        "# find word before input word\n",
        "def findWordBefore(bigrams_dict, word):\n",
        "  word_before = defaultdict(lambda: 0)\n",
        "  for k,v in bigrams_dict.items():\n",
        "    if k[1] == word:\n",
        "      word_before[k[0]] += v\n",
        "\n",
        "  word_before = sorted(word_before.items(), key=lambda x: x[1], reverse=True)\n",
        "\n",
        "  return dict(word_before)"
      ],
      "metadata": {
        "id": "mYMYU6S3wQMt"
      },
      "execution_count": 10,
      "outputs": []
    },
    {
      "cell_type": "markdown",
      "source": [
        "# Cardiomegaly"
      ],
      "metadata": {
        "id": "zprjc5Rxbz5t"
      }
    },
    {
      "cell_type": "markdown",
      "source": [
        "## Prepare Data"
      ],
      "metadata": {
        "id": "D3KebIgYTtOz"
      }
    },
    {
      "cell_type": "code",
      "source": [
        "# choose rows\n",
        "cardio_df, cardio_b0i1_df, cardio_b1i0_df = selectData(df, 'Cardiomegaly')\n",
        "cardio_df"
      ],
      "metadata": {
        "colab": {
          "base_uri": "https://localhost:8080/",
          "height": 835
        },
        "id": "JbIGZvwzM0OT",
        "outputId": "238bd8f6-55c9-4f28-8fee-37f473bd3699"
      },
      "execution_count": 11,
      "outputs": [
        {
          "output_type": "execute_result",
          "data": {
            "text/plain": [
              "0     Image Index                                            Reports  \\\n",
              "0        20294844  CHEST :\\nP.A. upright view .\\nNo active pulmon...   \n",
              "1        20296145  CXR PA upright\\n  The chest shows round calcif...   \n",
              "2        20298305  CXR PA upright\\nNo demonstrable active pulmona...   \n",
              "3        20305794  CXR \\n\\nNo clinical history is provided.\\n\\nNo...   \n",
              "4        20306919  Chest PA upright;\\n R/O lung metastasis.\\n\\n E...   \n",
              "...           ...                                                ...   \n",
              "39236    25105665  CXR PA UPRIGHT\\n\\nFINDINGS  : No detectable pu...   \n",
              "39237    25106092  CXR PA UPRIGHT\\n\\nFINDINGS  : No detectable pu...   \n",
              "39238    25106595  CXR(PA)\\n\\n  IMP:\\n   No active pulmonary infi...   \n",
              "39239    25106812  CXR(PA)\\n\\n  IMP:\\n   No active pulmonary infi...   \n",
              "39240    25106853  CXR(PA)\\n\\n  IMP:\\n   No active pulmonary infi...   \n",
              "\n",
              "0     Cardiomegaly BERT Labeler Edema BERT Labeler  \\\n",
              "0                             1                  0   \n",
              "1                             0                  0   \n",
              "2                             0                  0   \n",
              "3                             0                  0   \n",
              "4                             1                  0   \n",
              "...                         ...                ...   \n",
              "39236                         1                  0   \n",
              "39237                         1                  0   \n",
              "39238                         1                  0   \n",
              "39239                         1                  0   \n",
              "39240                         1                  0   \n",
              "\n",
              "0     Inspectra Lung Opacity v1 BERT Labeler Atelectasis BERT Labeler  \\\n",
              "0                                          0                        0   \n",
              "1                                          0                        0   \n",
              "2                                          0                        0   \n",
              "3                                          0                        0   \n",
              "4                                          0                        0   \n",
              "...                                      ...                      ...   \n",
              "39236                                      0                        0   \n",
              "39237                                      0                        0   \n",
              "39238                                      0                        0   \n",
              "39239                                      0                        0   \n",
              "39240                                      0                        0   \n",
              "\n",
              "0     Pleural Effusion BERT Labeler Lung Lesion BERT Labeler  \\\n",
              "0                                 0                        0   \n",
              "1                                 0                        0   \n",
              "2                                 0                        0   \n",
              "3                                 0                        0   \n",
              "4                                 1                        1   \n",
              "...                             ...                      ...   \n",
              "39236                             0                        0   \n",
              "39237                             0                        0   \n",
              "39238                             0                        0   \n",
              "39239                             0                        0   \n",
              "39240                             0                        0   \n",
              "\n",
              "0     Cardiomegaly Inspectra Labeler Edema Inspectra Labeler  ...  \\\n",
              "0                                  0                       0  ...   \n",
              "1                                  1                       0  ...   \n",
              "2                                  1                       0  ...   \n",
              "3                                  1                       0  ...   \n",
              "4                                  0                       0  ...   \n",
              "...                              ...                     ...  ...   \n",
              "39236                              0                       0  ...   \n",
              "39237                              0                       0  ...   \n",
              "39238                              0                       0  ...   \n",
              "39239                              0                       0  ...   \n",
              "39240                              0                       0  ...   \n",
              "\n",
              "0     Atelectasis Inspectra Labeler Pleural Effusion Inspectra Labeler  \\\n",
              "0                                 0                                  0   \n",
              "1                                 0                                  0   \n",
              "2                                 0                                  0   \n",
              "3                                 0                                  0   \n",
              "4                                 0                                  1   \n",
              "...                             ...                                ...   \n",
              "39236                             0                                  0   \n",
              "39237                             0                                  0   \n",
              "39238                             0                                  0   \n",
              "39239                             0                                  0   \n",
              "39240                             0                                  0   \n",
              "\n",
              "0     Lung Lesion Inspectra Labeler Inspectra Lung Opacity v1 Balanced Score  \\\n",
              "0                                 0                             0.1545549537   \n",
              "1                                 0                             0.5372333875   \n",
              "2                                 0                            0.04703057456   \n",
              "3                                 0                            0.05848120402   \n",
              "4                                 1                            0.09744055314   \n",
              "...                             ...                                      ...   \n",
              "39236                             0                             0.6699802947   \n",
              "39237                             0                            0.08266283671   \n",
              "39238                             0                            0.04828104463   \n",
              "39239                             0                             0.0397352668   \n",
              "39240                             0                             0.3934864976   \n",
              "\n",
              "0     Mass Balanced Score Nodule Balanced Score Edema Balanced Score  \\\n",
              "0            0.1134158085          0.1497948813         0.3858737325   \n",
              "1            0.1580556291          0.5273918368        0.05144614352   \n",
              "2           0.01075730331         0.04479191569        0.04892595487   \n",
              "3           0.06362653962         0.09207393694         0.3825493607   \n",
              "4            0.3018906804           0.909952602        0.01252616605   \n",
              "...                   ...                   ...                  ...   \n",
              "39236        0.1221750322          0.4594273696        0.01429137321   \n",
              "39237      0.005025856353          0.1745592005                    0   \n",
              "39238      0.005975966292         0.08753935783      0.0004548292506   \n",
              "39239       0.00500379011          0.0558833124      0.0008390195919   \n",
              "39240        0.2281065511          0.5708052685         0.0810060183   \n",
              "\n",
              "0     Atelectasis Balanced Score Cardiomegaly Balanced Score  \\\n",
              "0                   0.1863493767                0.8780091842   \n",
              "1                   0.1072859713               0.03658095785   \n",
              "2                  0.02976730592                0.2871204495   \n",
              "3                  0.06412955085                0.9474925083   \n",
              "4                   0.1517874423              0.008666818642   \n",
              "...                          ...                         ...   \n",
              "39236               0.4090773577               0.08064206305   \n",
              "39237             0.004885917867              0.001456480401   \n",
              "39238              0.01260417629               0.01721901118   \n",
              "39239              0.01478381395               0.02319880988   \n",
              "39240               0.1223664177                0.1964486495   \n",
              "\n",
              "0     Pleural Effusion Balanced Score  \n",
              "0                       0.01716235591  \n",
              "1                        0.0615121635  \n",
              "2                      0.003888655149  \n",
              "3                      0.006668203767  \n",
              "4                        0.7718668526  \n",
              "...                               ...  \n",
              "39236                   0.05404155913  \n",
              "39237                  0.003004806707  \n",
              "39238                 0.0006430751514  \n",
              "39239                 0.0005166731356  \n",
              "39240                   0.06219239471  \n",
              "\n",
              "[39241 rows x 21 columns]"
            ],
            "text/html": [
              "\n",
              "  <div id=\"df-c20461c8-0b37-48f1-91df-7d68341aa025\">\n",
              "    <div class=\"colab-df-container\">\n",
              "      <div>\n",
              "<style scoped>\n",
              "    .dataframe tbody tr th:only-of-type {\n",
              "        vertical-align: middle;\n",
              "    }\n",
              "\n",
              "    .dataframe tbody tr th {\n",
              "        vertical-align: top;\n",
              "    }\n",
              "\n",
              "    .dataframe thead th {\n",
              "        text-align: right;\n",
              "    }\n",
              "</style>\n",
              "<table border=\"1\" class=\"dataframe\">\n",
              "  <thead>\n",
              "    <tr style=\"text-align: right;\">\n",
              "      <th></th>\n",
              "      <th>Image Index</th>\n",
              "      <th>Reports</th>\n",
              "      <th>Cardiomegaly BERT Labeler</th>\n",
              "      <th>Edema BERT Labeler</th>\n",
              "      <th>Inspectra Lung Opacity v1 BERT Labeler</th>\n",
              "      <th>Atelectasis BERT Labeler</th>\n",
              "      <th>Pleural Effusion BERT Labeler</th>\n",
              "      <th>Lung Lesion BERT Labeler</th>\n",
              "      <th>Cardiomegaly Inspectra Labeler</th>\n",
              "      <th>Edema Inspectra Labeler</th>\n",
              "      <th>...</th>\n",
              "      <th>Atelectasis Inspectra Labeler</th>\n",
              "      <th>Pleural Effusion Inspectra Labeler</th>\n",
              "      <th>Lung Lesion Inspectra Labeler</th>\n",
              "      <th>Inspectra Lung Opacity v1 Balanced Score</th>\n",
              "      <th>Mass Balanced Score</th>\n",
              "      <th>Nodule Balanced Score</th>\n",
              "      <th>Edema Balanced Score</th>\n",
              "      <th>Atelectasis Balanced Score</th>\n",
              "      <th>Cardiomegaly Balanced Score</th>\n",
              "      <th>Pleural Effusion Balanced Score</th>\n",
              "    </tr>\n",
              "  </thead>\n",
              "  <tbody>\n",
              "    <tr>\n",
              "      <th>0</th>\n",
              "      <td>20294844</td>\n",
              "      <td>CHEST :\\nP.A. upright view .\\nNo active pulmon...</td>\n",
              "      <td>1</td>\n",
              "      <td>0</td>\n",
              "      <td>0</td>\n",
              "      <td>0</td>\n",
              "      <td>0</td>\n",
              "      <td>0</td>\n",
              "      <td>0</td>\n",
              "      <td>0</td>\n",
              "      <td>...</td>\n",
              "      <td>0</td>\n",
              "      <td>0</td>\n",
              "      <td>0</td>\n",
              "      <td>0.1545549537</td>\n",
              "      <td>0.1134158085</td>\n",
              "      <td>0.1497948813</td>\n",
              "      <td>0.3858737325</td>\n",
              "      <td>0.1863493767</td>\n",
              "      <td>0.8780091842</td>\n",
              "      <td>0.01716235591</td>\n",
              "    </tr>\n",
              "    <tr>\n",
              "      <th>1</th>\n",
              "      <td>20296145</td>\n",
              "      <td>CXR PA upright\\n  The chest shows round calcif...</td>\n",
              "      <td>0</td>\n",
              "      <td>0</td>\n",
              "      <td>0</td>\n",
              "      <td>0</td>\n",
              "      <td>0</td>\n",
              "      <td>0</td>\n",
              "      <td>1</td>\n",
              "      <td>0</td>\n",
              "      <td>...</td>\n",
              "      <td>0</td>\n",
              "      <td>0</td>\n",
              "      <td>0</td>\n",
              "      <td>0.5372333875</td>\n",
              "      <td>0.1580556291</td>\n",
              "      <td>0.5273918368</td>\n",
              "      <td>0.05144614352</td>\n",
              "      <td>0.1072859713</td>\n",
              "      <td>0.03658095785</td>\n",
              "      <td>0.0615121635</td>\n",
              "    </tr>\n",
              "    <tr>\n",
              "      <th>2</th>\n",
              "      <td>20298305</td>\n",
              "      <td>CXR PA upright\\nNo demonstrable active pulmona...</td>\n",
              "      <td>0</td>\n",
              "      <td>0</td>\n",
              "      <td>0</td>\n",
              "      <td>0</td>\n",
              "      <td>0</td>\n",
              "      <td>0</td>\n",
              "      <td>1</td>\n",
              "      <td>0</td>\n",
              "      <td>...</td>\n",
              "      <td>0</td>\n",
              "      <td>0</td>\n",
              "      <td>0</td>\n",
              "      <td>0.04703057456</td>\n",
              "      <td>0.01075730331</td>\n",
              "      <td>0.04479191569</td>\n",
              "      <td>0.04892595487</td>\n",
              "      <td>0.02976730592</td>\n",
              "      <td>0.2871204495</td>\n",
              "      <td>0.003888655149</td>\n",
              "    </tr>\n",
              "    <tr>\n",
              "      <th>3</th>\n",
              "      <td>20305794</td>\n",
              "      <td>CXR \\n\\nNo clinical history is provided.\\n\\nNo...</td>\n",
              "      <td>0</td>\n",
              "      <td>0</td>\n",
              "      <td>0</td>\n",
              "      <td>0</td>\n",
              "      <td>0</td>\n",
              "      <td>0</td>\n",
              "      <td>1</td>\n",
              "      <td>0</td>\n",
              "      <td>...</td>\n",
              "      <td>0</td>\n",
              "      <td>0</td>\n",
              "      <td>0</td>\n",
              "      <td>0.05848120402</td>\n",
              "      <td>0.06362653962</td>\n",
              "      <td>0.09207393694</td>\n",
              "      <td>0.3825493607</td>\n",
              "      <td>0.06412955085</td>\n",
              "      <td>0.9474925083</td>\n",
              "      <td>0.006668203767</td>\n",
              "    </tr>\n",
              "    <tr>\n",
              "      <th>4</th>\n",
              "      <td>20306919</td>\n",
              "      <td>Chest PA upright;\\n R/O lung metastasis.\\n\\n E...</td>\n",
              "      <td>1</td>\n",
              "      <td>0</td>\n",
              "      <td>0</td>\n",
              "      <td>0</td>\n",
              "      <td>1</td>\n",
              "      <td>1</td>\n",
              "      <td>0</td>\n",
              "      <td>0</td>\n",
              "      <td>...</td>\n",
              "      <td>0</td>\n",
              "      <td>1</td>\n",
              "      <td>1</td>\n",
              "      <td>0.09744055314</td>\n",
              "      <td>0.3018906804</td>\n",
              "      <td>0.909952602</td>\n",
              "      <td>0.01252616605</td>\n",
              "      <td>0.1517874423</td>\n",
              "      <td>0.008666818642</td>\n",
              "      <td>0.7718668526</td>\n",
              "    </tr>\n",
              "    <tr>\n",
              "      <th>...</th>\n",
              "      <td>...</td>\n",
              "      <td>...</td>\n",
              "      <td>...</td>\n",
              "      <td>...</td>\n",
              "      <td>...</td>\n",
              "      <td>...</td>\n",
              "      <td>...</td>\n",
              "      <td>...</td>\n",
              "      <td>...</td>\n",
              "      <td>...</td>\n",
              "      <td>...</td>\n",
              "      <td>...</td>\n",
              "      <td>...</td>\n",
              "      <td>...</td>\n",
              "      <td>...</td>\n",
              "      <td>...</td>\n",
              "      <td>...</td>\n",
              "      <td>...</td>\n",
              "      <td>...</td>\n",
              "      <td>...</td>\n",
              "      <td>...</td>\n",
              "    </tr>\n",
              "    <tr>\n",
              "      <th>39236</th>\n",
              "      <td>25105665</td>\n",
              "      <td>CXR PA UPRIGHT\\n\\nFINDINGS  : No detectable pu...</td>\n",
              "      <td>1</td>\n",
              "      <td>0</td>\n",
              "      <td>0</td>\n",
              "      <td>0</td>\n",
              "      <td>0</td>\n",
              "      <td>0</td>\n",
              "      <td>0</td>\n",
              "      <td>0</td>\n",
              "      <td>...</td>\n",
              "      <td>0</td>\n",
              "      <td>0</td>\n",
              "      <td>0</td>\n",
              "      <td>0.6699802947</td>\n",
              "      <td>0.1221750322</td>\n",
              "      <td>0.4594273696</td>\n",
              "      <td>0.01429137321</td>\n",
              "      <td>0.4090773577</td>\n",
              "      <td>0.08064206305</td>\n",
              "      <td>0.05404155913</td>\n",
              "    </tr>\n",
              "    <tr>\n",
              "      <th>39237</th>\n",
              "      <td>25106092</td>\n",
              "      <td>CXR PA UPRIGHT\\n\\nFINDINGS  : No detectable pu...</td>\n",
              "      <td>1</td>\n",
              "      <td>0</td>\n",
              "      <td>0</td>\n",
              "      <td>0</td>\n",
              "      <td>0</td>\n",
              "      <td>0</td>\n",
              "      <td>0</td>\n",
              "      <td>0</td>\n",
              "      <td>...</td>\n",
              "      <td>0</td>\n",
              "      <td>0</td>\n",
              "      <td>0</td>\n",
              "      <td>0.08266283671</td>\n",
              "      <td>0.005025856353</td>\n",
              "      <td>0.1745592005</td>\n",
              "      <td>0</td>\n",
              "      <td>0.004885917867</td>\n",
              "      <td>0.001456480401</td>\n",
              "      <td>0.003004806707</td>\n",
              "    </tr>\n",
              "    <tr>\n",
              "      <th>39238</th>\n",
              "      <td>25106595</td>\n",
              "      <td>CXR(PA)\\n\\n  IMP:\\n   No active pulmonary infi...</td>\n",
              "      <td>1</td>\n",
              "      <td>0</td>\n",
              "      <td>0</td>\n",
              "      <td>0</td>\n",
              "      <td>0</td>\n",
              "      <td>0</td>\n",
              "      <td>0</td>\n",
              "      <td>0</td>\n",
              "      <td>...</td>\n",
              "      <td>0</td>\n",
              "      <td>0</td>\n",
              "      <td>0</td>\n",
              "      <td>0.04828104463</td>\n",
              "      <td>0.005975966292</td>\n",
              "      <td>0.08753935783</td>\n",
              "      <td>0.0004548292506</td>\n",
              "      <td>0.01260417629</td>\n",
              "      <td>0.01721901118</td>\n",
              "      <td>0.0006430751514</td>\n",
              "    </tr>\n",
              "    <tr>\n",
              "      <th>39239</th>\n",
              "      <td>25106812</td>\n",
              "      <td>CXR(PA)\\n\\n  IMP:\\n   No active pulmonary infi...</td>\n",
              "      <td>1</td>\n",
              "      <td>0</td>\n",
              "      <td>0</td>\n",
              "      <td>0</td>\n",
              "      <td>0</td>\n",
              "      <td>0</td>\n",
              "      <td>0</td>\n",
              "      <td>0</td>\n",
              "      <td>...</td>\n",
              "      <td>0</td>\n",
              "      <td>0</td>\n",
              "      <td>0</td>\n",
              "      <td>0.0397352668</td>\n",
              "      <td>0.00500379011</td>\n",
              "      <td>0.0558833124</td>\n",
              "      <td>0.0008390195919</td>\n",
              "      <td>0.01478381395</td>\n",
              "      <td>0.02319880988</td>\n",
              "      <td>0.0005166731356</td>\n",
              "    </tr>\n",
              "    <tr>\n",
              "      <th>39240</th>\n",
              "      <td>25106853</td>\n",
              "      <td>CXR(PA)\\n\\n  IMP:\\n   No active pulmonary infi...</td>\n",
              "      <td>1</td>\n",
              "      <td>0</td>\n",
              "      <td>0</td>\n",
              "      <td>0</td>\n",
              "      <td>0</td>\n",
              "      <td>0</td>\n",
              "      <td>0</td>\n",
              "      <td>0</td>\n",
              "      <td>...</td>\n",
              "      <td>0</td>\n",
              "      <td>0</td>\n",
              "      <td>0</td>\n",
              "      <td>0.3934864976</td>\n",
              "      <td>0.2281065511</td>\n",
              "      <td>0.5708052685</td>\n",
              "      <td>0.0810060183</td>\n",
              "      <td>0.1223664177</td>\n",
              "      <td>0.1964486495</td>\n",
              "      <td>0.06219239471</td>\n",
              "    </tr>\n",
              "  </tbody>\n",
              "</table>\n",
              "<p>39241 rows × 21 columns</p>\n",
              "</div>\n",
              "      <button class=\"colab-df-convert\" onclick=\"convertToInteractive('df-c20461c8-0b37-48f1-91df-7d68341aa025')\"\n",
              "              title=\"Convert this dataframe to an interactive table.\"\n",
              "              style=\"display:none;\">\n",
              "        \n",
              "  <svg xmlns=\"http://www.w3.org/2000/svg\" height=\"24px\"viewBox=\"0 0 24 24\"\n",
              "       width=\"24px\">\n",
              "    <path d=\"M0 0h24v24H0V0z\" fill=\"none\"/>\n",
              "    <path d=\"M18.56 5.44l.94 2.06.94-2.06 2.06-.94-2.06-.94-.94-2.06-.94 2.06-2.06.94zm-11 1L8.5 8.5l.94-2.06 2.06-.94-2.06-.94L8.5 2.5l-.94 2.06-2.06.94zm10 10l.94 2.06.94-2.06 2.06-.94-2.06-.94-.94-2.06-.94 2.06-2.06.94z\"/><path d=\"M17.41 7.96l-1.37-1.37c-.4-.4-.92-.59-1.43-.59-.52 0-1.04.2-1.43.59L10.3 9.45l-7.72 7.72c-.78.78-.78 2.05 0 2.83L4 21.41c.39.39.9.59 1.41.59.51 0 1.02-.2 1.41-.59l7.78-7.78 2.81-2.81c.8-.78.8-2.07 0-2.86zM5.41 20L4 18.59l7.72-7.72 1.47 1.35L5.41 20z\"/>\n",
              "  </svg>\n",
              "      </button>\n",
              "      \n",
              "  <style>\n",
              "    .colab-df-container {\n",
              "      display:flex;\n",
              "      flex-wrap:wrap;\n",
              "      gap: 12px;\n",
              "    }\n",
              "\n",
              "    .colab-df-convert {\n",
              "      background-color: #E8F0FE;\n",
              "      border: none;\n",
              "      border-radius: 50%;\n",
              "      cursor: pointer;\n",
              "      display: none;\n",
              "      fill: #1967D2;\n",
              "      height: 32px;\n",
              "      padding: 0 0 0 0;\n",
              "      width: 32px;\n",
              "    }\n",
              "\n",
              "    .colab-df-convert:hover {\n",
              "      background-color: #E2EBFA;\n",
              "      box-shadow: 0px 1px 2px rgba(60, 64, 67, 0.3), 0px 1px 3px 1px rgba(60, 64, 67, 0.15);\n",
              "      fill: #174EA6;\n",
              "    }\n",
              "\n",
              "    [theme=dark] .colab-df-convert {\n",
              "      background-color: #3B4455;\n",
              "      fill: #D2E3FC;\n",
              "    }\n",
              "\n",
              "    [theme=dark] .colab-df-convert:hover {\n",
              "      background-color: #434B5C;\n",
              "      box-shadow: 0px 1px 3px 1px rgba(0, 0, 0, 0.15);\n",
              "      filter: drop-shadow(0px 1px 2px rgba(0, 0, 0, 0.3));\n",
              "      fill: #FFFFFF;\n",
              "    }\n",
              "  </style>\n",
              "\n",
              "      <script>\n",
              "        const buttonEl =\n",
              "          document.querySelector('#df-c20461c8-0b37-48f1-91df-7d68341aa025 button.colab-df-convert');\n",
              "        buttonEl.style.display =\n",
              "          google.colab.kernel.accessAllowed ? 'block' : 'none';\n",
              "\n",
              "        async function convertToInteractive(key) {\n",
              "          const element = document.querySelector('#df-c20461c8-0b37-48f1-91df-7d68341aa025');\n",
              "          const dataTable =\n",
              "            await google.colab.kernel.invokeFunction('convertToInteractive',\n",
              "                                                     [key], {});\n",
              "          if (!dataTable) return;\n",
              "\n",
              "          const docLinkHtml = 'Like what you see? Visit the ' +\n",
              "            '<a target=\"_blank\" href=https://colab.research.google.com/notebooks/data_table.ipynb>data table notebook</a>'\n",
              "            + ' to learn more about interactive tables.';\n",
              "          element.innerHTML = '';\n",
              "          dataTable['output_type'] = 'display_data';\n",
              "          await google.colab.output.renderOutput(dataTable, element);\n",
              "          const docLink = document.createElement('div');\n",
              "          docLink.innerHTML = docLinkHtml;\n",
              "          element.appendChild(docLink);\n",
              "        }\n",
              "      </script>\n",
              "    </div>\n",
              "  </div>\n",
              "  "
            ]
          },
          "metadata": {},
          "execution_count": 11
        }
      ]
    },
    {
      "cell_type": "code",
      "source": [
        "# create report list\n",
        "cardio_b0i1_report = createReportList(cardio_b0i1_df)\n",
        "cardio_b1i0_report = createReportList(cardio_b1i0_df)\n",
        "cardio_b0i1_report[0]"
      ],
      "metadata": {
        "id": "hEBHkKE7kScK",
        "colab": {
          "base_uri": "https://localhost:8080/"
        },
        "outputId": "7221242b-dbd5-4127-86a0-84fc1ac2013c"
      },
      "execution_count": 12,
      "outputs": [
        {
          "output_type": "stream",
          "name": "stdout",
          "text": [
            "Lenght : 5526\n",
            "Lenght : 33715\n"
          ]
        },
        {
          "output_type": "execute_result",
          "data": {
            "text/plain": [
              "['CXR PA upright',\n",
              " '  The chest shows round calcification at cardiac shadow should be calcification at left lower lung.',\n",
              " '  The right lung is clear.',\n",
              " '  The heart is not enlarged.',\n",
              " '  Both costophrenic are clear.',\n",
              " '  The bony thorax is intact.']"
            ]
          },
          "metadata": {},
          "execution_count": 12
        }
      ]
    },
    {
      "cell_type": "code",
      "source": [
        "# define keyword to select sentence from report\n",
        "cardio_keyword = r'cardi|heart|LV|ventri'"
      ],
      "metadata": {
        "id": "JRGQvK8zQAeP"
      },
      "execution_count": 13,
      "outputs": []
    },
    {
      "cell_type": "markdown",
      "source": [
        "## BERT 0, Inspectra 1"
      ],
      "metadata": {
        "id": "O8GSwkAeN06u"
      }
    },
    {
      "cell_type": "markdown",
      "source": [
        "Without keyword"
      ],
      "metadata": {
        "id": "kGs1iquLjjGn"
      }
    },
    {
      "cell_type": "code",
      "source": [
        "cardio_b0i1_unigram = createPatternNgrams(cardio_b0i1_report, 1)"
      ],
      "metadata": {
        "id": "brN4wgwt1PLg"
      },
      "execution_count": 14,
      "outputs": []
    },
    {
      "cell_type": "code",
      "source": [
        "cardio_b0i1_bigram = createPatternNgrams(cardio_b0i1_report, 2)\n",
        "list(cardio_b0i1_bigram.items())[:20]"
      ],
      "metadata": {
        "colab": {
          "base_uri": "https://localhost:8080/"
        },
        "id": "udlr02ffTplT",
        "outputId": "bffaa453-0912-4f81-9926-0c8245385a1f"
      },
      "execution_count": 15,
      "outputs": [
        {
          "output_type": "execute_result",
          "data": {
            "text/plain": [
              "[(('<s>', 'no'), 6498),\n",
              " (('pulmonary', 'infiltration'), 2673),\n",
              " (('<s>', 'both'), 2412),\n",
              " (('active', 'pulmonary'), 2257),\n",
              " (('both', 'costophrenic'), 2137),\n",
              " (('bony', 'thorax'), 2062),\n",
              " (('pleural', 'effusion'), 1983),\n",
              " (('cardiothoracic', 'ratio'), 1893),\n",
              " (('infiltration', '<\\\\s>'), 1719),\n",
              " (('intact', '<\\\\s>'), 1662),\n",
              " (('costophrenic', 'sulci'), 1622),\n",
              " (('<s>', 'bony'), 1587),\n",
              " (('<\\\\s>', '<s>'), 1551),\n",
              " (('<s>', 'the'), 1538),\n",
              " (('thorax', 'is'), 1486),\n",
              " (('is', 'intact'), 1485),\n",
              " (('seen', '<\\\\s>'), 1470),\n",
              " (('is', 'seen'), 1437),\n",
              " (('are', 'not'), 1367),\n",
              " (('not', 'remarkable'), 1365)]"
            ]
          },
          "metadata": {},
          "execution_count": 15
        }
      ]
    },
    {
      "cell_type": "code",
      "source": [
        "cardio_b0i1_trigram = createPatternNgrams(cardio_b0i1_report, 3)\n",
        "list(cardio_b0i1_trigram.items())[:20]"
      ],
      "metadata": {
        "colab": {
          "base_uri": "https://localhost:8080/"
        },
        "id": "Z7ZfW5MXTu-Y",
        "outputId": "f84a2bd6-5c8a-4b81-c392-292726a3e57b"
      },
      "execution_count": 16,
      "outputs": [
        {
          "output_type": "execute_result",
          "data": {
            "text/plain": [
              "[(('<s>', 'both', 'costophrenic'), 2039),\n",
              " (('pulmonary', 'infiltration', '<\\\\s>'), 1561),\n",
              " (('both', 'costophrenic', 'sulci'), 1503),\n",
              " (('active', 'pulmonary', 'infiltration'), 1493),\n",
              " (('is', 'intact', '<\\\\s>'), 1484),\n",
              " (('bony', 'thorax', 'is'), 1482),\n",
              " (('<s>', 'bony', 'thorax'), 1432),\n",
              " (('thorax', 'is', 'intact'), 1390),\n",
              " (('not', 'remarkable', '<\\\\s>'), 1365),\n",
              " (('are', 'not', 'remarkable'), 1364),\n",
              " (('is', 'seen', '<\\\\s>'), 1304),\n",
              " (('<s>', 'no', 'demonstrable'), 1167),\n",
              " (('no', 'demonstrable', 'active'), 1097),\n",
              " (('demonstrable', 'active', 'pulmonary'), 1097),\n",
              " (('no', 'active', 'pulmonary'), 1088),\n",
              " (('no', 'pleural', 'effusion'), 1081),\n",
              " (('pleural', 'effusion', '<\\\\s>'), 1052),\n",
              " (('cardiothoracic', 'ratio', 'is'), 1044),\n",
              " (('<s>', 'no', 'pleural'), 1022),\n",
              " (('is', 'noted', '<\\\\s>'), 1022)]"
            ]
          },
          "metadata": {},
          "execution_count": 16
        }
      ]
    },
    {
      "cell_type": "markdown",
      "source": [
        "With keyword"
      ],
      "metadata": {
        "id": "L_O8q5HHkREe"
      }
    },
    {
      "cell_type": "code",
      "source": [
        "cardio_b0i1_bigramk = createPatternNgrams(cardio_b0i1_report, 2, cardio_keyword)\n",
        "list(cardio_b0i1_bigramk.items())[:20]"
      ],
      "metadata": {
        "colab": {
          "base_uri": "https://localhost:8080/"
        },
        "id": "fEbrdt_I30uS",
        "outputId": "74d66a14-c350-4158-eae1-bbcb502146ec"
      },
      "execution_count": 17,
      "outputs": [
        {
          "output_type": "execute_result",
          "data": {
            "text/plain": [
              "[(('cardiothoracic', 'ratio'), 1893),\n",
              " (('ratio', 'is'), 1081),\n",
              " (('<\\\\s>', '<s>'), 954),\n",
              " (('<s>', 'the'), 877),\n",
              " (('<s>', 'prominent'), 821),\n",
              " (('is', 'about'), 797),\n",
              " (('size', '<\\\\s>'), 734),\n",
              " (('<s>', 'mild'), 730),\n",
              " (('heart', 'size'), 697),\n",
              " (('ratio', '<\\\\s>'), 681),\n",
              " (('prominent', 'heart'), 678),\n",
              " (('<s>', 'no'), 644),\n",
              " (('heart', 'is'), 572),\n",
              " (('<s>', 'cardiothoracic'), 562),\n",
              " (('cardiac', 'shadow'), 519),\n",
              " (('mild', 'prominent'), 515),\n",
              " (('0.5', '<\\\\s>'), 467),\n",
              " (('about', '0.5'), 453),\n",
              " (('<s>', 'borderline'), 438),\n",
              " (('shadow', '<\\\\s>'), 438)]"
            ]
          },
          "metadata": {},
          "execution_count": 17
        }
      ]
    },
    {
      "cell_type": "code",
      "source": [
        "cardio_b0i1_trigramk = createPatternNgrams(cardio_b0i1_report, 3, cardio_keyword)\n",
        "list(cardio_b0i1_trigramk.items())[:20]"
      ],
      "metadata": {
        "colab": {
          "base_uri": "https://localhost:8080/"
        },
        "id": "h2OR_2MR4gkd",
        "outputId": "3a133aca-dc64-4157-8706-0e66bb299e7e"
      },
      "execution_count": 18,
      "outputs": [
        {
          "output_type": "execute_result",
          "data": {
            "text/plain": [
              "[(('cardiothoracic', 'ratio', 'is'), 1044),\n",
              " (('ratio', 'is', 'about'), 793),\n",
              " (('cardiothoracic', 'ratio', '<\\\\s>'), 677),\n",
              " (('<s>', 'cardiothoracic', 'ratio'), 557),\n",
              " (('prominent', 'heart', 'size'), 511),\n",
              " (('about', '0.5', '<\\\\s>'), 451),\n",
              " (('is', 'about', '0.5'), 446),\n",
              " (('heart', 'size', '<\\\\s>'), 427),\n",
              " (('mild', 'prominent', 'heart'), 404),\n",
              " (('<s>', 'mild', 'prominent'), 400),\n",
              " (('<s>', 'the', 'heart'), 384),\n",
              " (('increased', 'cardiothoracic', 'ratio'), 371),\n",
              " (('heart', 'is', 'not'), 341),\n",
              " (('the', 'heart', 'is'), 334),\n",
              " (('<s>', 'the', 'cardiothoracic'), 332),\n",
              " (('the', 'cardiothoracic', 'ratio'), 331),\n",
              " (('prominent', 'cardiothoracic', 'ratio'), 311),\n",
              " (('cardiac', 'shadow', '<\\\\s>'), 311),\n",
              " (('<s>', 'prominent', 'cardiothoracic'), 301),\n",
              " (('is', 'seen', '<\\\\s>'), 297)]"
            ]
          },
          "metadata": {},
          "execution_count": 18
        }
      ]
    },
    {
      "cell_type": "code",
      "source": [
        "cardio_b0i1_fourgramk = createPatternNgrams(cardio_b0i1_report, 4, cardio_keyword)\n",
        "list(cardio_b0i1_fourgramk.items())[:20]"
      ],
      "metadata": {
        "colab": {
          "base_uri": "https://localhost:8080/"
        },
        "id": "WgyijjaCRi-j",
        "outputId": "27cf5b3e-e143-4cd5-b765-c316d0921e52"
      },
      "execution_count": 19,
      "outputs": [
        {
          "output_type": "execute_result",
          "data": {
            "text/plain": [
              "[(('cardiothoracic', 'ratio', 'is', 'about'), 774),\n",
              " (('<s>', 'cardiothoracic', 'ratio', 'is'), 524),\n",
              " (('is', 'about', '0.5', '<\\\\s>'), 444),\n",
              " (('ratio', 'is', 'about', '0.5'), 443),\n",
              " (('prominent', 'heart', 'size', '<\\\\s>'), 342),\n",
              " (('<s>', 'the', 'cardiothoracic', 'ratio'), 329),\n",
              " (('<s>', 'mild', 'prominent', 'heart'), 329),\n",
              " (('the', 'cardiothoracic', 'ratio', 'is'), 327),\n",
              " (('<s>', 'the', 'heart', 'is'), 326),\n",
              " (('<s>', 'prominent', 'cardiothoracic', 'ratio'), 301),\n",
              " (('prominent', 'cardiothoracic', 'ratio', '<\\\\s>'), 300),\n",
              " (('mild', 'prominent', 'heart', 'size'), 271),\n",
              " (('the', 'heart', 'is', 'not'), 238),\n",
              " (('increased', 'cardiothoracic', 'ratio', '<\\\\s>'), 217),\n",
              " (('<s>', 'borderline', 'cardiac', 'size'), 209),\n",
              " (('<s>', 'prominent', 'heart', 'size'), 202),\n",
              " (('prominent', 'cardiac', 'shadow', '<\\\\s>'), 180),\n",
              " (('<s>', 'prominent', 'cardiac', 'shadow'), 165),\n",
              " (('<s>', 'increased', 'cardiothoracic', 'ratio'), 158),\n",
              " (('<\\\\s>', '<s>', 'the', 'heart'), 148)]"
            ]
          },
          "metadata": {},
          "execution_count": 19
        }
      ]
    },
    {
      "cell_type": "code",
      "source": [
        "cardio_b0i1_fourgramk = createPatternNgrams(cardio_b0i1_report, 5, cardio_keyword)\n",
        "list(cardio_b0i1_fourgramk.items())[:20]"
      ],
      "metadata": {
        "colab": {
          "base_uri": "https://localhost:8080/"
        },
        "id": "zQUz3pZy0S_i",
        "outputId": "f4881c2e-b96a-44e3-a509-b9d4de7d6d2f"
      },
      "execution_count": 20,
      "outputs": [
        {
          "output_type": "execute_result",
          "data": {
            "text/plain": [
              "[(('<s>', 'cardiothoracic', 'ratio', 'is', 'about'), 455),\n",
              " (('ratio', 'is', 'about', '0.5', '<\\\\s>'), 441),\n",
              " (('cardiothoracic', 'ratio', 'is', 'about', '0.5'), 439),\n",
              " (('<s>', 'the', 'cardiothoracic', 'ratio', 'is'), 326),\n",
              " (('the', 'cardiothoracic', 'ratio', 'is', 'about'), 318),\n",
              " (('<s>', 'prominent', 'cardiothoracic', 'ratio', '<\\\\s>'), 292),\n",
              " (('<s>', 'the', 'heart', 'is', 'not'), 233),\n",
              " (('<s>', 'mild', 'prominent', 'heart', 'size'), 205),\n",
              " (('mild', 'prominent', 'heart', 'size', '<\\\\s>'), 188),\n",
              " (('heart', 'is', 'not', 'enalrged', '<\\\\s>'), 148),\n",
              " (('ratio', 'is', 'about', '0.51', '<\\\\s>'), 145),\n",
              " (('cardiothoracic', 'ratio', 'is', 'about', '0.51'), 144),\n",
              " (('<\\\\s>', '<s>', 'the', 'heart', 'is'), 141),\n",
              " (('<s>', 'prominent', 'heart', 'size', '<\\\\s>'), 130),\n",
              " (('<s>', 'borderline', 'cardiac', 'size', 'with'), 127),\n",
              " (('cardiothoracic', 'ratio', 'is', 'about', '0.52'), 121),\n",
              " (('<s>', 'prominent', 'cardiac', 'shadow', '<\\\\s>'), 120),\n",
              " (('ratio', 'is', 'about', '0.52', '<\\\\s>'), 118),\n",
              " (('<s>', 'increased', 'cardiothoracic', 'ratio', '<\\\\s>'), 116),\n",
              " (('<\\\\s>', '<s>', 'both', 'costophrenic', 'sulci'), 111)]"
            ]
          },
          "metadata": {},
          "execution_count": 20
        }
      ]
    },
    {
      "cell_type": "markdown",
      "source": [
        "## BERT 1, Inspectra 0"
      ],
      "metadata": {
        "id": "Fzu5H8qnN5wg"
      }
    },
    {
      "cell_type": "markdown",
      "source": [
        "Without keyword"
      ],
      "metadata": {
        "id": "FhsqWJKTjnf1"
      }
    },
    {
      "cell_type": "code",
      "source": [
        "cardio_b1i0_unigram = createPatternNgrams(cardio_b1i0_report, 1)"
      ],
      "metadata": {
        "id": "6jch8pUSB2dS"
      },
      "execution_count": 21,
      "outputs": []
    },
    {
      "cell_type": "code",
      "source": [
        "cardio_b1i0_bigram = createPatternNgrams(cardio_b1i0_report, 2)\n",
        "list(cardio_b1i0_bigram.items())[:20]"
      ],
      "metadata": {
        "colab": {
          "base_uri": "https://localhost:8080/"
        },
        "id": "YGfB_lqtURwV",
        "outputId": "ed9eab5c-3efb-4204-f79c-a75aa126fef8"
      },
      "execution_count": 22,
      "outputs": [
        {
          "output_type": "execute_result",
          "data": {
            "text/plain": [
              "[(('<s>', 'no'), 73879),\n",
              " (('noted', '<\\\\s>'), 37766),\n",
              " (('is', 'noted'), 31942),\n",
              " (('no', 'cardiomegaly'), 29722),\n",
              " (('cardiomegaly', 'is'), 28628),\n",
              " (('both', 'costophrenic'), 26449),\n",
              " (('costophrenic', 'angles'), 26029),\n",
              " (('angles', 'are'), 26004),\n",
              " (('<s>', 'findings'), 25652),\n",
              " (('infiltration', 'or'), 25533),\n",
              " (('is', 'seen'), 25469),\n",
              " (('seen', '<\\\\s>'), 25460),\n",
              " (('pulmonary', 'infiltration'), 25029),\n",
              " (('or', 'nodule'), 24697),\n",
              " (('nodule', 'is'), 24403),\n",
              " (('clear', '<\\\\s>'), 21671),\n",
              " (('are', 'clear'), 21484),\n",
              " (('<s>', 'the'), 19354),\n",
              " (('no', 'active'), 17529),\n",
              " (('findings', '<\\\\s>'), 16795)]"
            ]
          },
          "metadata": {},
          "execution_count": 22
        }
      ]
    },
    {
      "cell_type": "code",
      "source": [
        "cardio_b1i0_trigram = createPatternNgrams(cardio_b1i0_report, 3)\n",
        "list(cardio_b1i0_trigram.items())[:20]"
      ],
      "metadata": {
        "colab": {
          "base_uri": "https://localhost:8080/"
        },
        "id": "XaBu70oLUVgH",
        "outputId": "41e49933-4ade-4107-f248-ffda78a849ae"
      },
      "execution_count": 23,
      "outputs": [
        {
          "output_type": "execute_result",
          "data": {
            "text/plain": [
              "[(('is', 'noted', '<\\\\s>'), 31763),\n",
              " (('<s>', 'no', 'cardiomegaly'), 29339),\n",
              " (('no', 'cardiomegaly', 'is'), 27284),\n",
              " (('costophrenic', 'angles', 'are'), 25943),\n",
              " (('both', 'costophrenic', 'angles'), 25763),\n",
              " (('is', 'seen', '<\\\\s>'), 25116),\n",
              " (('infiltration', 'or', 'nodule'), 24634),\n",
              " (('or', 'nodule', 'is'), 24228),\n",
              " (('are', 'clear', '<\\\\s>'), 21483),\n",
              " (('pulmonary', 'infiltration', 'or'), 19916),\n",
              " (('nodule', 'is', 'noted'), 18514),\n",
              " (('<s>', 'findings', '<\\\\s>'), 16792),\n",
              " (('no', 'active', 'pulmonary'), 12880),\n",
              " (('is', 'observed', '<\\\\s>'), 12557),\n",
              " (('<s>', 'both', 'costophrenic'), 12405),\n",
              " (('<s>', 'no', 'pulmonary'), 12345),\n",
              " (('angles', 'are', 'clear'), 11976),\n",
              " (('no', 'pulmonary', 'infiltration'), 11904),\n",
              " (('cardiomegaly', 'is', 'observed'), 10737),\n",
              " (('active', 'pulmonary', 'disease'), 10689)]"
            ]
          },
          "metadata": {},
          "execution_count": 23
        }
      ]
    },
    {
      "cell_type": "code",
      "source": [
        "cardio_b1i0_fourgram = createPatternNgrams(cardio_b1i0_report, 4)\n",
        "list(cardio_b1i0_fourgram.items())[:20]"
      ],
      "metadata": {
        "colab": {
          "base_uri": "https://localhost:8080/"
        },
        "id": "zPypb0r8UZAo",
        "outputId": "1fffa7a8-c7e4-4b29-b080-f0ad02d55105"
      },
      "execution_count": 24,
      "outputs": [
        {
          "output_type": "execute_result",
          "data": {
            "text/plain": [
              "[(('<s>', 'no', 'cardiomegaly', 'is'), 27284),\n",
              " (('both', 'costophrenic', 'angles', 'are'), 25695),\n",
              " (('infiltration', 'or', 'nodule', 'is'), 24198),\n",
              " (('pulmonary', 'infiltration', 'or', 'nodule'), 19057),\n",
              " (('nodule', 'is', 'noted', '<\\\\s>'), 18504),\n",
              " (('or', 'nodule', 'is', 'noted'), 18444),\n",
              " (('angles', 'are', 'clear', '<\\\\s>'), 11976),\n",
              " (('costophrenic', 'angles', 'are', 'clear'), 11926),\n",
              " (('<s>', 'no', 'pulmonary', 'infiltration'), 11854),\n",
              " (('<s>', 'both', 'costophrenic', 'angles'), 11739),\n",
              " (('cardiomegaly', 'is', 'observed', '<\\\\s>'), 10726),\n",
              " (('no', 'cardiomegaly', 'is', 'observed'), 10716),\n",
              " (('active', 'pulmonary', 'disease', '<\\\\s>'), 10606),\n",
              " (('no', 'active', 'pulmonary', 'disease'), 10578),\n",
              " (('no', 'pulmonary', 'infiltration', 'or'), 10319),\n",
              " (('cardiomegaly', 'is', 'seen', '<\\\\s>'), 9779),\n",
              " (('<s>', 'imp', 'no', 'active'), 9758),\n",
              " (('no', 'cardiomegaly', 'is', 'seen'), 9749),\n",
              " (('imp', 'no', 'active', 'pulmonary'), 9749),\n",
              " (('<s>', 'no', 'blunting', 'of'), 8483)]"
            ]
          },
          "metadata": {},
          "execution_count": 24
        }
      ]
    },
    {
      "cell_type": "markdown",
      "source": [
        "With keyword"
      ],
      "metadata": {
        "id": "bbHtVpLokPhg"
      }
    },
    {
      "cell_type": "code",
      "source": [
        "cardio_b1i0_bigramk = createPatternNgrams(cardio_b1i0_report, 2, cardio_keyword)\n",
        "list(cardio_b1i0_bigramk.items())[:20]"
      ],
      "metadata": {
        "colab": {
          "base_uri": "https://localhost:8080/"
        },
        "id": "ERzlCm7AH3AW",
        "outputId": "3458a8a3-b938-4fd1-8b83-fd36addbfabf"
      },
      "execution_count": 25,
      "outputs": [
        {
          "output_type": "execute_result",
          "data": {
            "text/plain": [
              "[(('<s>', 'no'), 29802),\n",
              " (('no', 'cardiomegaly'), 29722),\n",
              " (('cardiomegaly', 'is'), 28628),\n",
              " (('is', 'observed'), 10789),\n",
              " (('observed', '<\\\\s>'), 10785),\n",
              " (('noted', '<\\\\s>'), 10639),\n",
              " (('is', 'noted'), 10590),\n",
              " (('seen', '<\\\\s>'), 10119),\n",
              " (('is', 'seen'), 10103),\n",
              " (('<\\\\s>', '<s>'), 8812),\n",
              " (('<s>', 'calcified'), 6177),\n",
              " (('aortic', 'knob'), 5328),\n",
              " (('calcified', 'aortic'), 5189),\n",
              " (('found', '<\\\\s>'), 5085),\n",
              " (('is', 'found'), 5065),\n",
              " (('knob', 'is'), 5054),\n",
              " (('aorta', 'is'), 3229),\n",
              " (('cardiomegaly', '<\\\\s>'), 2508),\n",
              " (('<s>', 'dilate'), 1972),\n",
              " (('dilate', 'aorta'), 1794)]"
            ]
          },
          "metadata": {},
          "execution_count": 25
        }
      ]
    },
    {
      "cell_type": "code",
      "source": [
        "cardio_b1i0_trigramk = createPatternNgrams(cardio_b1i0_report, 3, cardio_keyword)\n",
        "list(cardio_b1i0_trigramk.items())[:20]"
      ],
      "metadata": {
        "colab": {
          "base_uri": "https://localhost:8080/"
        },
        "id": "1LsjYFc1KHAt",
        "outputId": "d342dcbb-ff08-48eb-9ab6-1de47ef099d8"
      },
      "execution_count": 26,
      "outputs": [
        {
          "output_type": "execute_result",
          "data": {
            "text/plain": [
              "[(('<s>', 'no', 'cardiomegaly'), 29339),\n",
              " (('no', 'cardiomegaly', 'is'), 27284),\n",
              " (('is', 'observed', '<\\\\s>'), 10775),\n",
              " (('cardiomegaly', 'is', 'observed'), 10737),\n",
              " (('is', 'noted', '<\\\\s>'), 10572),\n",
              " (('is', 'seen', '<\\\\s>'), 10070),\n",
              " (('cardiomegaly', 'is', 'seen'), 9788),\n",
              " (('<\\\\s>', '<s>', 'calcified'), 6174),\n",
              " (('seen', '<\\\\s>', '<s>'), 6066),\n",
              " (('calcified', 'aortic', 'knob'), 5177),\n",
              " (('is', 'found', '<\\\\s>'), 5065),\n",
              " (('<s>', 'calcified', 'aortic'), 5050),\n",
              " (('aortic', 'knob', 'is'), 5039),\n",
              " (('knob', 'is', 'noted'), 4902),\n",
              " (('cardiomegaly', 'is', 'noted'), 4436),\n",
              " (('cardiomegaly', 'is', 'found'), 3087),\n",
              " (('noted', '<\\\\s>', '<s>'), 2048),\n",
              " (('no', 'cardiomegaly', '<\\\\s>'), 2033),\n",
              " (('<\\\\s>', '<s>', 'dilate'), 1971),\n",
              " (('aorta', 'is', 'found'), 1971)]"
            ]
          },
          "metadata": {},
          "execution_count": 26
        }
      ]
    },
    {
      "cell_type": "code",
      "source": [
        "cardio_b1i0_fourgramk = createPatternNgrams(cardio_b1i0_report, 4, cardio_keyword)\n",
        "list(cardio_b1i0_fourgramk.items())[:20]"
      ],
      "metadata": {
        "colab": {
          "base_uri": "https://localhost:8080/"
        },
        "id": "zjo5g-12KKim",
        "outputId": "6c16789a-dadb-45c3-95db-93bb16717693"
      },
      "execution_count": 27,
      "outputs": [
        {
          "output_type": "execute_result",
          "data": {
            "text/plain": [
              "[(('<s>', 'no', 'cardiomegaly', 'is'), 27284),\n",
              " (('cardiomegaly', 'is', 'observed', '<\\\\s>'), 10726),\n",
              " (('no', 'cardiomegaly', 'is', 'observed'), 10716),\n",
              " (('cardiomegaly', 'is', 'seen', '<\\\\s>'), 9779),\n",
              " (('no', 'cardiomegaly', 'is', 'seen'), 9749),\n",
              " (('is', 'seen', '<\\\\s>', '<s>'), 6059),\n",
              " (('seen', '<\\\\s>', '<s>', 'calcified'), 5916),\n",
              " (('<\\\\s>', '<s>', 'calcified', 'aortic'), 5048),\n",
              " (('<s>', 'calcified', 'aortic', 'knob'), 5040),\n",
              " (('calcified', 'aortic', 'knob', 'is'), 5018),\n",
              " (('knob', 'is', 'noted', '<\\\\s>'), 4900),\n",
              " (('aortic', 'knob', 'is', 'noted'), 4888),\n",
              " (('cardiomegaly', 'is', 'noted', '<\\\\s>'), 4431),\n",
              " (('no', 'cardiomegaly', 'is', 'noted'), 3238),\n",
              " (('cardiomegaly', 'is', 'found', '<\\\\s>'), 3087),\n",
              " (('no', 'cardiomegaly', 'is', 'found'), 3085),\n",
              " (('is', 'noted', '<\\\\s>', '<s>'), 2046),\n",
              " (('aorta', 'is', 'found', '<\\\\s>'), 1971),\n",
              " (('noted', '<\\\\s>', '<s>', 'dilate'), 1965),\n",
              " (('<\\\\s>', '<s>', 'dilate', 'aorta'), 1786)]"
            ]
          },
          "metadata": {},
          "execution_count": 27
        }
      ]
    },
    {
      "cell_type": "code",
      "source": [
        "cardio_b1i0_fourgramk = createPatternNgrams(cardio_b1i0_report, 5, cardio_keyword)\n",
        "list(cardio_b1i0_fourgramk.items())[:20]"
      ],
      "metadata": {
        "colab": {
          "base_uri": "https://localhost:8080/"
        },
        "id": "BI0UD4Vi25Wm",
        "outputId": "b57ac7bf-7844-46fc-bb5a-f8166a6b217d"
      },
      "execution_count": 28,
      "outputs": [
        {
          "output_type": "execute_result",
          "data": {
            "text/plain": [
              "[(('<s>', 'no', 'cardiomegaly', 'is', 'observed'), 10716),\n",
              " (('no', 'cardiomegaly', 'is', 'observed', '<\\\\s>'), 10707),\n",
              " (('<s>', 'no', 'cardiomegaly', 'is', 'seen'), 9749),\n",
              " (('no', 'cardiomegaly', 'is', 'seen', '<\\\\s>'), 9742),\n",
              " (('cardiomegaly', 'is', 'seen', '<\\\\s>', '<s>'), 6037),\n",
              " (('is', 'seen', '<\\\\s>', '<s>', 'calcified'), 5915),\n",
              " (('<\\\\s>', '<s>', 'calcified', 'aortic', 'knob'), 5038),\n",
              " (('<s>', 'calcified', 'aortic', 'knob', 'is'), 4932),\n",
              " (('aortic', 'knob', 'is', 'noted', '<\\\\s>'), 4886),\n",
              " (('calcified', 'aortic', 'knob', 'is', 'noted'), 4873),\n",
              " (('seen', '<\\\\s>', '<s>', 'calcified', 'aortic'), 4861),\n",
              " (('<s>', 'no', 'cardiomegaly', 'is', 'noted'), 3238),\n",
              " (('no', 'cardiomegaly', 'is', 'noted', '<\\\\s>'), 3236),\n",
              " (('<s>', 'no', 'cardiomegaly', 'is', 'found'), 3085),\n",
              " (('no', 'cardiomegaly', 'is', 'found', '<\\\\s>'), 3085),\n",
              " (('cardiomegaly', 'is', 'noted', '<\\\\s>', '<s>'), 2024),\n",
              " (('is', 'noted', '<\\\\s>', '<s>', 'dilate'), 1965),\n",
              " (('noted', '<\\\\s>', '<s>', 'dilate', 'aorta'), 1783),\n",
              " (('dilate', 'aorta', 'is', 'found', '<\\\\s>'), 1771),\n",
              " (('<\\\\s>', '<s>', 'dilate', 'aorta', 'is'), 1769)]"
            ]
          },
          "metadata": {},
          "execution_count": 28
        }
      ]
    },
    {
      "cell_type": "markdown",
      "source": [
        "## Find Word Before"
      ],
      "metadata": {
        "id": "OexmU728yiRM"
      }
    },
    {
      "cell_type": "code",
      "source": [
        "before_cardiot = findWordBefore(cardio_b0i1_bigram, 'cardiothoracic')\n",
        "print('cardiothoracic :', cardio_b0i1_unigram['cardiothoracic',])\n",
        "print('word before cardiothoracic :', sum(before_cardiot.values()))\n",
        "list(before_cardiot.items())[:10]"
      ],
      "metadata": {
        "colab": {
          "base_uri": "https://localhost:8080/"
        },
        "id": "AIV6skHLzgc5",
        "outputId": "67629b3d-4899-40b8-ccf8-4523a79247e1"
      },
      "execution_count": 29,
      "outputs": [
        {
          "output_type": "stream",
          "name": "stdout",
          "text": [
            "cardiothoracic : 1939\n",
            "word before cardiothoracic : 1939\n"
          ]
        },
        {
          "output_type": "execute_result",
          "data": {
            "text/plain": [
              "[('<s>', 562),\n",
              " ('increased', 403),\n",
              " ('the', 334),\n",
              " ('prominent', 311),\n",
              " ('normal', 96),\n",
              " ('increase', 84),\n",
              " ('borderline', 64),\n",
              " ('of', 20),\n",
              " ('mild', 6),\n",
              " ('noted', 5)]"
            ]
          },
          "metadata": {},
          "execution_count": 29
        }
      ]
    },
    {
      "cell_type": "code",
      "source": [
        "before_cardiac = findWordBefore(cardio_b0i1_bigram, 'cardiac')\n",
        "print('cardiac :', cardio_b0i1_unigram['cardiac',])\n",
        "print('word before cardiac :', sum(before_cardiac.values()))\n",
        "list(before_cardiac.items())[:10]"
      ],
      "metadata": {
        "colab": {
          "base_uri": "https://localhost:8080/"
        },
        "id": "xKREM7008fS6",
        "outputId": "b9e6182a-21ff-4ffa-d8fa-7febc197bd73"
      },
      "execution_count": 30,
      "outputs": [
        {
          "output_type": "stream",
          "name": "stdout",
          "text": [
            "cardiac : 1025\n",
            "word before cardiac : 1025\n"
          ]
        },
        {
          "output_type": "execute_result",
          "data": {
            "text/plain": [
              "[('prominent', 318),\n",
              " ('borderline', 211),\n",
              " ('enlarged', 107),\n",
              " ('<s>', 62),\n",
              " ('of', 62),\n",
              " ('normal', 38),\n",
              " ('enlarge', 31),\n",
              " ('the', 31),\n",
              " ('left', 18),\n",
              " ('right', 11)]"
            ]
          },
          "metadata": {},
          "execution_count": 30
        }
      ]
    },
    {
      "cell_type": "code",
      "source": [
        "before_heart = findWordBefore(cardio_b0i1_bigram, 'heart')\n",
        "print('heart :', cardio_b0i1_unigram['heart',])\n",
        "print('word before heart :', sum(before_heart.values()))\n",
        "list(before_heart.items())[:10]"
      ],
      "metadata": {
        "colab": {
          "base_uri": "https://localhost:8080/"
        },
        "id": "uidp01Jz8pYS",
        "outputId": "d4c967a8-abe4-4c68-d306-fd8cc9244e0f"
      },
      "execution_count": 31,
      "outputs": [
        {
          "output_type": "stream",
          "name": "stdout",
          "text": [
            "heart : 2044\n",
            "word before heart : 2044\n"
          ]
        },
        {
          "output_type": "execute_result",
          "data": {
            "text/plain": [
              "[('prominent', 678),\n",
              " ('the', 406),\n",
              " ('<s>', 323),\n",
              " ('of', 102),\n",
              " ('normal', 44),\n",
              " ('noraml', 41),\n",
              " ('prosthetic', 41),\n",
              " ('left', 39),\n",
              " ('metallic', 36),\n",
              " ('normla', 26)]"
            ]
          },
          "metadata": {},
          "execution_count": 31
        }
      ]
    },
    {
      "cell_type": "code",
      "source": [
        "before_cardiom = findWordBefore(cardio_b1i0_bigram, 'cardiomegaly')\n",
        "print('cardiomegaly :', cardio_b1i0_unigram['cardiomegaly',])\n",
        "print('word before cardiomegaly :', sum(before_cardiom.values()))\n",
        "list(before_cardiom.items())[:10]"
      ],
      "metadata": {
        "colab": {
          "base_uri": "https://localhost:8080/"
        },
        "id": "ayQv7p8V9XUx",
        "outputId": "f87c038f-0521-4054-b7c8-b6598e3ecc5d"
      },
      "execution_count": 32,
      "outputs": [
        {
          "output_type": "stream",
          "name": "stdout",
          "text": [
            "cardiomegaly : 32041\n",
            "word before cardiomegaly : 32041\n"
          ]
        },
        {
          "output_type": "execute_result",
          "data": {
            "text/plain": [
              "[('no', 29722),\n",
              " ('<s>', 1320),\n",
              " ('mild', 534),\n",
              " ('or', 198),\n",
              " ('of', 111),\n",
              " ('borderlined', 41),\n",
              " ('borderline', 39),\n",
              " ('significant', 25),\n",
              " ('definite', 10),\n",
              " ('marked', 6)]"
            ]
          },
          "metadata": {},
          "execution_count": 32
        }
      ]
    },
    {
      "cell_type": "markdown",
      "source": [
        "# Pleural Effusion"
      ],
      "metadata": {
        "id": "Wh3k6ZmJLRPQ"
      }
    },
    {
      "cell_type": "markdown",
      "source": [
        "## Prepare Data"
      ],
      "metadata": {
        "id": "TXmthT3AT1hL"
      }
    },
    {
      "cell_type": "code",
      "source": [
        "# choose rows\n",
        "pleural_df, pleural_b0i1_df, pleural_b1i0_df = selectData(df, 'Pleural Effusion')\n",
        "pleural_df"
      ],
      "metadata": {
        "colab": {
          "base_uri": "https://localhost:8080/",
          "height": 818
        },
        "id": "3Nl42nR-KSE1",
        "outputId": "5f2751fc-7e4e-4f19-98bc-2963235f486f"
      },
      "execution_count": 33,
      "outputs": [
        {
          "output_type": "execute_result",
          "data": {
            "text/plain": [
              "0    Image Index                                            Reports  \\\n",
              "0       20306927  Chest PA upright;\\n follow up film , compared ...   \n",
              "1       20308456  Chest;\\n\\n  Minimal fibrosis at RUL .\\n  The l...   \n",
              "2       20309045  CHEST\\n\\nReticulonodular infiltration at RUL. ...   \n",
              "3       20309306  CHEST\\n\\nRt hydropneumothorax is seen.\\nLeft l...   \n",
              "4       20313861  CXR PA upright\\n\\nPulmonary infiltration at RL...   \n",
              "...          ...                                                ...   \n",
              "4557    25100320  CXR\\n\\nNo interval change of fibrosis and trac...   \n",
              "4558    25100471  CXR PA upright\\n\\nComparison to prior radiogra...   \n",
              "4559    25100802  CXR PA\\n\\nCompared with previous study: 29/03/...   \n",
              "4560    25103594  Chest CXR\\n\\nFibrotic and interstitial infiltr...   \n",
              "4561    25106154  CXR PA\\n\\nNo change of small amount of right e...   \n",
              "\n",
              "0    Cardiomegaly BERT Labeler Edema BERT Labeler  \\\n",
              "0                            1                  0   \n",
              "1                            0                  0   \n",
              "2                            0                  0   \n",
              "3                            0                  0   \n",
              "4                            0                  0   \n",
              "...                        ...                ...   \n",
              "4557                         0                  0   \n",
              "4558                         0                  0   \n",
              "4559                         0                  0   \n",
              "4560                         1                  0   \n",
              "4561                         0                  0   \n",
              "\n",
              "0    Inspectra Lung Opacity v1 BERT Labeler Atelectasis BERT Labeler  \\\n",
              "0                                         0                        0   \n",
              "1                                         0                        0   \n",
              "2                                         0                        0   \n",
              "3                                         0                        0   \n",
              "4                                         1                        0   \n",
              "...                                     ...                      ...   \n",
              "4557                                      0                        0   \n",
              "4558                                      0                        0   \n",
              "4559                                      0                        0   \n",
              "4560                                      1                        0   \n",
              "4561                                      0                        0   \n",
              "\n",
              "0    Pleural Effusion BERT Labeler Lung Lesion BERT Labeler  \\\n",
              "0                                0                        0   \n",
              "1                                1                        0   \n",
              "2                                0                        1   \n",
              "3                                0                        0   \n",
              "4                                0                        0   \n",
              "...                            ...                      ...   \n",
              "4557                             0                        0   \n",
              "4558                             0                        0   \n",
              "4559                             0                        1   \n",
              "4560                             1                        1   \n",
              "4561                             0                        0   \n",
              "\n",
              "0    Cardiomegaly Inspectra Labeler Edema Inspectra Labeler  ...  \\\n",
              "0                                 1                       0  ...   \n",
              "1                                 0                       0  ...   \n",
              "2                                 0                       0  ...   \n",
              "3                                 0                       0  ...   \n",
              "4                                 0                       0  ...   \n",
              "...                             ...                     ...  ...   \n",
              "4557                              0                       0  ...   \n",
              "4558                              0                       0  ...   \n",
              "4559                              0                       0  ...   \n",
              "4560                              1                       0  ...   \n",
              "4561                              0                       0  ...   \n",
              "\n",
              "0    Atelectasis Inspectra Labeler Pleural Effusion Inspectra Labeler  \\\n",
              "0                                0                                  1   \n",
              "1                                0                                  0   \n",
              "2                                0                                  1   \n",
              "3                                0                                  1   \n",
              "4                                0                                  1   \n",
              "...                            ...                                ...   \n",
              "4557                             0                                  1   \n",
              "4558                             0                                  1   \n",
              "4559                             0                                  1   \n",
              "4560                             0                                  0   \n",
              "4561                             0                                  1   \n",
              "\n",
              "0    Lung Lesion Inspectra Labeler Inspectra Lung Opacity v1 Balanced Score  \\\n",
              "0                                0                             0.3424621841   \n",
              "1                                0                             0.6295449147   \n",
              "2                                0                             0.9400387571   \n",
              "3                                0                             0.1334314838   \n",
              "4                                0                             0.8783668403   \n",
              "...                            ...                                      ...   \n",
              "4557                             0                             0.6749139683   \n",
              "4558                             0                             0.7881276103   \n",
              "4559                             1                             0.8443707129   \n",
              "4560                             1                             0.8953606978   \n",
              "4561                             0                             0.5784251142   \n",
              "\n",
              "0    Mass Balanced Score Nodule Balanced Score Edema Balanced Score  \\\n",
              "0           0.2581134735          0.2577210474          0.190172492   \n",
              "1          0.08568040545           0.368485034         0.0263565687   \n",
              "2           0.2294832248          0.4388088888         0.0455660058   \n",
              "3          0.07123852055          0.1448232296        0.06152678248   \n",
              "4           0.1155542338          0.2204621596        0.04706450117   \n",
              "...                  ...                   ...                  ...   \n",
              "4557        0.2361295826           0.407994873        0.06792504001   \n",
              "4558        0.2617268099          0.5536876881        0.05206789979   \n",
              "4559        0.5786528594          0.6166951418        0.05021092042   \n",
              "4560         0.117052136          0.5153906885          0.384864837   \n",
              "4561        0.2288156936          0.3397977783        0.05724817432   \n",
              "\n",
              "0    Atelectasis Balanced Score Cardiomegaly Balanced Score  \\\n",
              "0                  0.4214429448                0.2302414994   \n",
              "1                  0.0401865423               0.01557852071   \n",
              "2                  0.4155477142               0.03378489308   \n",
              "3                  0.2577919648                 0.104567395   \n",
              "4                  0.4382139311               0.02227249072   \n",
              "...                         ...                         ...   \n",
              "4557               0.4530317066                0.2317463295   \n",
              "4558               0.4764402244                0.1293609039   \n",
              "4559               0.4110298796              0.009381104377   \n",
              "4560                 0.43920031                0.9686396125   \n",
              "4561               0.4367792828                 0.105213416   \n",
              "\n",
              "0    Pleural Effusion Balanced Score  \n",
              "0                       0.8176410373  \n",
              "1                      0.01015650975  \n",
              "2                        0.690142133  \n",
              "3                       0.1711762308  \n",
              "4                       0.4959128867  \n",
              "...                              ...  \n",
              "4557                    0.4591987993  \n",
              "4558                    0.3912950119  \n",
              "4559                    0.5988893739  \n",
              "4560                    0.1145209179  \n",
              "4561                    0.4532801676  \n",
              "\n",
              "[4562 rows x 21 columns]"
            ],
            "text/html": [
              "\n",
              "  <div id=\"df-de30a29d-2827-4343-97e1-9025ae44578a\">\n",
              "    <div class=\"colab-df-container\">\n",
              "      <div>\n",
              "<style scoped>\n",
              "    .dataframe tbody tr th:only-of-type {\n",
              "        vertical-align: middle;\n",
              "    }\n",
              "\n",
              "    .dataframe tbody tr th {\n",
              "        vertical-align: top;\n",
              "    }\n",
              "\n",
              "    .dataframe thead th {\n",
              "        text-align: right;\n",
              "    }\n",
              "</style>\n",
              "<table border=\"1\" class=\"dataframe\">\n",
              "  <thead>\n",
              "    <tr style=\"text-align: right;\">\n",
              "      <th></th>\n",
              "      <th>Image Index</th>\n",
              "      <th>Reports</th>\n",
              "      <th>Cardiomegaly BERT Labeler</th>\n",
              "      <th>Edema BERT Labeler</th>\n",
              "      <th>Inspectra Lung Opacity v1 BERT Labeler</th>\n",
              "      <th>Atelectasis BERT Labeler</th>\n",
              "      <th>Pleural Effusion BERT Labeler</th>\n",
              "      <th>Lung Lesion BERT Labeler</th>\n",
              "      <th>Cardiomegaly Inspectra Labeler</th>\n",
              "      <th>Edema Inspectra Labeler</th>\n",
              "      <th>...</th>\n",
              "      <th>Atelectasis Inspectra Labeler</th>\n",
              "      <th>Pleural Effusion Inspectra Labeler</th>\n",
              "      <th>Lung Lesion Inspectra Labeler</th>\n",
              "      <th>Inspectra Lung Opacity v1 Balanced Score</th>\n",
              "      <th>Mass Balanced Score</th>\n",
              "      <th>Nodule Balanced Score</th>\n",
              "      <th>Edema Balanced Score</th>\n",
              "      <th>Atelectasis Balanced Score</th>\n",
              "      <th>Cardiomegaly Balanced Score</th>\n",
              "      <th>Pleural Effusion Balanced Score</th>\n",
              "    </tr>\n",
              "  </thead>\n",
              "  <tbody>\n",
              "    <tr>\n",
              "      <th>0</th>\n",
              "      <td>20306927</td>\n",
              "      <td>Chest PA upright;\\n follow up film , compared ...</td>\n",
              "      <td>1</td>\n",
              "      <td>0</td>\n",
              "      <td>0</td>\n",
              "      <td>0</td>\n",
              "      <td>0</td>\n",
              "      <td>0</td>\n",
              "      <td>1</td>\n",
              "      <td>0</td>\n",
              "      <td>...</td>\n",
              "      <td>0</td>\n",
              "      <td>1</td>\n",
              "      <td>0</td>\n",
              "      <td>0.3424621841</td>\n",
              "      <td>0.2581134735</td>\n",
              "      <td>0.2577210474</td>\n",
              "      <td>0.190172492</td>\n",
              "      <td>0.4214429448</td>\n",
              "      <td>0.2302414994</td>\n",
              "      <td>0.8176410373</td>\n",
              "    </tr>\n",
              "    <tr>\n",
              "      <th>1</th>\n",
              "      <td>20308456</td>\n",
              "      <td>Chest;\\n\\n  Minimal fibrosis at RUL .\\n  The l...</td>\n",
              "      <td>0</td>\n",
              "      <td>0</td>\n",
              "      <td>0</td>\n",
              "      <td>0</td>\n",
              "      <td>1</td>\n",
              "      <td>0</td>\n",
              "      <td>0</td>\n",
              "      <td>0</td>\n",
              "      <td>...</td>\n",
              "      <td>0</td>\n",
              "      <td>0</td>\n",
              "      <td>0</td>\n",
              "      <td>0.6295449147</td>\n",
              "      <td>0.08568040545</td>\n",
              "      <td>0.368485034</td>\n",
              "      <td>0.0263565687</td>\n",
              "      <td>0.0401865423</td>\n",
              "      <td>0.01557852071</td>\n",
              "      <td>0.01015650975</td>\n",
              "    </tr>\n",
              "    <tr>\n",
              "      <th>2</th>\n",
              "      <td>20309045</td>\n",
              "      <td>CHEST\\n\\nReticulonodular infiltration at RUL. ...</td>\n",
              "      <td>0</td>\n",
              "      <td>0</td>\n",
              "      <td>0</td>\n",
              "      <td>0</td>\n",
              "      <td>0</td>\n",
              "      <td>1</td>\n",
              "      <td>0</td>\n",
              "      <td>0</td>\n",
              "      <td>...</td>\n",
              "      <td>0</td>\n",
              "      <td>1</td>\n",
              "      <td>0</td>\n",
              "      <td>0.9400387571</td>\n",
              "      <td>0.2294832248</td>\n",
              "      <td>0.4388088888</td>\n",
              "      <td>0.0455660058</td>\n",
              "      <td>0.4155477142</td>\n",
              "      <td>0.03378489308</td>\n",
              "      <td>0.690142133</td>\n",
              "    </tr>\n",
              "    <tr>\n",
              "      <th>3</th>\n",
              "      <td>20309306</td>\n",
              "      <td>CHEST\\n\\nRt hydropneumothorax is seen.\\nLeft l...</td>\n",
              "      <td>0</td>\n",
              "      <td>0</td>\n",
              "      <td>0</td>\n",
              "      <td>0</td>\n",
              "      <td>0</td>\n",
              "      <td>0</td>\n",
              "      <td>0</td>\n",
              "      <td>0</td>\n",
              "      <td>...</td>\n",
              "      <td>0</td>\n",
              "      <td>1</td>\n",
              "      <td>0</td>\n",
              "      <td>0.1334314838</td>\n",
              "      <td>0.07123852055</td>\n",
              "      <td>0.1448232296</td>\n",
              "      <td>0.06152678248</td>\n",
              "      <td>0.2577919648</td>\n",
              "      <td>0.104567395</td>\n",
              "      <td>0.1711762308</td>\n",
              "    </tr>\n",
              "    <tr>\n",
              "      <th>4</th>\n",
              "      <td>20313861</td>\n",
              "      <td>CXR PA upright\\n\\nPulmonary infiltration at RL...</td>\n",
              "      <td>0</td>\n",
              "      <td>0</td>\n",
              "      <td>1</td>\n",
              "      <td>0</td>\n",
              "      <td>0</td>\n",
              "      <td>0</td>\n",
              "      <td>0</td>\n",
              "      <td>0</td>\n",
              "      <td>...</td>\n",
              "      <td>0</td>\n",
              "      <td>1</td>\n",
              "      <td>0</td>\n",
              "      <td>0.8783668403</td>\n",
              "      <td>0.1155542338</td>\n",
              "      <td>0.2204621596</td>\n",
              "      <td>0.04706450117</td>\n",
              "      <td>0.4382139311</td>\n",
              "      <td>0.02227249072</td>\n",
              "      <td>0.4959128867</td>\n",
              "    </tr>\n",
              "    <tr>\n",
              "      <th>...</th>\n",
              "      <td>...</td>\n",
              "      <td>...</td>\n",
              "      <td>...</td>\n",
              "      <td>...</td>\n",
              "      <td>...</td>\n",
              "      <td>...</td>\n",
              "      <td>...</td>\n",
              "      <td>...</td>\n",
              "      <td>...</td>\n",
              "      <td>...</td>\n",
              "      <td>...</td>\n",
              "      <td>...</td>\n",
              "      <td>...</td>\n",
              "      <td>...</td>\n",
              "      <td>...</td>\n",
              "      <td>...</td>\n",
              "      <td>...</td>\n",
              "      <td>...</td>\n",
              "      <td>...</td>\n",
              "      <td>...</td>\n",
              "      <td>...</td>\n",
              "    </tr>\n",
              "    <tr>\n",
              "      <th>4557</th>\n",
              "      <td>25100320</td>\n",
              "      <td>CXR\\n\\nNo interval change of fibrosis and trac...</td>\n",
              "      <td>0</td>\n",
              "      <td>0</td>\n",
              "      <td>0</td>\n",
              "      <td>0</td>\n",
              "      <td>0</td>\n",
              "      <td>0</td>\n",
              "      <td>0</td>\n",
              "      <td>0</td>\n",
              "      <td>...</td>\n",
              "      <td>0</td>\n",
              "      <td>1</td>\n",
              "      <td>0</td>\n",
              "      <td>0.6749139683</td>\n",
              "      <td>0.2361295826</td>\n",
              "      <td>0.407994873</td>\n",
              "      <td>0.06792504001</td>\n",
              "      <td>0.4530317066</td>\n",
              "      <td>0.2317463295</td>\n",
              "      <td>0.4591987993</td>\n",
              "    </tr>\n",
              "    <tr>\n",
              "      <th>4558</th>\n",
              "      <td>25100471</td>\n",
              "      <td>CXR PA upright\\n\\nComparison to prior radiogra...</td>\n",
              "      <td>0</td>\n",
              "      <td>0</td>\n",
              "      <td>0</td>\n",
              "      <td>0</td>\n",
              "      <td>0</td>\n",
              "      <td>0</td>\n",
              "      <td>0</td>\n",
              "      <td>0</td>\n",
              "      <td>...</td>\n",
              "      <td>0</td>\n",
              "      <td>1</td>\n",
              "      <td>0</td>\n",
              "      <td>0.7881276103</td>\n",
              "      <td>0.2617268099</td>\n",
              "      <td>0.5536876881</td>\n",
              "      <td>0.05206789979</td>\n",
              "      <td>0.4764402244</td>\n",
              "      <td>0.1293609039</td>\n",
              "      <td>0.3912950119</td>\n",
              "    </tr>\n",
              "    <tr>\n",
              "      <th>4559</th>\n",
              "      <td>25100802</td>\n",
              "      <td>CXR PA\\n\\nCompared with previous study: 29/03/...</td>\n",
              "      <td>0</td>\n",
              "      <td>0</td>\n",
              "      <td>0</td>\n",
              "      <td>0</td>\n",
              "      <td>0</td>\n",
              "      <td>1</td>\n",
              "      <td>0</td>\n",
              "      <td>0</td>\n",
              "      <td>...</td>\n",
              "      <td>0</td>\n",
              "      <td>1</td>\n",
              "      <td>1</td>\n",
              "      <td>0.8443707129</td>\n",
              "      <td>0.5786528594</td>\n",
              "      <td>0.6166951418</td>\n",
              "      <td>0.05021092042</td>\n",
              "      <td>0.4110298796</td>\n",
              "      <td>0.009381104377</td>\n",
              "      <td>0.5988893739</td>\n",
              "    </tr>\n",
              "    <tr>\n",
              "      <th>4560</th>\n",
              "      <td>25103594</td>\n",
              "      <td>Chest CXR\\n\\nFibrotic and interstitial infiltr...</td>\n",
              "      <td>1</td>\n",
              "      <td>0</td>\n",
              "      <td>1</td>\n",
              "      <td>0</td>\n",
              "      <td>1</td>\n",
              "      <td>1</td>\n",
              "      <td>1</td>\n",
              "      <td>0</td>\n",
              "      <td>...</td>\n",
              "      <td>0</td>\n",
              "      <td>0</td>\n",
              "      <td>1</td>\n",
              "      <td>0.8953606978</td>\n",
              "      <td>0.117052136</td>\n",
              "      <td>0.5153906885</td>\n",
              "      <td>0.384864837</td>\n",
              "      <td>0.43920031</td>\n",
              "      <td>0.9686396125</td>\n",
              "      <td>0.1145209179</td>\n",
              "    </tr>\n",
              "    <tr>\n",
              "      <th>4561</th>\n",
              "      <td>25106154</td>\n",
              "      <td>CXR PA\\n\\nNo change of small amount of right e...</td>\n",
              "      <td>0</td>\n",
              "      <td>0</td>\n",
              "      <td>0</td>\n",
              "      <td>0</td>\n",
              "      <td>0</td>\n",
              "      <td>0</td>\n",
              "      <td>0</td>\n",
              "      <td>0</td>\n",
              "      <td>...</td>\n",
              "      <td>0</td>\n",
              "      <td>1</td>\n",
              "      <td>0</td>\n",
              "      <td>0.5784251142</td>\n",
              "      <td>0.2288156936</td>\n",
              "      <td>0.3397977783</td>\n",
              "      <td>0.05724817432</td>\n",
              "      <td>0.4367792828</td>\n",
              "      <td>0.105213416</td>\n",
              "      <td>0.4532801676</td>\n",
              "    </tr>\n",
              "  </tbody>\n",
              "</table>\n",
              "<p>4562 rows × 21 columns</p>\n",
              "</div>\n",
              "      <button class=\"colab-df-convert\" onclick=\"convertToInteractive('df-de30a29d-2827-4343-97e1-9025ae44578a')\"\n",
              "              title=\"Convert this dataframe to an interactive table.\"\n",
              "              style=\"display:none;\">\n",
              "        \n",
              "  <svg xmlns=\"http://www.w3.org/2000/svg\" height=\"24px\"viewBox=\"0 0 24 24\"\n",
              "       width=\"24px\">\n",
              "    <path d=\"M0 0h24v24H0V0z\" fill=\"none\"/>\n",
              "    <path d=\"M18.56 5.44l.94 2.06.94-2.06 2.06-.94-2.06-.94-.94-2.06-.94 2.06-2.06.94zm-11 1L8.5 8.5l.94-2.06 2.06-.94-2.06-.94L8.5 2.5l-.94 2.06-2.06.94zm10 10l.94 2.06.94-2.06 2.06-.94-2.06-.94-.94-2.06-.94 2.06-2.06.94z\"/><path d=\"M17.41 7.96l-1.37-1.37c-.4-.4-.92-.59-1.43-.59-.52 0-1.04.2-1.43.59L10.3 9.45l-7.72 7.72c-.78.78-.78 2.05 0 2.83L4 21.41c.39.39.9.59 1.41.59.51 0 1.02-.2 1.41-.59l7.78-7.78 2.81-2.81c.8-.78.8-2.07 0-2.86zM5.41 20L4 18.59l7.72-7.72 1.47 1.35L5.41 20z\"/>\n",
              "  </svg>\n",
              "      </button>\n",
              "      \n",
              "  <style>\n",
              "    .colab-df-container {\n",
              "      display:flex;\n",
              "      flex-wrap:wrap;\n",
              "      gap: 12px;\n",
              "    }\n",
              "\n",
              "    .colab-df-convert {\n",
              "      background-color: #E8F0FE;\n",
              "      border: none;\n",
              "      border-radius: 50%;\n",
              "      cursor: pointer;\n",
              "      display: none;\n",
              "      fill: #1967D2;\n",
              "      height: 32px;\n",
              "      padding: 0 0 0 0;\n",
              "      width: 32px;\n",
              "    }\n",
              "\n",
              "    .colab-df-convert:hover {\n",
              "      background-color: #E2EBFA;\n",
              "      box-shadow: 0px 1px 2px rgba(60, 64, 67, 0.3), 0px 1px 3px 1px rgba(60, 64, 67, 0.15);\n",
              "      fill: #174EA6;\n",
              "    }\n",
              "\n",
              "    [theme=dark] .colab-df-convert {\n",
              "      background-color: #3B4455;\n",
              "      fill: #D2E3FC;\n",
              "    }\n",
              "\n",
              "    [theme=dark] .colab-df-convert:hover {\n",
              "      background-color: #434B5C;\n",
              "      box-shadow: 0px 1px 3px 1px rgba(0, 0, 0, 0.15);\n",
              "      filter: drop-shadow(0px 1px 2px rgba(0, 0, 0, 0.3));\n",
              "      fill: #FFFFFF;\n",
              "    }\n",
              "  </style>\n",
              "\n",
              "      <script>\n",
              "        const buttonEl =\n",
              "          document.querySelector('#df-de30a29d-2827-4343-97e1-9025ae44578a button.colab-df-convert');\n",
              "        buttonEl.style.display =\n",
              "          google.colab.kernel.accessAllowed ? 'block' : 'none';\n",
              "\n",
              "        async function convertToInteractive(key) {\n",
              "          const element = document.querySelector('#df-de30a29d-2827-4343-97e1-9025ae44578a');\n",
              "          const dataTable =\n",
              "            await google.colab.kernel.invokeFunction('convertToInteractive',\n",
              "                                                     [key], {});\n",
              "          if (!dataTable) return;\n",
              "\n",
              "          const docLinkHtml = 'Like what you see? Visit the ' +\n",
              "            '<a target=\"_blank\" href=https://colab.research.google.com/notebooks/data_table.ipynb>data table notebook</a>'\n",
              "            + ' to learn more about interactive tables.';\n",
              "          element.innerHTML = '';\n",
              "          dataTable['output_type'] = 'display_data';\n",
              "          await google.colab.output.renderOutput(dataTable, element);\n",
              "          const docLink = document.createElement('div');\n",
              "          docLink.innerHTML = docLinkHtml;\n",
              "          element.appendChild(docLink);\n",
              "        }\n",
              "      </script>\n",
              "    </div>\n",
              "  </div>\n",
              "  "
            ]
          },
          "metadata": {},
          "execution_count": 33
        }
      ]
    },
    {
      "cell_type": "code",
      "source": [
        "# create report list\n",
        "pleural_b0i1_report = createReportList(pleural_b0i1_df)\n",
        "pleural_b1i0_report = createReportList(pleural_b1i0_df)\n",
        "pleural_b0i1_report[0]"
      ],
      "metadata": {
        "colab": {
          "base_uri": "https://localhost:8080/"
        },
        "id": "kqM7S5LiOSy5",
        "outputId": "30585e73-49ab-4ac7-a7bf-861ac2286f5e"
      },
      "execution_count": 34,
      "outputs": [
        {
          "output_type": "stream",
          "name": "stdout",
          "text": [
            "Lenght : 3039\n",
            "Lenght : 1523\n"
          ]
        },
        {
          "output_type": "execute_result",
          "data": {
            "text/plain": [
              "['Chest PA upright;',\n",
              " ' follow up film , compared to film on 22/3/2005',\n",
              " ' No significant changed of rt.pleural effusion, opacity of RLL.',\n",
              " ' L.t, lung is clear.',\n",
              " ' remaining thickening of Rt.paratracheal soft tissue is also shown.',\n",
              " ' Heart is mild prominent in size. Tortuous thoracic aorta is seen.',\n",
              " 'ds']"
            ]
          },
          "metadata": {},
          "execution_count": 34
        }
      ]
    },
    {
      "cell_type": "code",
      "source": [
        "# define keyword to select sentence from report\n",
        "pleural_keyword = r'pleural|costophrenic'"
      ],
      "metadata": {
        "id": "YZDWQzckOYJ_"
      },
      "execution_count": 35,
      "outputs": []
    },
    {
      "cell_type": "markdown",
      "source": [
        "## BERT 0, Inspectra 1"
      ],
      "metadata": {
        "id": "6i9jdL98QSpg"
      }
    },
    {
      "cell_type": "markdown",
      "source": [
        "Without keyword"
      ],
      "metadata": {
        "id": "QzkDPe2OjpAi"
      }
    },
    {
      "cell_type": "code",
      "source": [
        "pleural_b0i1_unigram = createPatternNgrams(pleural_b0i1_report, 1)"
      ],
      "metadata": {
        "id": "lsIyrXeY2PtX"
      },
      "execution_count": 36,
      "outputs": []
    },
    {
      "cell_type": "code",
      "source": [
        "pleural_b0i1_bigram = createPatternNgrams(pleural_b0i1_report, 2)\n",
        "list(pleural_b0i1_bigram.items())[:20]"
      ],
      "metadata": {
        "colab": {
          "base_uri": "https://localhost:8080/"
        },
        "id": "y7fK_CcITIQ_",
        "outputId": "a0e27ce2-d3c9-4494-b1b4-0e1d751036c2"
      },
      "execution_count": 37,
      "outputs": [
        {
          "output_type": "execute_result",
          "data": {
            "text/plain": [
              "[(('<s>', 'no'), 4014),\n",
              " (('change', 'of'), 3442),\n",
              " (('pleural', 'effusion'), 2759),\n",
              " (('effusion', '<\\\\s>'), 1840),\n",
              " (('no', 'change'), 1800),\n",
              " (('<s>', 'the'), 1799),\n",
              " (('right', 'pleural'), 1310),\n",
              " (('no', 'significant'), 1290),\n",
              " (('significant', 'change'), 1195),\n",
              " (('bony', 'thorax'), 1172),\n",
              " (('at', 'right'), 997),\n",
              " (('<\\\\s>', '<s>'), 982),\n",
              " (('noted', '<\\\\s>'), 974),\n",
              " (('of', 'right'), 939),\n",
              " (('thorax', 'is'), 925),\n",
              " (('seen', '<\\\\s>'), 921),\n",
              " (('left', 'pleural'), 907),\n",
              " (('is', 'seen'), 900),\n",
              " (('compared', 'with'), 885),\n",
              " (('intact', '<\\\\s>'), 881)]"
            ]
          },
          "metadata": {},
          "execution_count": 37
        }
      ]
    },
    {
      "cell_type": "code",
      "source": [
        "pleural_b0i1_trigram = createPatternNgrams(pleural_b0i1_report, 3)\n",
        "list(pleural_b0i1_trigram.items())[:20]"
      ],
      "metadata": {
        "colab": {
          "base_uri": "https://localhost:8080/"
        },
        "id": "mVbRS6c8Ufkg",
        "outputId": "44c81d1e-0c86-44a0-f326-aad499e43e94"
      },
      "execution_count": 38,
      "outputs": [
        {
          "output_type": "execute_result",
          "data": {
            "text/plain": [
              "[(('no', 'change', 'of'), 1724),\n",
              " (('pleural', 'effusion', '<\\\\s>'), 1671),\n",
              " (('right', 'pleural', 'effusion'), 1252),\n",
              " (('no', 'significant', 'change'), 1191),\n",
              " (('significant', 'change', 'of'), 1131),\n",
              " (('<s>', 'no', 'change'), 1102),\n",
              " (('<s>', 'no', 'significant'), 959),\n",
              " (('bony', 'thorax', 'is'), 919),\n",
              " (('left', 'pleural', 'effusion'), 870),\n",
              " (('is', 'seen', '<\\\\s>'), 794),\n",
              " (('<s>', 'there', 'is'), 743),\n",
              " (('is', 'intact', '<\\\\s>'), 732),\n",
              " (('is', 'noted', '<\\\\s>'), 728),\n",
              " (('thorax', 'is', 'intact'), 698),\n",
              " (('compared', 'with', 'previous'), 672),\n",
              " (('<s>', 'bony', 'thorax'), 669),\n",
              " (('<s>', 'compared', 'with'), 642),\n",
              " (('of', 'right', 'pleural'), 621),\n",
              " (('<s>', 'no', 'cardiomegaly'), 604),\n",
              " (('change', 'of', 'right'), 569)]"
            ]
          },
          "metadata": {},
          "execution_count": 38
        }
      ]
    },
    {
      "cell_type": "code",
      "source": [
        "pleural_b0i1_sixgram = createPatternNgrams(pleural_b0i1_report, 6)\n",
        "list(pleural_b0i1_sixgram.items())[:20]"
      ],
      "metadata": {
        "colab": {
          "base_uri": "https://localhost:8080/"
        },
        "id": "S4gy-3hrU43O",
        "outputId": "f4141e84-264a-406d-92ed-bd781fd2b956"
      },
      "execution_count": 39,
      "outputs": [
        {
          "output_type": "execute_result",
          "data": {
            "text/plain": [
              "[(('<s>', 'bony', 'thorax', 'is', 'intact', '<\\\\s>'), 377),\n",
              " (('<s>', 'the', 'bony', 'thorax', 'is', 'intact'), 313),\n",
              " (('the', 'bony', 'thorax', 'is', 'intact', '<\\\\s>'), 313),\n",
              " (('<s>', 'the', 'heart', 'is', 'not', 'enlarged'), 287),\n",
              " (('the', 'heart', 'is', 'not', 'enlarged', '<\\\\s>'), 287),\n",
              " (('change', 'of', 'right', 'pleural', 'effusion', '<\\\\s>'), 270),\n",
              " (('<s>', 'compared', 'with', 'previous', 'chest', 'on'), 241),\n",
              " (('<s>', 'the', 'chest', 'shows', 'no', 'change'), 239),\n",
              " (('the', 'chest', 'shows', 'no', 'change', 'of'), 236),\n",
              " (('no', 'significant', 'change', 'of', 'right', 'pleural'), 203),\n",
              " (('<s>', 'bony', 'thorax', 'is', 'unremarkable', '<\\\\s>'), 201),\n",
              " (('significant', 'change', 'of', 'right', 'pleural', 'effusion'), 198),\n",
              " (('no', 'change', 'of', 'right', 'pleural', 'effusion'), 194),\n",
              " (('<s>', 'there', 'is', 'no', 'change', 'of'), 186),\n",
              " (('as', 'compared', 'to', 'prior', 'film', 'on'), 185),\n",
              " (('<s>', 'as', 'compared', 'to', 'prior', 'film'), 181),\n",
              " (('change', 'of', 'left', 'pleural', 'effusion', '<\\\\s>'), 153),\n",
              " (('<s>', 'no', 'significant', 'change', 'of', 'right'), 144),\n",
              " (('<s>', 'no', 'change', 'of', 'right', 'pleural'), 127),\n",
              " (('no', 'change', 'of', 'left', 'pleural', 'effusion'), 127)]"
            ]
          },
          "metadata": {},
          "execution_count": 39
        }
      ]
    },
    {
      "cell_type": "markdown",
      "source": [
        "With keyword"
      ],
      "metadata": {
        "id": "7MqJzeRIkNM6"
      }
    },
    {
      "cell_type": "code",
      "source": [
        "pleural_b0i1_bigramk = createPatternNgrams(pleural_b0i1_report, 2, pleural_keyword)\n",
        "list(pleural_b0i1_bigramk.items())[:20]"
      ],
      "metadata": {
        "colab": {
          "base_uri": "https://localhost:8080/"
        },
        "id": "HpQedr4lkHLz",
        "outputId": "7bf5c235-4449-4964-f08c-8b63497b5afa"
      },
      "execution_count": 40,
      "outputs": [
        {
          "output_type": "execute_result",
          "data": {
            "text/plain": [
              "[(('pleural', 'effusion'), 2759),\n",
              " (('change', 'of'), 2148),\n",
              " (('<s>', 'no'), 1947),\n",
              " (('effusion', '<\\\\s>'), 1740),\n",
              " (('right', 'pleural'), 1310),\n",
              " (('no', 'change'), 1132),\n",
              " (('left', 'pleural'), 907),\n",
              " (('no', 'significant'), 813),\n",
              " (('significant', 'change'), 753),\n",
              " (('of', 'right'), 717),\n",
              " (('<\\\\s>', '<s>'), 657),\n",
              " (('costophrenic', 'angle'), 542),\n",
              " (('there', 'is'), 512),\n",
              " (('of', 'left'), 487),\n",
              " (('<s>', 'there'), 454),\n",
              " (('<s>', 'the'), 446),\n",
              " (('clear', '<\\\\s>'), 427),\n",
              " (('effusion', 'is'), 424),\n",
              " (('is', 'no'), 402),\n",
              " (('pleural', 'thickening'), 385)]"
            ]
          },
          "metadata": {},
          "execution_count": 40
        }
      ]
    },
    {
      "cell_type": "code",
      "source": [
        "pleural_b0i1_trigramk = createPatternNgrams(pleural_b0i1_report, 3, pleural_keyword)\n",
        "list(pleural_b0i1_trigramk.items())[:20]"
      ],
      "metadata": {
        "colab": {
          "base_uri": "https://localhost:8080/"
        },
        "id": "xaoJOBOnQLsa",
        "outputId": "629202c2-993a-4bd5-e017-2df441369bb1"
      },
      "execution_count": 41,
      "outputs": [
        {
          "output_type": "execute_result",
          "data": {
            "text/plain": [
              "[(('pleural', 'effusion', '<\\\\s>'), 1671),\n",
              " (('right', 'pleural', 'effusion'), 1252),\n",
              " (('no', 'change', 'of'), 1113),\n",
              " (('left', 'pleural', 'effusion'), 870),\n",
              " (('no', 'significant', 'change'), 750),\n",
              " (('significant', 'change', 'of'), 743),\n",
              " (('<s>', 'no', 'change'), 670),\n",
              " (('of', 'right', 'pleural'), 621),\n",
              " (('<s>', 'no', 'significant'), 603),\n",
              " (('change', 'of', 'right'), 533),\n",
              " (('<s>', 'there', 'is'), 435),\n",
              " (('pleural', 'effusion', 'is'), 415),\n",
              " (('there', 'is', 'no'), 393),\n",
              " (('of', 'left', 'pleural'), 378),\n",
              " (('change', 'of', 'left'), 325),\n",
              " (('left', 'costophrenic', 'angle'), 319),\n",
              " (('bilateral', 'pleural', 'effusion'), 299),\n",
              " (('costophrenic', 'angle', 'is'), 285),\n",
              " (('<s>', 'as', 'compared'), 271),\n",
              " (('is', 'clear', '<\\\\s>'), 247)]"
            ]
          },
          "metadata": {},
          "execution_count": 41
        }
      ]
    },
    {
      "cell_type": "code",
      "source": [
        "pleural_b0i1_fourgramk = createPatternNgrams(pleural_b0i1_report, 4, pleural_keyword)\n",
        "list(pleural_b0i1_fourgramk.items())[:20]"
      ],
      "metadata": {
        "colab": {
          "base_uri": "https://localhost:8080/"
        },
        "id": "5GMStIQNQZgL",
        "outputId": "22ce2769-5622-4444-eb11-a9532a9558ca"
      },
      "execution_count": 42,
      "outputs": [
        {
          "output_type": "execute_result",
          "data": {
            "text/plain": [
              "[(('right', 'pleural', 'effusion', '<\\\\s>'), 798),\n",
              " (('no', 'significant', 'change', 'of'), 743),\n",
              " (('<s>', 'no', 'change', 'of'), 657),\n",
              " (('of', 'right', 'pleural', 'effusion'), 598),\n",
              " (('<s>', 'no', 'significant', 'change'), 560),\n",
              " (('left', 'pleural', 'effusion', '<\\\\s>'), 543),\n",
              " (('change', 'of', 'right', 'pleural'), 510),\n",
              " (('of', 'left', 'pleural', 'effusion'), 360),\n",
              " (('<s>', 'there', 'is', 'no'), 320),\n",
              " (('change', 'of', 'left', 'pleural'), 301),\n",
              " (('<s>', 'as', 'compared', 'to'), 230),\n",
              " (('no', 'change', 'of', 'right'), 223),\n",
              " (('<\\\\s>', '<s>', 'there', 'is'), 223),\n",
              " (('significant', 'change', 'of', 'right'), 206),\n",
              " (('as', 'compared', 'to', 'prior'), 195),\n",
              " (('of', 'bilateral', 'pleural', 'effusion'), 190),\n",
              " (('change', 'of', 'bilateral', 'pleural'), 182),\n",
              " (('costophrenic', 'angle', 'is', 'clear'), 175),\n",
              " (('angle', 'is', 'clear', '<\\\\s>'), 175),\n",
              " (('left', 'costophrenic', 'angle', 'is'), 174)]"
            ]
          },
          "metadata": {},
          "execution_count": 42
        }
      ]
    },
    {
      "cell_type": "code",
      "source": [
        "pleural_b0i1_fivegramk = createPatternNgrams(pleural_b0i1_report, 5, pleural_keyword)\n",
        "list(pleural_b0i1_fivegramk.items())[:20]"
      ],
      "metadata": {
        "colab": {
          "base_uri": "https://localhost:8080/"
        },
        "id": "wUqPlmp3ixbO",
        "outputId": "937d88d4-4849-48f1-91e8-e13a859aec61"
      },
      "execution_count": 43,
      "outputs": [
        {
          "output_type": "execute_result",
          "data": {
            "text/plain": [
              "[(('<s>', 'no', 'significant', 'change', 'of'), 556),\n",
              " (('change', 'of', 'right', 'pleural', 'effusion'), 489),\n",
              " (('of', 'right', 'pleural', 'effusion', '<\\\\s>'), 335),\n",
              " (('change', 'of', 'left', 'pleural', 'effusion'), 290),\n",
              " (('no', 'significant', 'change', 'of', 'right'), 206),\n",
              " (('no', 'change', 'of', 'right', 'pleural'), 204),\n",
              " (('significant', 'change', 'of', 'right', 'pleural'), 203),\n",
              " (('of', 'left', 'pleural', 'effusion', '<\\\\s>'), 196),\n",
              " (('<s>', 'as', 'compared', 'to', 'prior'), 191),\n",
              " (('costophrenic', 'angle', 'is', 'clear', '<\\\\s>'), 174),\n",
              " (('compared', 'to', 'prior', 'film', 'on'), 172),\n",
              " (('change', 'of', 'bilateral', 'pleural', 'effusion'), 171),\n",
              " (('as', 'compared', 'to', 'prior', 'film'), 170),\n",
              " (('<s>', 'the', 'chest', 'shows', 'no'), 165),\n",
              " (('pleural', 'effusion', 'is', 'seen', '<\\\\s>'), 162),\n",
              " (('there', 'is', 'no', 'change', 'of'), 150),\n",
              " (('the', 'chest', 'shows', 'no', 'change'), 149),\n",
              " (('chest', 'shows', 'no', 'change', 'of'), 148),\n",
              " (('<s>', 'there', 'is', 'no', 'change'), 141),\n",
              " (('<s>', 'no', 'change', 'of', 'right'), 138)]"
            ]
          },
          "metadata": {},
          "execution_count": 43
        }
      ]
    },
    {
      "cell_type": "code",
      "source": [
        "pleural_b0i1_sixgramk = createPatternNgrams(pleural_b0i1_report, 6, pleural_keyword)\n",
        "list(pleural_b0i1_sixgramk.items())[:20]"
      ],
      "metadata": {
        "colab": {
          "base_uri": "https://localhost:8080/"
        },
        "id": "Kmk4MMHWUx85",
        "outputId": "fd8f38c8-6f7f-44f9-dca7-6f769a328ca0"
      },
      "execution_count": 44,
      "outputs": [
        {
          "output_type": "execute_result",
          "data": {
            "text/plain": [
              "[(('change', 'of', 'right', 'pleural', 'effusion', '<\\\\s>'), 270),\n",
              " (('no', 'significant', 'change', 'of', 'right', 'pleural'), 203),\n",
              " (('significant', 'change', 'of', 'right', 'pleural', 'effusion'), 198),\n",
              " (('no', 'change', 'of', 'right', 'pleural', 'effusion'), 194),\n",
              " (('as', 'compared', 'to', 'prior', 'film', 'on'), 170),\n",
              " (('<s>', 'as', 'compared', 'to', 'prior', 'film'), 166),\n",
              " (('change', 'of', 'left', 'pleural', 'effusion', '<\\\\s>'), 153),\n",
              " (('<s>', 'the', 'chest', 'shows', 'no', 'change'), 149),\n",
              " (('the', 'chest', 'shows', 'no', 'change', 'of'), 148),\n",
              " (('<s>', 'there', 'is', 'no', 'change', 'of'), 139),\n",
              " (('<s>', 'no', 'significant', 'change', 'of', 'right'), 135),\n",
              " (('<s>', 'no', 'change', 'of', 'right', 'pleural'), 127),\n",
              " (('no', 'change', 'of', 'left', 'pleural', 'effusion'), 127),\n",
              " (('left', 'costophrenic', 'angle', 'is', 'clear', '<\\\\s>'), 120),\n",
              " (('no', 'significant', 'change', 'of', 'left', 'pleural'), 112),\n",
              " (('significant', 'change', 'of', 'left', 'pleural', 'effusion'), 112),\n",
              " (('<s>', 'left', 'costophrenic', 'angle', 'is', 'clear'), 106),\n",
              " (('<s>', 'no', 'significant', 'change', 'of', 'left'), 95),\n",
              " (('<s>', 'no', 'change', 'of', 'left', 'pleural'), 95),\n",
              " (('change', 'of', 'bilateral', 'pleural', 'effusion', '<\\\\s>'), 88)]"
            ]
          },
          "metadata": {},
          "execution_count": 44
        }
      ]
    },
    {
      "cell_type": "markdown",
      "source": [
        "## BERT 1, Inspectra 0"
      ],
      "metadata": {
        "id": "pqBP2njeQ4Fy"
      }
    },
    {
      "cell_type": "markdown",
      "source": [
        "Without keyword"
      ],
      "metadata": {
        "id": "3zQmMZ5cjvHQ"
      }
    },
    {
      "cell_type": "code",
      "source": [
        "pleural_b1i0_unigram = createPatternNgrams(pleural_b1i0_report, 1)"
      ],
      "metadata": {
        "id": "aA1DJkJJ-1mY"
      },
      "execution_count": 45,
      "outputs": []
    },
    {
      "cell_type": "code",
      "source": [
        "pleural_b1i0_bigram = createPatternNgrams(pleural_b1i0_report, 2)\n",
        "list(pleural_b1i0_bigram.items())[:20]"
      ],
      "metadata": {
        "colab": {
          "base_uri": "https://localhost:8080/"
        },
        "id": "uKeW5y5RjZoz",
        "outputId": "c4e6a4c8-023e-4e50-f060-7aad4ddabb66"
      },
      "execution_count": 46,
      "outputs": [
        {
          "output_type": "execute_result",
          "data": {
            "text/plain": [
              "[(('<s>', 'no'), 899),\n",
              " (('<s>', 'the'), 673),\n",
              " (('<s>', 'normal'), 604),\n",
              " (('<s>', 'both'), 479),\n",
              " (('both', 'costophrenic'), 463),\n",
              " (('<s>', 'bony'), 449),\n",
              " (('clear', '<\\\\s>'), 438),\n",
              " (('bony', 'thorax'), 406),\n",
              " (('intact', '<\\\\s>'), 396),\n",
              " (('<s>', 'unremarkable'), 372),\n",
              " (('<s>', 'there'), 364),\n",
              " (('noted', '<\\\\s>'), 355),\n",
              " (('unremarkable', '<\\\\s>'), 349),\n",
              " (('are', 'clear'), 342),\n",
              " (('there', 'is'), 335),\n",
              " (('fibrosis', 'at'), 330),\n",
              " (('is', 'intact'), 322),\n",
              " (('<\\\\s>', '<s>'), 322),\n",
              " (('pleural', 'effusion'), 317),\n",
              " (('<s>', 'findings'), 315)]"
            ]
          },
          "metadata": {},
          "execution_count": 46
        }
      ]
    },
    {
      "cell_type": "code",
      "source": [
        "pleural_b1i0_trigram = createPatternNgrams(pleural_b1i0_report, 3)\n",
        "list(pleural_b1i0_trigram.items())[:20]"
      ],
      "metadata": {
        "colab": {
          "base_uri": "https://localhost:8080/"
        },
        "id": "7cSFbUOMQhoN",
        "outputId": "52634ea6-5caf-4489-faf5-bb3ad45fc1dc"
      },
      "execution_count": 47,
      "outputs": [
        {
          "output_type": "execute_result",
          "data": {
            "text/plain": [
              "[(('<s>', 'both', 'costophrenic'), 415),\n",
              " (('are', 'clear', '<\\\\s>'), 342),\n",
              " (('is', 'intact', '<\\\\s>'), 321),\n",
              " (('<s>', 'there', 'is'), 311),\n",
              " (('bony', 'thorax', 'is'), 304),\n",
              " (('<s>', 'findings', '<\\\\s>'), 291),\n",
              " (('thorax', 'is', 'intact'), 287),\n",
              " (('both', 'costophrenic', 'angles'), 271),\n",
              " (('is', 'noted', '<\\\\s>'), 269),\n",
              " (('costophrenic', 'angles', 'are'), 266),\n",
              " (('effusion', 'nor', 'pneumothorax'), 264),\n",
              " (('nor', 'pneumothorax', '<\\\\s>'), 262),\n",
              " (('<s>', 'impression', '<\\\\s>'), 256),\n",
              " (('angles', 'are', 'clear'), 249),\n",
              " (('<s>', 'heart', 'and'), 242),\n",
              " (('<s>', 'normal', 'heart'), 232),\n",
              " (('normal', 'heart', 'size'), 232),\n",
              " (('heart', 'size', '<\\\\s>'), 226),\n",
              " (('pulmonary', 'infiltration', '<\\\\s>'), 221),\n",
              " (('<s>', 'bony', 'thorax'), 213)]"
            ]
          },
          "metadata": {},
          "execution_count": 47
        }
      ]
    },
    {
      "cell_type": "code",
      "source": [
        "pleural_b1i0_sixgram = createPatternNgrams(pleural_b1i0_report, 6)\n",
        "list(pleural_b1i0_sixgram.items())[:20]"
      ],
      "metadata": {
        "colab": {
          "base_uri": "https://localhost:8080/"
        },
        "id": "-nK7eX0bVDlQ",
        "outputId": "4fc63c1b-87fb-4eff-b56d-53fe24d02338"
      },
      "execution_count": 48,
      "outputs": [
        {
          "output_type": "execute_result",
          "data": {
            "text/plain": [
              "[(('both', 'costophrenic', 'angles', 'are', 'clear', '<\\\\s>'), 228),\n",
              " (('<s>', 'both', 'costophrenic', 'angles', 'are', 'clear'), 227),\n",
              " (('<s>', 'neither', 'plerual', 'effusion', 'nor', 'pneumothorax'), 191),\n",
              " (('neither', 'plerual', 'effusion', 'nor', 'pneumothorax', '<\\\\s>'), 191),\n",
              " (('<s>', 'bony', 'thorax', 'is', 'intact', '<\\\\s>'), 163),\n",
              " (('costophrenic', 'sulci', 'are', 'not', 'remarkable', '<\\\\s>'), 130),\n",
              " (('<s>', 'the', 'bony', 'thorax', 'is', 'intact'), 120),\n",
              " (('the', 'bony', 'thorax', 'is', 'intact', '<\\\\s>'), 120),\n",
              " (('<s>', 'both', 'costophrenic', 'sulci', 'are', 'not'), 106),\n",
              " (('both', 'costophrenic', 'sulci', 'are', 'not', 'remarkable'), 106),\n",
              " (('<s>', 'the', 'heart', 'is', 'not', 'enlarged'), 101),\n",
              " (('the', 'heart', 'is', 'not', 'enlarged', '<\\\\s>'), 101),\n",
              " (('<s>', 'neither', 'pleural', 'effusion', 'nor', 'pneumothorax'), 72),\n",
              " (('neither', 'pleural', 'effusion', 'nor', 'pneumothorax', '<\\\\s>'), 71),\n",
              " (('heart', 'and', 'great', 'vessels', 'are', 'unremarkable'), 47),\n",
              " (('and', 'great', 'vessels', 'are', 'unremarkable', '<\\\\s>'), 47),\n",
              " (('<s>', 'heart', 'and', 'great', 'vessels', 'are'), 46),\n",
              " (('<s>', 'compared', 'with', 'previous', 'chest', 'on'), 45),\n",
              " (('<s>', 'degenerative', 'change', 'of', 'spine', '<\\\\s>'), 43),\n",
              " (('<s>', 'no', 'active', 'pulmonary', 'disease', '<\\\\s>'), 40)]"
            ]
          },
          "metadata": {},
          "execution_count": 48
        }
      ]
    },
    {
      "cell_type": "markdown",
      "source": [
        "With keyword"
      ],
      "metadata": {
        "id": "FmhrBf7KkLGS"
      }
    },
    {
      "cell_type": "code",
      "source": [
        "pleural_b1i0_bigramk = createPatternNgrams(pleural_b1i0_report, 2, pleural_keyword)\n",
        "list(pleural_b1i0_bigramk.items())[:20]"
      ],
      "metadata": {
        "colab": {
          "base_uri": "https://localhost:8080/"
        },
        "id": "mlpga89WjLLB",
        "outputId": "f416f81c-0446-47d4-e140-339441aca901"
      },
      "execution_count": 49,
      "outputs": [
        {
          "output_type": "execute_result",
          "data": {
            "text/plain": [
              "[(('both', 'costophrenic'), 463),\n",
              " (('<s>', 'both'), 440),\n",
              " (('clear', '<\\\\s>'), 340),\n",
              " (('pleural', 'effusion'), 317),\n",
              " (('are', 'clear'), 302),\n",
              " (('costophrenic', 'angles'), 283),\n",
              " (('angles', 'are'), 266),\n",
              " (('costophrenic', 'sulci'), 235),\n",
              " (('sulci', 'are'), 182),\n",
              " (('pleural', 'thickening'), 177),\n",
              " (('are', 'not'), 169),\n",
              " (('not', 'remarkable'), 169),\n",
              " (('remarkable', '<\\\\s>'), 169),\n",
              " (('right', 'pleural'), 158),\n",
              " (('costophrenic', 'angle'), 158),\n",
              " (('effusion', '<\\\\s>'), 136),\n",
              " (('<\\\\s>', '<s>'), 126),\n",
              " (('left', 'pleural'), 123),\n",
              " (('<s>', 'no'), 123),\n",
              " (('apical', 'pleural'), 97)]"
            ]
          },
          "metadata": {},
          "execution_count": 49
        }
      ]
    },
    {
      "cell_type": "code",
      "source": [
        "pleural_b1i0_trigramk = createPatternNgrams(pleural_b1i0_report, 3, pleural_keyword)\n",
        "list(pleural_b1i0_trigramk.items())[:20]"
      ],
      "metadata": {
        "colab": {
          "base_uri": "https://localhost:8080/"
        },
        "id": "jO23j8bWVEE3",
        "outputId": "f1e402bb-08cf-41e7-8c74-a2bb4e69db41"
      },
      "execution_count": 50,
      "outputs": [
        {
          "output_type": "execute_result",
          "data": {
            "text/plain": [
              "[(('<s>', 'both', 'costophrenic'), 415),\n",
              " (('are', 'clear', '<\\\\s>'), 302),\n",
              " (('both', 'costophrenic', 'angles'), 271),\n",
              " (('costophrenic', 'angles', 'are'), 266),\n",
              " (('angles', 'are', 'clear'), 235),\n",
              " (('both', 'costophrenic', 'sulci'), 185),\n",
              " (('costophrenic', 'sulci', 'are'), 182),\n",
              " (('not', 'remarkable', '<\\\\s>'), 169),\n",
              " (('are', 'not', 'remarkable'), 167),\n",
              " (('sulci', 'are', 'not'), 130),\n",
              " (('pleural', 'effusion', '<\\\\s>'), 130),\n",
              " (('pleural', 'thickening', '<\\\\s>'), 89),\n",
              " (('right', 'pleural', 'effusion'), 85),\n",
              " (('apical', 'pleural', 'thickening'), 83),\n",
              " (('left', 'costophrenic', 'angle'), 74),\n",
              " (('<s>', 'neither', 'pleural'), 72),\n",
              " (('neither', 'pleural', 'effusion'), 72),\n",
              " (('pleural', 'effusion', 'nor'), 72),\n",
              " (('effusion', 'nor', 'pneumothorax'), 72),\n",
              " (('nor', 'pneumothorax', '<\\\\s>'), 71)]"
            ]
          },
          "metadata": {},
          "execution_count": 50
        }
      ]
    },
    {
      "cell_type": "code",
      "source": [
        "pleural_b1i0_fourgramk = createPatternNgrams(pleural_b1i0_report, 4, pleural_keyword)\n",
        "list(pleural_b1i0_fourgramk.items())[:20]"
      ],
      "metadata": {
        "colab": {
          "base_uri": "https://localhost:8080/"
        },
        "id": "3sVQ4aNPVNdI",
        "outputId": "f6973670-b470-4562-bc0e-cdd06deacb24"
      },
      "execution_count": 51,
      "outputs": [
        {
          "output_type": "execute_result",
          "data": {
            "text/plain": [
              "[(('both', 'costophrenic', 'angles', 'are'), 255),\n",
              " (('costophrenic', 'angles', 'are', 'clear'), 235),\n",
              " (('angles', 'are', 'clear', '<\\\\s>'), 235),\n",
              " (('<s>', 'both', 'costophrenic', 'angles'), 231),\n",
              " (('<s>', 'both', 'costophrenic', 'sulci'), 181),\n",
              " (('are', 'not', 'remarkable', '<\\\\s>'), 167),\n",
              " (('both', 'costophrenic', 'sulci', 'are'), 138),\n",
              " (('costophrenic', 'sulci', 'are', 'not'), 130),\n",
              " (('sulci', 'are', 'not', 'remarkable'), 130),\n",
              " (('<s>', 'neither', 'pleural', 'effusion'), 72),\n",
              " (('neither', 'pleural', 'effusion', 'nor'), 72),\n",
              " (('pleural', 'effusion', 'nor', 'pneumothorax'), 72),\n",
              " (('effusion', 'nor', 'pneumothorax', '<\\\\s>'), 71),\n",
              " (('apical', 'pleural', 'thickening', '<\\\\s>'), 58),\n",
              " (('right', 'pleural', 'effusion', '<\\\\s>'), 54),\n",
              " (('costophrenic', 'sulci', 'are', 'clear'), 48),\n",
              " (('sulci', 'are', 'clear', '<\\\\s>'), 48),\n",
              " (('<s>', 'the', 'chest', 'shows'), 41),\n",
              " (('left', 'pleural', 'effusion', '<\\\\s>'), 39),\n",
              " (('diaphragm', 'are', 'not', 'remarkable'), 36)]"
            ]
          },
          "metadata": {},
          "execution_count": 51
        }
      ]
    },
    {
      "cell_type": "code",
      "source": [
        "pleural_b1i0_fivegramk = createPatternNgrams(pleural_b1i0_report, 5, pleural_keyword)\n",
        "list(pleural_b1i0_fivegramk.items())[:20]"
      ],
      "metadata": {
        "colab": {
          "base_uri": "https://localhost:8080/"
        },
        "id": "C3jqHNEmkRlx",
        "outputId": "76f095d7-d2c6-48b7-ca71-f4db1f81fb02"
      },
      "execution_count": 52,
      "outputs": [
        {
          "output_type": "execute_result",
          "data": {
            "text/plain": [
              "[(('costophrenic', 'angles', 'are', 'clear', '<\\\\s>'), 235),\n",
              " (('<s>', 'both', 'costophrenic', 'angles', 'are'), 231),\n",
              " (('both', 'costophrenic', 'angles', 'are', 'clear'), 228),\n",
              " (('<s>', 'both', 'costophrenic', 'sulci', 'are'), 138),\n",
              " (('costophrenic', 'sulci', 'are', 'not', 'remarkable'), 130),\n",
              " (('sulci', 'are', 'not', 'remarkable', '<\\\\s>'), 130),\n",
              " (('both', 'costophrenic', 'sulci', 'are', 'not'), 106),\n",
              " (('<s>', 'neither', 'pleural', 'effusion', 'nor'), 72),\n",
              " (('neither', 'pleural', 'effusion', 'nor', 'pneumothorax'), 72),\n",
              " (('pleural', 'effusion', 'nor', 'pneumothorax', '<\\\\s>'), 71),\n",
              " (('costophrenic', 'sulci', 'are', 'clear', '<\\\\s>'), 48),\n",
              " (('diaphragm', 'are', 'not', 'remarkable', '<\\\\s>'), 36),\n",
              " (('and', 'diaphragm', 'are', 'not', 'remarkable'), 34),\n",
              " (('<s>', 'both', 'costophrenic', 'sulci', 'hili'), 31),\n",
              " (('both', 'costophrenic', 'sulci', 'hili', 'and'), 30),\n",
              " (('hili', 'and', 'diaphragm', 'are', 'not'), 30),\n",
              " (('costophrenic', 'sulci', 'hili', 'and', 'diaphragm'), 29),\n",
              " (('sulci', 'hili', 'and', 'diaphragm', 'are'), 29),\n",
              " (('both', 'costophrenic', 'sulci', 'are', 'clear'), 28),\n",
              " (('costophrenic', 'angle', 'is', 'clear', '<\\\\s>'), 28)]"
            ]
          },
          "metadata": {},
          "execution_count": 52
        }
      ]
    },
    {
      "cell_type": "code",
      "source": [
        "pleural_b1i0_sixgramk = createPatternNgrams(pleural_b1i0_report, 6, pleural_keyword)\n",
        "list(pleural_b1i0_sixgramk.items())[:20]"
      ],
      "metadata": {
        "colab": {
          "base_uri": "https://localhost:8080/"
        },
        "id": "IuUiOWXrVcOY",
        "outputId": "66e379fe-e526-4d98-f760-a815c1714cd4"
      },
      "execution_count": 53,
      "outputs": [
        {
          "output_type": "execute_result",
          "data": {
            "text/plain": [
              "[(('both', 'costophrenic', 'angles', 'are', 'clear', '<\\\\s>'), 228),\n",
              " (('<s>', 'both', 'costophrenic', 'angles', 'are', 'clear'), 227),\n",
              " (('costophrenic', 'sulci', 'are', 'not', 'remarkable', '<\\\\s>'), 130),\n",
              " (('<s>', 'both', 'costophrenic', 'sulci', 'are', 'not'), 106),\n",
              " (('both', 'costophrenic', 'sulci', 'are', 'not', 'remarkable'), 106),\n",
              " (('<s>', 'neither', 'pleural', 'effusion', 'nor', 'pneumothorax'), 72),\n",
              " (('neither', 'pleural', 'effusion', 'nor', 'pneumothorax', '<\\\\s>'), 71),\n",
              " (('and', 'diaphragm', 'are', 'not', 'remarkable', '<\\\\s>'), 34),\n",
              " (('<s>', 'both', 'costophrenic', 'sulci', 'hili', 'and'), 30),\n",
              " (('hili', 'and', 'diaphragm', 'are', 'not', 'remarkable'), 30),\n",
              " (('both', 'costophrenic', 'sulci', 'hili', 'and', 'diaphragm'), 29),\n",
              " (('costophrenic', 'sulci', 'hili', 'and', 'diaphragm', 'are'), 29),\n",
              " (('sulci', 'hili', 'and', 'diaphragm', 'are', 'not'), 29),\n",
              " (('<s>', 'both', 'costophrenic', 'sulci', 'are', 'clear'), 28),\n",
              " (('both', 'costophrenic', 'sulci', 'are', 'clear', '<\\\\s>'), 28),\n",
              " (('<s>', 'costophrenic', 'sulci', 'are', 'not', 'remarkable'), 24),\n",
              " (('left', 'costophrenic', 'angle', 'is', 'clear', '<\\\\s>'), 17),\n",
              " (('<s>', 'bilateral', 'apical', 'pleural', 'thickening', '<\\\\s>'), 16),\n",
              " (('blunting', 'of', 'the', 'both', 'costophrenic', 'angles'), 15),\n",
              " (('of', 'the', 'both', 'costophrenic', 'angles', 'are'), 15)]"
            ]
          },
          "metadata": {},
          "execution_count": 53
        }
      ]
    },
    {
      "cell_type": "markdown",
      "source": [
        "## Find Word Before"
      ],
      "metadata": {
        "id": "vucNICNsA5ek"
      }
    },
    {
      "cell_type": "code",
      "source": [
        "before_pleural = findWordBefore(pleural_b0i1_bigram, 'pleural')\n",
        "print('pleural :', pleural_b0i1_unigram['pleural',])\n",
        "print('word before pleural :', sum(before_pleural.values()))\n",
        "list(before_pleural.items())[:10]"
      ],
      "metadata": {
        "colab": {
          "base_uri": "https://localhost:8080/"
        },
        "id": "blhKBkEt5QFv",
        "outputId": "e3b7809b-d635-457b-d99c-2428596dbe51"
      },
      "execution_count": 54,
      "outputs": [
        {
          "output_type": "stream",
          "name": "stdout",
          "text": [
            "pleural : 3323\n",
            "word before pleural : 3323\n"
          ]
        },
        {
          "output_type": "execute_result",
          "data": {
            "text/plain": [
              "[('right', 1310),\n",
              " ('left', 907),\n",
              " ('bilateral', 322),\n",
              " ('apical', 113),\n",
              " ('or', 99),\n",
              " ('of', 91),\n",
              " ('loculated', 62),\n",
              " ('and', 48),\n",
              " ('<s>', 25),\n",
              " ('be', 24)]"
            ]
          },
          "metadata": {},
          "execution_count": 54
        }
      ]
    },
    {
      "cell_type": "code",
      "source": [
        "before_costo = findWordBefore(pleural_b0i1_bigram, 'costophrenic')\n",
        "print('costophrenic :', pleural_b0i1_unigram['costophrenic',])\n",
        "print('word before costophrenic :', sum(before_costo.values()))\n",
        "list(before_costo.items())[:10]"
      ],
      "metadata": {
        "colab": {
          "base_uri": "https://localhost:8080/"
        },
        "id": "qU9VZvTD-1WB",
        "outputId": "a43e4783-e43e-4468-a86d-6c35c30b846a"
      },
      "execution_count": 55,
      "outputs": [
        {
          "output_type": "stream",
          "name": "stdout",
          "text": [
            "costophrenic : 660\n",
            "word before costophrenic : 660\n"
          ]
        },
        {
          "output_type": "execute_result",
          "data": {
            "text/plain": [
              "[('left', 341),\n",
              " ('right', 230),\n",
              " ('both', 70),\n",
              " ('bilateral', 11),\n",
              " ('blunting', 3),\n",
              " ('lt', 2),\n",
              " ('and', 1),\n",
              " ('at', 1),\n",
              " ('is', 1)]"
            ]
          },
          "metadata": {},
          "execution_count": 55
        }
      ]
    },
    {
      "cell_type": "code",
      "source": [
        "before_pleural = findWordBefore(pleural_b1i0_bigram, 'pleural')\n",
        "print('pleural :', pleural_b1i0_unigram['pleural',])\n",
        "print('word before pleural :', sum(before_pleural.values()))\n",
        "list(before_pleural.items())[:10]"
      ],
      "metadata": {
        "colab": {
          "base_uri": "https://localhost:8080/"
        },
        "id": "c-MK_rVYDypN",
        "outputId": "eba0a7f2-cafa-4f35-da20-e2860520e1a1"
      },
      "execution_count": 56,
      "outputs": [
        {
          "output_type": "stream",
          "name": "stdout",
          "text": [
            "pleural : 754\n",
            "word before pleural : 754\n"
          ]
        },
        {
          "output_type": "execute_result",
          "data": {
            "text/plain": [
              "[('right', 158),\n",
              " ('left', 123),\n",
              " ('apical', 97),\n",
              " ('neither', 72),\n",
              " ('bilateral', 67),\n",
              " ('<s>', 25),\n",
              " ('no', 23),\n",
              " ('with', 20),\n",
              " ('of', 19),\n",
              " ('and', 15)]"
            ]
          },
          "metadata": {},
          "execution_count": 56
        }
      ]
    },
    {
      "cell_type": "code",
      "source": [
        "before_costo = findWordBefore(pleural_b1i0_bigram, 'costophrenic')\n",
        "print('costophrenic :', pleural_b1i0_unigram['costophrenic',])\n",
        "print('word before costophrenic :', sum(before_costo.values()))\n",
        "list(before_costo.items())[:10]"
      ],
      "metadata": {
        "colab": {
          "base_uri": "https://localhost:8080/"
        },
        "id": "Fnsa4PQ0D5kT",
        "outputId": "42a1713a-c702-415d-ff3d-55114f41f6d9"
      },
      "execution_count": 57,
      "outputs": [
        {
          "output_type": "stream",
          "name": "stdout",
          "text": [
            "costophrenic : 696\n",
            "word before costophrenic : 696\n"
          ]
        },
        {
          "output_type": "execute_result",
          "data": {
            "text/plain": [
              "[('both', 463),\n",
              " ('left', 83),\n",
              " ('right', 83),\n",
              " ('<s>', 35),\n",
              " ('bilateral', 24),\n",
              " ('of', 2),\n",
              " ('oth', 1),\n",
              " ('and', 1),\n",
              " ('eflt', 1),\n",
              " ('blunt', 1)]"
            ]
          },
          "metadata": {},
          "execution_count": 57
        }
      ]
    },
    {
      "cell_type": "markdown",
      "source": [
        "# Edema"
      ],
      "metadata": {
        "id": "Y4m4kNfOQ-tp"
      }
    },
    {
      "cell_type": "markdown",
      "source": [
        "## Prepare Data"
      ],
      "metadata": {
        "id": "uYHZSu-ET27L"
      }
    },
    {
      "cell_type": "code",
      "source": [
        "# choose rows\n",
        "edema_df, edema_b0i1_df, edema_b1i0_df = selectData(df, 'Edema')\n",
        "edema_df"
      ],
      "metadata": {
        "colab": {
          "base_uri": "https://localhost:8080/",
          "height": 974
        },
        "id": "FIh_KAA2Qztz",
        "outputId": "dd898b9a-2607-4a6d-c158-d17773a30687"
      },
      "execution_count": 58,
      "outputs": [
        {
          "output_type": "execute_result",
          "data": {
            "text/plain": [
              "0   Image Index                                            Reports  \\\n",
              "0      20306491  CXR\\nClinical history: DM with CRF\\n     - No ...   \n",
              "1      20367612  CXR  (PA upright)\\nHx: CRF\\n\\nRt.side double l...   \n",
              "2      20538714  Chest PA upright\\n compared to film on 23/2/20...   \n",
              "3      20567665  Chest PA upright;\\nknown case CRF, on dialysis...   \n",
              "4      20573024  Chest (PA upriht view)\\n     Hisory of gouthy ...   \n",
              "..          ...                                                ...   \n",
              "279    24825847  CXR PA upright\\n\\nHistory :  recent NSTEMI,CHF...   \n",
              "280    24880152  Chest PA upright\\n  Tracheostomy tube is seen ...   \n",
              "281    24999286  CXR PA SUPINE\\n\\nFinding :\\n       Trachea is ...   \n",
              "282    25013257  CXR PA\\n\\nCompared with previous study: None\\n...   \n",
              "283    25019433  CXR PA upright\\n\\nHistory :  FU   HF. \\n\\nComp...   \n",
              "\n",
              "0   Cardiomegaly BERT Labeler Edema BERT Labeler  \\\n",
              "0                           0                  1   \n",
              "1                           1                  1   \n",
              "2                           1                  1   \n",
              "3                           1                  1   \n",
              "4                           1                  1   \n",
              "..                        ...                ...   \n",
              "279                         1                  1   \n",
              "280                         0                  1   \n",
              "281                         0                  1   \n",
              "282                         1                  1   \n",
              "283                         1                  1   \n",
              "\n",
              "0   Inspectra Lung Opacity v1 BERT Labeler Atelectasis BERT Labeler  \\\n",
              "0                                        0                        0   \n",
              "1                                        0                        0   \n",
              "2                                        0                        0   \n",
              "3                                        0                        0   \n",
              "4                                        0                        0   \n",
              "..                                     ...                      ...   \n",
              "279                                      0                        0   \n",
              "280                                      0                        0   \n",
              "281                                      0                        0   \n",
              "282                                      0                        0   \n",
              "283                                      0                        0   \n",
              "\n",
              "0   Pleural Effusion BERT Labeler Lung Lesion BERT Labeler  \\\n",
              "0                               0                        0   \n",
              "1                               0                        0   \n",
              "2                               1                        0   \n",
              "3                               0                        0   \n",
              "4                               0                        0   \n",
              "..                            ...                      ...   \n",
              "279                             0                        0   \n",
              "280                             0                        0   \n",
              "281                             0                        0   \n",
              "282                             0                        0   \n",
              "283                             0                        0   \n",
              "\n",
              "0   Cardiomegaly Inspectra Labeler Edema Inspectra Labeler  ...  \\\n",
              "0                                0                       0  ...   \n",
              "1                                1                       0  ...   \n",
              "2                                1                       0  ...   \n",
              "3                                1                       0  ...   \n",
              "4                                1                       0  ...   \n",
              "..                             ...                     ...  ...   \n",
              "279                              1                       0  ...   \n",
              "280                              0                       0  ...   \n",
              "281                              0                       0  ...   \n",
              "282                              1                       0  ...   \n",
              "283                              0                       0  ...   \n",
              "\n",
              "0   Atelectasis Inspectra Labeler Pleural Effusion Inspectra Labeler  \\\n",
              "0                               0                                  0   \n",
              "1                               0                                  0   \n",
              "2                               0                                  1   \n",
              "3                               0                                  0   \n",
              "4                               0                                  0   \n",
              "..                            ...                                ...   \n",
              "279                             0                                  0   \n",
              "280                             0                                  0   \n",
              "281                             0                                  0   \n",
              "282                             0                                  0   \n",
              "283                             0                                  0   \n",
              "\n",
              "0   Lung Lesion Inspectra Labeler Inspectra Lung Opacity v1 Balanced Score  \\\n",
              "0                               0                            0.07303039028   \n",
              "1                               0                            0.06688237412   \n",
              "2                               0                             0.8160845905   \n",
              "3                               1                             0.3251284437   \n",
              "4                               0                             0.4592965131   \n",
              "..                            ...                                      ...   \n",
              "279                             0                             0.1945962246   \n",
              "280                             0                             0.2708123262   \n",
              "281                             0                             0.3077559492   \n",
              "282                             0                             0.3339428041   \n",
              "283                             0                             0.8492478897   \n",
              "\n",
              "0   Mass Balanced Score Nodule Balanced Score Edema Balanced Score  \\\n",
              "0         0.02831693732         0.05593879763         0.1569643002   \n",
              "1         0.02683061355         0.08159709045          0.134561279   \n",
              "2          0.2388284012          0.4375885272         0.4242215093   \n",
              "3          0.1103513617           0.695227569          0.383227961   \n",
              "4          0.2299608036          0.1490851245         0.4304440733   \n",
              "..                  ...                   ...                  ...   \n",
              "279       0.06639665845          0.1987265551        0.07629760857   \n",
              "280        0.1016328766          0.2261318131        0.05663187802   \n",
              "281        0.1225547196          0.3755704353        0.06682741663   \n",
              "282       0.07436111775          0.1817781537         0.3825516524   \n",
              "283         0.160631671           0.662246114         0.3838981412   \n",
              "\n",
              "0   Atelectasis Balanced Score Cardiomegaly Balanced Score  \\\n",
              "0                0.02970892043                0.7074314112   \n",
              "1                0.04077892724                0.7485450798   \n",
              "2                 0.3860107819                0.8392846532   \n",
              "3                 0.2636212862                0.8826890272   \n",
              "4                0.09100974211                0.9092212189   \n",
              "..                         ...                         ...   \n",
              "279              0.06828867431                0.6542565385   \n",
              "280               0.1682433776               0.05214255897   \n",
              "281               0.6055474943                0.1771505959   \n",
              "282              0.07831878347                0.9304516914   \n",
              "283               0.2220300792                0.9682295567   \n",
              "\n",
              "0   Pleural Effusion Balanced Score  \n",
              "0                    0.006373987574  \n",
              "1                     0.00708947854  \n",
              "2                      0.8781929561  \n",
              "3                     0.03996030814  \n",
              "4                     0.05209171506  \n",
              "..                              ...  \n",
              "279                  0.009900805846  \n",
              "280                   0.04047236025  \n",
              "281                    0.1524861504  \n",
              "282                  0.008723032663  \n",
              "283                    0.1619782555  \n",
              "\n",
              "[284 rows x 21 columns]"
            ],
            "text/html": [
              "\n",
              "  <div id=\"df-b844ec63-27fc-40fb-87bd-a5ae0d297c9b\">\n",
              "    <div class=\"colab-df-container\">\n",
              "      <div>\n",
              "<style scoped>\n",
              "    .dataframe tbody tr th:only-of-type {\n",
              "        vertical-align: middle;\n",
              "    }\n",
              "\n",
              "    .dataframe tbody tr th {\n",
              "        vertical-align: top;\n",
              "    }\n",
              "\n",
              "    .dataframe thead th {\n",
              "        text-align: right;\n",
              "    }\n",
              "</style>\n",
              "<table border=\"1\" class=\"dataframe\">\n",
              "  <thead>\n",
              "    <tr style=\"text-align: right;\">\n",
              "      <th></th>\n",
              "      <th>Image Index</th>\n",
              "      <th>Reports</th>\n",
              "      <th>Cardiomegaly BERT Labeler</th>\n",
              "      <th>Edema BERT Labeler</th>\n",
              "      <th>Inspectra Lung Opacity v1 BERT Labeler</th>\n",
              "      <th>Atelectasis BERT Labeler</th>\n",
              "      <th>Pleural Effusion BERT Labeler</th>\n",
              "      <th>Lung Lesion BERT Labeler</th>\n",
              "      <th>Cardiomegaly Inspectra Labeler</th>\n",
              "      <th>Edema Inspectra Labeler</th>\n",
              "      <th>...</th>\n",
              "      <th>Atelectasis Inspectra Labeler</th>\n",
              "      <th>Pleural Effusion Inspectra Labeler</th>\n",
              "      <th>Lung Lesion Inspectra Labeler</th>\n",
              "      <th>Inspectra Lung Opacity v1 Balanced Score</th>\n",
              "      <th>Mass Balanced Score</th>\n",
              "      <th>Nodule Balanced Score</th>\n",
              "      <th>Edema Balanced Score</th>\n",
              "      <th>Atelectasis Balanced Score</th>\n",
              "      <th>Cardiomegaly Balanced Score</th>\n",
              "      <th>Pleural Effusion Balanced Score</th>\n",
              "    </tr>\n",
              "  </thead>\n",
              "  <tbody>\n",
              "    <tr>\n",
              "      <th>0</th>\n",
              "      <td>20306491</td>\n",
              "      <td>CXR\\nClinical history: DM with CRF\\n     - No ...</td>\n",
              "      <td>0</td>\n",
              "      <td>1</td>\n",
              "      <td>0</td>\n",
              "      <td>0</td>\n",
              "      <td>0</td>\n",
              "      <td>0</td>\n",
              "      <td>0</td>\n",
              "      <td>0</td>\n",
              "      <td>...</td>\n",
              "      <td>0</td>\n",
              "      <td>0</td>\n",
              "      <td>0</td>\n",
              "      <td>0.07303039028</td>\n",
              "      <td>0.02831693732</td>\n",
              "      <td>0.05593879763</td>\n",
              "      <td>0.1569643002</td>\n",
              "      <td>0.02970892043</td>\n",
              "      <td>0.7074314112</td>\n",
              "      <td>0.006373987574</td>\n",
              "    </tr>\n",
              "    <tr>\n",
              "      <th>1</th>\n",
              "      <td>20367612</td>\n",
              "      <td>CXR  (PA upright)\\nHx: CRF\\n\\nRt.side double l...</td>\n",
              "      <td>1</td>\n",
              "      <td>1</td>\n",
              "      <td>0</td>\n",
              "      <td>0</td>\n",
              "      <td>0</td>\n",
              "      <td>0</td>\n",
              "      <td>1</td>\n",
              "      <td>0</td>\n",
              "      <td>...</td>\n",
              "      <td>0</td>\n",
              "      <td>0</td>\n",
              "      <td>0</td>\n",
              "      <td>0.06688237412</td>\n",
              "      <td>0.02683061355</td>\n",
              "      <td>0.08159709045</td>\n",
              "      <td>0.134561279</td>\n",
              "      <td>0.04077892724</td>\n",
              "      <td>0.7485450798</td>\n",
              "      <td>0.00708947854</td>\n",
              "    </tr>\n",
              "    <tr>\n",
              "      <th>2</th>\n",
              "      <td>20538714</td>\n",
              "      <td>Chest PA upright\\n compared to film on 23/2/20...</td>\n",
              "      <td>1</td>\n",
              "      <td>1</td>\n",
              "      <td>0</td>\n",
              "      <td>0</td>\n",
              "      <td>1</td>\n",
              "      <td>0</td>\n",
              "      <td>1</td>\n",
              "      <td>0</td>\n",
              "      <td>...</td>\n",
              "      <td>0</td>\n",
              "      <td>1</td>\n",
              "      <td>0</td>\n",
              "      <td>0.8160845905</td>\n",
              "      <td>0.2388284012</td>\n",
              "      <td>0.4375885272</td>\n",
              "      <td>0.4242215093</td>\n",
              "      <td>0.3860107819</td>\n",
              "      <td>0.8392846532</td>\n",
              "      <td>0.8781929561</td>\n",
              "    </tr>\n",
              "    <tr>\n",
              "      <th>3</th>\n",
              "      <td>20567665</td>\n",
              "      <td>Chest PA upright;\\nknown case CRF, on dialysis...</td>\n",
              "      <td>1</td>\n",
              "      <td>1</td>\n",
              "      <td>0</td>\n",
              "      <td>0</td>\n",
              "      <td>0</td>\n",
              "      <td>0</td>\n",
              "      <td>1</td>\n",
              "      <td>0</td>\n",
              "      <td>...</td>\n",
              "      <td>0</td>\n",
              "      <td>0</td>\n",
              "      <td>1</td>\n",
              "      <td>0.3251284437</td>\n",
              "      <td>0.1103513617</td>\n",
              "      <td>0.695227569</td>\n",
              "      <td>0.383227961</td>\n",
              "      <td>0.2636212862</td>\n",
              "      <td>0.8826890272</td>\n",
              "      <td>0.03996030814</td>\n",
              "    </tr>\n",
              "    <tr>\n",
              "      <th>4</th>\n",
              "      <td>20573024</td>\n",
              "      <td>Chest (PA upriht view)\\n     Hisory of gouthy ...</td>\n",
              "      <td>1</td>\n",
              "      <td>1</td>\n",
              "      <td>0</td>\n",
              "      <td>0</td>\n",
              "      <td>0</td>\n",
              "      <td>0</td>\n",
              "      <td>1</td>\n",
              "      <td>0</td>\n",
              "      <td>...</td>\n",
              "      <td>0</td>\n",
              "      <td>0</td>\n",
              "      <td>0</td>\n",
              "      <td>0.4592965131</td>\n",
              "      <td>0.2299608036</td>\n",
              "      <td>0.1490851245</td>\n",
              "      <td>0.4304440733</td>\n",
              "      <td>0.09100974211</td>\n",
              "      <td>0.9092212189</td>\n",
              "      <td>0.05209171506</td>\n",
              "    </tr>\n",
              "    <tr>\n",
              "      <th>...</th>\n",
              "      <td>...</td>\n",
              "      <td>...</td>\n",
              "      <td>...</td>\n",
              "      <td>...</td>\n",
              "      <td>...</td>\n",
              "      <td>...</td>\n",
              "      <td>...</td>\n",
              "      <td>...</td>\n",
              "      <td>...</td>\n",
              "      <td>...</td>\n",
              "      <td>...</td>\n",
              "      <td>...</td>\n",
              "      <td>...</td>\n",
              "      <td>...</td>\n",
              "      <td>...</td>\n",
              "      <td>...</td>\n",
              "      <td>...</td>\n",
              "      <td>...</td>\n",
              "      <td>...</td>\n",
              "      <td>...</td>\n",
              "      <td>...</td>\n",
              "    </tr>\n",
              "    <tr>\n",
              "      <th>279</th>\n",
              "      <td>24825847</td>\n",
              "      <td>CXR PA upright\\n\\nHistory :  recent NSTEMI,CHF...</td>\n",
              "      <td>1</td>\n",
              "      <td>1</td>\n",
              "      <td>0</td>\n",
              "      <td>0</td>\n",
              "      <td>0</td>\n",
              "      <td>0</td>\n",
              "      <td>1</td>\n",
              "      <td>0</td>\n",
              "      <td>...</td>\n",
              "      <td>0</td>\n",
              "      <td>0</td>\n",
              "      <td>0</td>\n",
              "      <td>0.1945962246</td>\n",
              "      <td>0.06639665845</td>\n",
              "      <td>0.1987265551</td>\n",
              "      <td>0.07629760857</td>\n",
              "      <td>0.06828867431</td>\n",
              "      <td>0.6542565385</td>\n",
              "      <td>0.009900805846</td>\n",
              "    </tr>\n",
              "    <tr>\n",
              "      <th>280</th>\n",
              "      <td>24880152</td>\n",
              "      <td>Chest PA upright\\n  Tracheostomy tube is seen ...</td>\n",
              "      <td>0</td>\n",
              "      <td>1</td>\n",
              "      <td>0</td>\n",
              "      <td>0</td>\n",
              "      <td>0</td>\n",
              "      <td>0</td>\n",
              "      <td>0</td>\n",
              "      <td>0</td>\n",
              "      <td>...</td>\n",
              "      <td>0</td>\n",
              "      <td>0</td>\n",
              "      <td>0</td>\n",
              "      <td>0.2708123262</td>\n",
              "      <td>0.1016328766</td>\n",
              "      <td>0.2261318131</td>\n",
              "      <td>0.05663187802</td>\n",
              "      <td>0.1682433776</td>\n",
              "      <td>0.05214255897</td>\n",
              "      <td>0.04047236025</td>\n",
              "    </tr>\n",
              "    <tr>\n",
              "      <th>281</th>\n",
              "      <td>24999286</td>\n",
              "      <td>CXR PA SUPINE\\n\\nFinding :\\n       Trachea is ...</td>\n",
              "      <td>0</td>\n",
              "      <td>1</td>\n",
              "      <td>0</td>\n",
              "      <td>0</td>\n",
              "      <td>0</td>\n",
              "      <td>0</td>\n",
              "      <td>0</td>\n",
              "      <td>0</td>\n",
              "      <td>...</td>\n",
              "      <td>0</td>\n",
              "      <td>0</td>\n",
              "      <td>0</td>\n",
              "      <td>0.3077559492</td>\n",
              "      <td>0.1225547196</td>\n",
              "      <td>0.3755704353</td>\n",
              "      <td>0.06682741663</td>\n",
              "      <td>0.6055474943</td>\n",
              "      <td>0.1771505959</td>\n",
              "      <td>0.1524861504</td>\n",
              "    </tr>\n",
              "    <tr>\n",
              "      <th>282</th>\n",
              "      <td>25013257</td>\n",
              "      <td>CXR PA\\n\\nCompared with previous study: None\\n...</td>\n",
              "      <td>1</td>\n",
              "      <td>1</td>\n",
              "      <td>0</td>\n",
              "      <td>0</td>\n",
              "      <td>0</td>\n",
              "      <td>0</td>\n",
              "      <td>1</td>\n",
              "      <td>0</td>\n",
              "      <td>...</td>\n",
              "      <td>0</td>\n",
              "      <td>0</td>\n",
              "      <td>0</td>\n",
              "      <td>0.3339428041</td>\n",
              "      <td>0.07436111775</td>\n",
              "      <td>0.1817781537</td>\n",
              "      <td>0.3825516524</td>\n",
              "      <td>0.07831878347</td>\n",
              "      <td>0.9304516914</td>\n",
              "      <td>0.008723032663</td>\n",
              "    </tr>\n",
              "    <tr>\n",
              "      <th>283</th>\n",
              "      <td>25019433</td>\n",
              "      <td>CXR PA upright\\n\\nHistory :  FU   HF. \\n\\nComp...</td>\n",
              "      <td>1</td>\n",
              "      <td>1</td>\n",
              "      <td>0</td>\n",
              "      <td>0</td>\n",
              "      <td>0</td>\n",
              "      <td>0</td>\n",
              "      <td>0</td>\n",
              "      <td>0</td>\n",
              "      <td>...</td>\n",
              "      <td>0</td>\n",
              "      <td>0</td>\n",
              "      <td>0</td>\n",
              "      <td>0.8492478897</td>\n",
              "      <td>0.160631671</td>\n",
              "      <td>0.662246114</td>\n",
              "      <td>0.3838981412</td>\n",
              "      <td>0.2220300792</td>\n",
              "      <td>0.9682295567</td>\n",
              "      <td>0.1619782555</td>\n",
              "    </tr>\n",
              "  </tbody>\n",
              "</table>\n",
              "<p>284 rows × 21 columns</p>\n",
              "</div>\n",
              "      <button class=\"colab-df-convert\" onclick=\"convertToInteractive('df-b844ec63-27fc-40fb-87bd-a5ae0d297c9b')\"\n",
              "              title=\"Convert this dataframe to an interactive table.\"\n",
              "              style=\"display:none;\">\n",
              "        \n",
              "  <svg xmlns=\"http://www.w3.org/2000/svg\" height=\"24px\"viewBox=\"0 0 24 24\"\n",
              "       width=\"24px\">\n",
              "    <path d=\"M0 0h24v24H0V0z\" fill=\"none\"/>\n",
              "    <path d=\"M18.56 5.44l.94 2.06.94-2.06 2.06-.94-2.06-.94-.94-2.06-.94 2.06-2.06.94zm-11 1L8.5 8.5l.94-2.06 2.06-.94-2.06-.94L8.5 2.5l-.94 2.06-2.06.94zm10 10l.94 2.06.94-2.06 2.06-.94-2.06-.94-.94-2.06-.94 2.06-2.06.94z\"/><path d=\"M17.41 7.96l-1.37-1.37c-.4-.4-.92-.59-1.43-.59-.52 0-1.04.2-1.43.59L10.3 9.45l-7.72 7.72c-.78.78-.78 2.05 0 2.83L4 21.41c.39.39.9.59 1.41.59.51 0 1.02-.2 1.41-.59l7.78-7.78 2.81-2.81c.8-.78.8-2.07 0-2.86zM5.41 20L4 18.59l7.72-7.72 1.47 1.35L5.41 20z\"/>\n",
              "  </svg>\n",
              "      </button>\n",
              "      \n",
              "  <style>\n",
              "    .colab-df-container {\n",
              "      display:flex;\n",
              "      flex-wrap:wrap;\n",
              "      gap: 12px;\n",
              "    }\n",
              "\n",
              "    .colab-df-convert {\n",
              "      background-color: #E8F0FE;\n",
              "      border: none;\n",
              "      border-radius: 50%;\n",
              "      cursor: pointer;\n",
              "      display: none;\n",
              "      fill: #1967D2;\n",
              "      height: 32px;\n",
              "      padding: 0 0 0 0;\n",
              "      width: 32px;\n",
              "    }\n",
              "\n",
              "    .colab-df-convert:hover {\n",
              "      background-color: #E2EBFA;\n",
              "      box-shadow: 0px 1px 2px rgba(60, 64, 67, 0.3), 0px 1px 3px 1px rgba(60, 64, 67, 0.15);\n",
              "      fill: #174EA6;\n",
              "    }\n",
              "\n",
              "    [theme=dark] .colab-df-convert {\n",
              "      background-color: #3B4455;\n",
              "      fill: #D2E3FC;\n",
              "    }\n",
              "\n",
              "    [theme=dark] .colab-df-convert:hover {\n",
              "      background-color: #434B5C;\n",
              "      box-shadow: 0px 1px 3px 1px rgba(0, 0, 0, 0.15);\n",
              "      filter: drop-shadow(0px 1px 2px rgba(0, 0, 0, 0.3));\n",
              "      fill: #FFFFFF;\n",
              "    }\n",
              "  </style>\n",
              "\n",
              "      <script>\n",
              "        const buttonEl =\n",
              "          document.querySelector('#df-b844ec63-27fc-40fb-87bd-a5ae0d297c9b button.colab-df-convert');\n",
              "        buttonEl.style.display =\n",
              "          google.colab.kernel.accessAllowed ? 'block' : 'none';\n",
              "\n",
              "        async function convertToInteractive(key) {\n",
              "          const element = document.querySelector('#df-b844ec63-27fc-40fb-87bd-a5ae0d297c9b');\n",
              "          const dataTable =\n",
              "            await google.colab.kernel.invokeFunction('convertToInteractive',\n",
              "                                                     [key], {});\n",
              "          if (!dataTable) return;\n",
              "\n",
              "          const docLinkHtml = 'Like what you see? Visit the ' +\n",
              "            '<a target=\"_blank\" href=https://colab.research.google.com/notebooks/data_table.ipynb>data table notebook</a>'\n",
              "            + ' to learn more about interactive tables.';\n",
              "          element.innerHTML = '';\n",
              "          dataTable['output_type'] = 'display_data';\n",
              "          await google.colab.output.renderOutput(dataTable, element);\n",
              "          const docLink = document.createElement('div');\n",
              "          docLink.innerHTML = docLinkHtml;\n",
              "          element.appendChild(docLink);\n",
              "        }\n",
              "      </script>\n",
              "    </div>\n",
              "  </div>\n",
              "  "
            ]
          },
          "metadata": {},
          "execution_count": 58
        }
      ]
    },
    {
      "cell_type": "code",
      "source": [
        "# create report list\n",
        "edema_b0i1_report = createReportList(edema_b0i1_df)\n",
        "edema_b1i0_report = createReportList(edema_b1i0_df)\n",
        "edema_b1i0_report[0]"
      ],
      "metadata": {
        "colab": {
          "base_uri": "https://localhost:8080/"
        },
        "id": "NG1Vxs0bRTeu",
        "outputId": "c765fe8e-97dd-4ba2-c281-20bf2a089ac1"
      },
      "execution_count": 59,
      "outputs": [
        {
          "output_type": "stream",
          "name": "stdout",
          "text": [
            "Lenght : 0\n",
            "Lenght : 284\n"
          ]
        },
        {
          "output_type": "execute_result",
          "data": {
            "text/plain": [
              "['CXR',\n",
              " 'Clinical history: DM with CRF',\n",
              " '     - No definite pulmonary infiltration.',\n",
              " '     - The heart and great vessels appear normal.',\n",
              " '     - Bilateral costophrenic angles are unremarkable.',\n",
              " '     - Bony thorax is intact.',\n",
              " 'IMP: Normal chest']"
            ]
          },
          "metadata": {},
          "execution_count": 59
        }
      ]
    },
    {
      "cell_type": "code",
      "source": [
        "# define keyword to select sentence from report\n",
        "edema_keyword = r'pleural'"
      ],
      "metadata": {
        "id": "YgAdfLEbrpyQ"
      },
      "execution_count": 60,
      "outputs": []
    },
    {
      "cell_type": "markdown",
      "source": [
        "## BERT 0, Inspectra 1\n",
        "\n",
        "No report"
      ],
      "metadata": {
        "id": "PTAiUXXLRalt"
      }
    },
    {
      "cell_type": "markdown",
      "source": [
        "## BERT 1, Inspectra 0"
      ],
      "metadata": {
        "id": "jYP8LAQyRc0B"
      }
    },
    {
      "cell_type": "markdown",
      "source": [
        "Without keyword"
      ],
      "metadata": {
        "id": "O0N6FVO-jwws"
      }
    },
    {
      "cell_type": "code",
      "source": [
        "edema_b1i0_unigram = createPatternNgrams(edema_b1i0_report, 1)"
      ],
      "metadata": {
        "id": "3ZzW9swJ27vN"
      },
      "execution_count": 74,
      "outputs": []
    },
    {
      "cell_type": "code",
      "source": [
        "edema_b1i0_bigram = createPatternNgrams(edema_b1i0_report, 2)\n",
        "list(edema_b1i0_bigram.items())[:20]"
      ],
      "metadata": {
        "colab": {
          "base_uri": "https://localhost:8080/"
        },
        "id": "7oB5TxqoWzgR",
        "outputId": "b9481780-658a-4f91-95eb-9484b3e48fb1"
      },
      "execution_count": 62,
      "outputs": [
        {
          "output_type": "execute_result",
          "data": {
            "text/plain": [
              "[(('<s>', 'no'), 289),\n",
              " (('pleural', 'effusion'), 161),\n",
              " (('seen', '<\\\\s>'), 136),\n",
              " (('is', 'seen'), 128),\n",
              " (('pulmonary', 'infiltration'), 118),\n",
              " (('bony', 'thorax'), 116),\n",
              " (('noted', '<\\\\s>'), 105),\n",
              " (('intact', '<\\\\s>'), 100),\n",
              " (('<s>', 'the'), 97),\n",
              " (('<s>', 'bony'), 96),\n",
              " (('is', 'noted'), 92),\n",
              " (('effusion', '<\\\\s>'), 87),\n",
              " (('<\\\\s>', '<s>'), 85),\n",
              " (('<s>', 'findings'), 85),\n",
              " (('<s>', 'history'), 81),\n",
              " (('thorax', 'is'), 78),\n",
              " (('<s>', 'cardiomegaly'), 78),\n",
              " (('there', 'is'), 70),\n",
              " (('tube', 'is'), 69),\n",
              " (('effusion', 'is'), 67)]"
            ]
          },
          "metadata": {},
          "execution_count": 62
        }
      ]
    },
    {
      "cell_type": "code",
      "source": [
        "edema_b1i0_trigram = createPatternNgrams(edema_b1i0_report, 3)\n",
        "list(edema_b1i0_trigram.items())[:20]"
      ],
      "metadata": {
        "colab": {
          "base_uri": "https://localhost:8080/"
        },
        "id": "byZXDPihRtyR",
        "outputId": "c3b25122-dc77-4852-a61b-dc8dfda8da27"
      },
      "execution_count": 63,
      "outputs": [
        {
          "output_type": "execute_result",
          "data": {
            "text/plain": [
              "[(('is', 'seen', '<\\\\s>'), 108),\n",
              " (('is', 'noted', '<\\\\s>'), 84),\n",
              " (('pleural', 'effusion', '<\\\\s>'), 83),\n",
              " (('bony', 'thorax', 'is'), 78),\n",
              " (('<s>', 'bony', 'thorax'), 73),\n",
              " (('<s>', 'no', 'pleural'), 61),\n",
              " (('no', 'pleural', 'effusion'), 61),\n",
              " (('is', 'intact', '<\\\\s>'), 58),\n",
              " (('pleural', 'effusion', 'is'), 58),\n",
              " (('thorax', 'is', 'intact'), 55),\n",
              " (('costophrenic', 'angles', 'are'), 54),\n",
              " (('tracheostomy', 'tube', 'is'), 54),\n",
              " (('<s>', 'there', 'is'), 54),\n",
              " (('both', 'costophrenic', 'angles'), 51),\n",
              " (('no', 'definite', 'pulmonary'), 50),\n",
              " (('pulmonary', 'infiltration', '<\\\\s>'), 48),\n",
              " (('<s>', 'both', 'costophrenic'), 48),\n",
              " (('<s>', 'tracheostomy', 'tube'), 46),\n",
              " (('<s>', 'findings', '<\\\\s>'), 46),\n",
              " (('<s>', 'no', 'cardiomegaly'), 44)]"
            ]
          },
          "metadata": {},
          "execution_count": 63
        }
      ]
    },
    {
      "cell_type": "code",
      "source": [
        "edema_b1i0_trigram = createPatternNgrams(edema_b1i0_report, 4)\n",
        "list(edema_b1i0_trigram.items())[:20]"
      ],
      "metadata": {
        "colab": {
          "base_uri": "https://localhost:8080/"
        },
        "id": "KO7zGAsYrd0K",
        "outputId": "c41f9bd2-b6b7-41bc-b8ed-f677144bd28b"
      },
      "execution_count": 64,
      "outputs": [
        {
          "output_type": "execute_result",
          "data": {
            "text/plain": [
              "[(('<s>', 'no', 'pleural', 'effusion'), 59),\n",
              " (('<s>', 'bony', 'thorax', 'is'), 55),\n",
              " (('bony', 'thorax', 'is', 'intact'), 55),\n",
              " (('thorax', 'is', 'intact', '<\\\\s>'), 55),\n",
              " (('both', 'costophrenic', 'angles', 'are'), 48),\n",
              " (('no', 'definite', 'pulmonary', 'infiltration'), 43),\n",
              " (('<s>', 'tracheostomy', 'tube', 'is'), 41),\n",
              " (('angles', 'are', 'clear', '<\\\\s>'), 38),\n",
              " (('in', 'proper', 'position', '<\\\\s>'), 36),\n",
              " (('<s>', 'both', 'costophrenic', 'angles'), 36),\n",
              " (('no', 'pleural', 'effusion', '<\\\\s>'), 35),\n",
              " (('costophrenic', 'angles', 'are', 'clear'), 35),\n",
              " (('no', 'significant', 'change', 'of'), 33),\n",
              " (('effusion', 'is', 'seen', '<\\\\s>'), 33),\n",
              " (('<s>', 'no', 'definite', 'pulmonary'), 29),\n",
              " (('pleural', 'effusion', 'is', 'seen'), 29),\n",
              " (('tracheostomy', 'tube', 'is', 'in'), 29),\n",
              " (('vein', 'and', 'its', 'tip'), 28),\n",
              " (('and', 'its', 'tip', 'is'), 28),\n",
              " (('no', 'active', 'pulmonary', 'infiltration'), 27)]"
            ]
          },
          "metadata": {},
          "execution_count": 64
        }
      ]
    },
    {
      "cell_type": "markdown",
      "source": [
        "With keyword"
      ],
      "metadata": {
        "id": "Ni_qBNobkG1j"
      }
    },
    {
      "cell_type": "code",
      "source": [
        "edema_b1i0_bigramk = createPatternNgrams(edema_b1i0_report, 2, edema_keyword)\n",
        "list(edema_b1i0_bigramk.items())[:20]"
      ],
      "metadata": {
        "colab": {
          "base_uri": "https://localhost:8080/"
        },
        "id": "iTFAF6gjtAkn",
        "outputId": "b8afa408-215d-46d0-de72-06e913e3f361"
      },
      "execution_count": 65,
      "outputs": [
        {
          "output_type": "execute_result",
          "data": {
            "text/plain": [
              "[(('pleural', 'effusion'), 161),\n",
              " (('<s>', 'no'), 111),\n",
              " (('effusion', '<\\\\s>'), 85),\n",
              " (('no', 'pleural'), 63),\n",
              " (('effusion', 'is'), 61),\n",
              " (('bilateral', 'pleural'), 36),\n",
              " (('seen', '<\\\\s>'), 33),\n",
              " (('is', 'seen'), 31),\n",
              " (('or', 'pleural'), 24),\n",
              " (('infiltration', 'or'), 20),\n",
              " (('pulmonary', 'infiltration'), 18),\n",
              " (('change', 'of'), 17),\n",
              " (('of', 'bilateral'), 14),\n",
              " (('no', 'significant'), 13),\n",
              " (('<s>', 'bilateral'), 13),\n",
              " (('noted', '<\\\\s>'), 13),\n",
              " (('right', 'pleural'), 12),\n",
              " (('<\\\\s>', '<s>'), 12),\n",
              " (('significant', 'change'), 12),\n",
              " (('detected', '<\\\\s>'), 11)]"
            ]
          },
          "metadata": {},
          "execution_count": 65
        }
      ]
    },
    {
      "cell_type": "code",
      "source": [
        "edema_b1i0_trigramk = createPatternNgrams(edema_b1i0_report, 3, edema_keyword)\n",
        "list(edema_b1i0_trigramk.items())[:20]"
      ],
      "metadata": {
        "colab": {
          "base_uri": "https://localhost:8080/"
        },
        "id": "HRyoytdrtFdI",
        "outputId": "45c86141-9702-4394-d5e2-74df91c96730"
      },
      "execution_count": 66,
      "outputs": [
        {
          "output_type": "execute_result",
          "data": {
            "text/plain": [
              "[(('pleural', 'effusion', '<\\\\s>'), 83),\n",
              " (('<s>', 'no', 'pleural'), 61),\n",
              " (('no', 'pleural', 'effusion'), 61),\n",
              " (('pleural', 'effusion', 'is'), 58),\n",
              " (('bilateral', 'pleural', 'effusion'), 33),\n",
              " (('is', 'seen', '<\\\\s>'), 31),\n",
              " (('effusion', 'is', 'seen'), 30),\n",
              " (('or', 'pleural', 'effusion'), 22),\n",
              " (('infiltration', 'or', 'pleural'), 19),\n",
              " (('pulmonary', 'infiltration', 'or'), 18),\n",
              " (('<s>', 'bilateral', 'pleural'), 13),\n",
              " (('right', 'pleural', 'effusion'), 12),\n",
              " (('no', 'significant', 'change'), 12),\n",
              " (('significant', 'change', 'of'), 12),\n",
              " (('<s>', 'no', 'significant'), 10),\n",
              " (('<s>', 'no', 'definite'), 10),\n",
              " (('of', 'bilateral', 'pleural'), 10),\n",
              " (('of', 'pleural', 'effusion'), 9),\n",
              " (('is', 'detected', '<\\\\s>'), 8),\n",
              " (('no', 'definite', 'pulmonary'), 8)]"
            ]
          },
          "metadata": {},
          "execution_count": 66
        }
      ]
    },
    {
      "cell_type": "code",
      "source": [
        "edema_b1i0_fourgramk = createPatternNgrams(edema_b1i0_report, 4, edema_keyword)\n",
        "list(edema_b1i0_fourgramk.items())[:20]"
      ],
      "metadata": {
        "colab": {
          "base_uri": "https://localhost:8080/"
        },
        "id": "wBsSKTn1tJDO",
        "outputId": "06394d98-9380-4b83-eac1-bd4ee1e4cc1d"
      },
      "execution_count": 67,
      "outputs": [
        {
          "output_type": "execute_result",
          "data": {
            "text/plain": [
              "[(('<s>', 'no', 'pleural', 'effusion'), 59),\n",
              " (('no', 'pleural', 'effusion', '<\\\\s>'), 35),\n",
              " (('effusion', 'is', 'seen', '<\\\\s>'), 30),\n",
              " (('pleural', 'effusion', 'is', 'seen'), 29),\n",
              " (('no', 'pleural', 'effusion', 'is'), 25),\n",
              " (('or', 'pleural', 'effusion', '<\\\\s>'), 20),\n",
              " (('infiltration', 'or', 'pleural', 'effusion'), 19),\n",
              " (('pulmonary', 'infiltration', 'or', 'pleural'), 18),\n",
              " (('<s>', 'bilateral', 'pleural', 'effusion'), 13),\n",
              " (('bilateral', 'pleural', 'effusion', '<\\\\s>'), 13),\n",
              " (('no', 'significant', 'change', 'of'), 12),\n",
              " (('bilateral', 'pleural', 'effusion', 'is'), 12),\n",
              " (('<s>', 'no', 'significant', 'change'), 9),\n",
              " (('of', 'bilateral', 'pleural', 'effusion'), 9),\n",
              " (('<s>', 'no', 'definite', 'pulmonary'), 8),\n",
              " (('no', 'definite', 'pulmonary', 'infiltration'), 8),\n",
              " (('definite', 'pulmonary', 'infiltration', 'or'), 8),\n",
              " (('right', 'pleural', 'effusion', 'is'), 7),\n",
              " (('<s>', 'no', 'evidence', 'of'), 7),\n",
              " (('no', 'evidence', 'of', 'pleural'), 7)]"
            ]
          },
          "metadata": {},
          "execution_count": 67
        }
      ]
    },
    {
      "cell_type": "code",
      "source": [
        "edema_b1i0_fivegramk = createPatternNgrams(edema_b1i0_report, 5, edema_keyword)\n",
        "list(edema_b1i0_fivegramk.items())[:20]"
      ],
      "metadata": {
        "id": "E1V3TnCcuDET",
        "outputId": "0bae96f6-47dc-48a6-dd22-8225d85f2f48",
        "colab": {
          "base_uri": "https://localhost:8080/"
        }
      },
      "execution_count": 68,
      "outputs": [
        {
          "output_type": "execute_result",
          "data": {
            "text/plain": [
              "[(('<s>', 'no', 'pleural', 'effusion', '<\\\\s>'), 33),\n",
              " (('pleural', 'effusion', 'is', 'seen', '<\\\\s>'), 29),\n",
              " (('<s>', 'no', 'pleural', 'effusion', 'is'), 25),\n",
              " (('no', 'pleural', 'effusion', 'is', 'seen'), 18),\n",
              " (('pulmonary', 'infiltration', 'or', 'pleural', 'effusion'), 18),\n",
              " (('infiltration', 'or', 'pleural', 'effusion', '<\\\\s>'), 18),\n",
              " (('<s>', 'no', 'significant', 'change', 'of'), 9),\n",
              " (('<s>', 'no', 'definite', 'pulmonary', 'infiltration'), 8),\n",
              " (('no', 'definite', 'pulmonary', 'infiltration', 'or'), 8),\n",
              " (('definite', 'pulmonary', 'infiltration', 'or', 'pleural'), 8),\n",
              " (('<s>', 'no', 'evidence', 'of', 'pleural'), 7),\n",
              " (('no', 'evidence', 'of', 'pleural', 'effusion'), 7),\n",
              " (('pleural', 'effusion', 'is', 'detected', '<\\\\s>'), 7),\n",
              " (('pleural', 'effusion', 'is', 'noted', '<\\\\s>'), 7),\n",
              " (('of', 'bilateral', 'pleural', 'effusion', 'is'), 7),\n",
              " (('<s>', 'no', 'pulmonary', 'infiltration', 'or'), 6),\n",
              " (('no', 'pulmonary', 'infiltration', 'or', 'pleural'), 6),\n",
              " (('<s>', 'no', 'detectable', 'pleural', 'effusion'), 6),\n",
              " (('no', 'detectable', 'pleural', 'effusion', '<\\\\s>'), 6),\n",
              " (('<s>', 'bilateral', 'pleural', 'effusion', '<\\\\s>'), 6)]"
            ]
          },
          "metadata": {},
          "execution_count": 68
        }
      ]
    },
    {
      "cell_type": "markdown",
      "source": [
        "## Find Word Before"
      ],
      "metadata": {
        "id": "lFsVsrebA81G"
      }
    },
    {
      "cell_type": "code",
      "source": [
        "before_pleural = findWordBefore(edema_b1i0_bigram, 'pleural')\n",
        "print('pleural :', edema_b1i0_unigram['pleural',])\n",
        "print('word before pleural :', sum(before_pleural.values()))\n",
        "list(before_pleural.items())[:10]"
      ],
      "metadata": {
        "colab": {
          "base_uri": "https://localhost:8080/"
        },
        "id": "miGEYIM2h-HW",
        "outputId": "2b4a1624-bd0a-44bf-94a7-a8b8e4e6c50c"
      },
      "execution_count": 75,
      "outputs": [
        {
          "output_type": "stream",
          "name": "stdout",
          "text": [
            "pleural : 178\n",
            "word before pleural : 178\n"
          ]
        },
        {
          "output_type": "execute_result",
          "data": {
            "text/plain": [
              "[('no', 63),\n",
              " ('bilateral', 36),\n",
              " ('or', 24),\n",
              " ('right', 12),\n",
              " ('of', 9),\n",
              " ('left', 7),\n",
              " ('detectable', 6),\n",
              " ('apical', 3),\n",
              " ('minimal', 3),\n",
              " ('definite', 2)]"
            ]
          },
          "metadata": {},
          "execution_count": 75
        }
      ]
    },
    {
      "cell_type": "markdown",
      "source": [
        "# Inspectra Lung Opacity v1\n",
        "Infiltration + Consolidation + Lung Opacity"
      ],
      "metadata": {
        "id": "EGqDR2GIRrzz"
      }
    },
    {
      "cell_type": "markdown",
      "source": [
        "## Prepare Data"
      ],
      "metadata": {
        "id": "F9nQlz5kT-WI"
      }
    },
    {
      "cell_type": "code",
      "source": [
        "# choose rows\n",
        "v1_df, v1_b0i1_df, v1_b1i0_df = selectData(df, 'Inspectra Lung Opacity v1')\n",
        "v1_df"
      ],
      "metadata": {
        "colab": {
          "base_uri": "https://localhost:8080/",
          "height": 818
        },
        "id": "rsYAJkLsRcA6",
        "outputId": "50c911e3-ee68-447f-9e40-f5a068eebebb"
      },
      "execution_count": 76,
      "outputs": [
        {
          "output_type": "execute_result",
          "data": {
            "text/plain": [
              "0     Image Index                                            Reports  \\\n",
              "0        20290676  CXR  (PA upright)\\n\\nPatchy infiltration at RL...   \n",
              "1        20292772  CXR (PA upright)\\n\\nReticulonodular infiltrati...   \n",
              "2        20294567  Chest:-\\nPa chest study reveals fibronodular i...   \n",
              "3        20294712  CHEST :\\nP.A. upright view .\\nFibronodular inf...   \n",
              "4        20294740  CHEST :\\nP.A. upright view .\\nFibronodular inf...   \n",
              "...           ...                                                ...   \n",
              "76656    25106097  CXR\\n\\n \\nUnchanged size of soft tissue densit...   \n",
              "76657    25106159  CXR(PA)\\n  \\n   Reticulocalcified infiltration...   \n",
              "76658    25106503  CXR(PA)\\n\\n  IMP: Retioculonodular infiltratio...   \n",
              "76659    25106622  CXR PA upright\\n\\n  There is no definite pulmo...   \n",
              "76660    25106687  CXR PA UPRIGHT\\n\\nIMP: As compared to previous...   \n",
              "\n",
              "0     Cardiomegaly BERT Labeler Edema BERT Labeler  \\\n",
              "0                             1                  0   \n",
              "1                             0                  0   \n",
              "2                             0                  0   \n",
              "3                             0                  0   \n",
              "4                             0                  0   \n",
              "...                         ...                ...   \n",
              "76656                         0                  0   \n",
              "76657                         1                  0   \n",
              "76658                         1                  0   \n",
              "76659                         0                  0   \n",
              "76660                         1                  0   \n",
              "\n",
              "0     Inspectra Lung Opacity v1 BERT Labeler Atelectasis BERT Labeler  \\\n",
              "0                                          0                        0   \n",
              "1                                          0                        0   \n",
              "2                                          0                        0   \n",
              "3                                          0                        0   \n",
              "4                                          0                        0   \n",
              "...                                      ...                      ...   \n",
              "76656                                      0                        1   \n",
              "76657                                      0                        0   \n",
              "76658                                      0                        0   \n",
              "76659                                      0                        0   \n",
              "76660                                      0                       -1   \n",
              "\n",
              "0     Pleural Effusion BERT Labeler Lung Lesion BERT Labeler  \\\n",
              "0                                 0                        0   \n",
              "1                                 0                        1   \n",
              "2                                 0                        1   \n",
              "3                                 0                        1   \n",
              "4                                 0                        1   \n",
              "...                             ...                      ...   \n",
              "76656                             0                        1   \n",
              "76657                             0                        0   \n",
              "76658                             0                        1   \n",
              "76659                             0                        0   \n",
              "76660                             1                        0   \n",
              "\n",
              "0     Cardiomegaly Inspectra Labeler Edema Inspectra Labeler  ...  \\\n",
              "0                                  1                       0  ...   \n",
              "1                                  0                       0  ...   \n",
              "2                                  0                       0  ...   \n",
              "3                                  0                       0  ...   \n",
              "4                                  0                       0  ...   \n",
              "...                              ...                     ...  ...   \n",
              "76656                              0                       0  ...   \n",
              "76657                              1                       0  ...   \n",
              "76658                              1                       0  ...   \n",
              "76659                              0                       0  ...   \n",
              "76660                              1                       0  ...   \n",
              "\n",
              "0     Atelectasis Inspectra Labeler Pleural Effusion Inspectra Labeler  \\\n",
              "0                                 0                                  0   \n",
              "1                                 0                                  0   \n",
              "2                                 0                                  0   \n",
              "3                                 0                                  0   \n",
              "4                                 0                                  0   \n",
              "...                             ...                                ...   \n",
              "76656                             1                                  0   \n",
              "76657                             0                                  0   \n",
              "76658                             0                                  0   \n",
              "76659                             0                                  0   \n",
              "76660                            -1                                  1   \n",
              "\n",
              "0     Lung Lesion Inspectra Labeler Inspectra Lung Opacity v1 Balanced Score  \\\n",
              "0                                 0                             0.6705767571   \n",
              "1                                 0                             0.9478721681   \n",
              "2                                 0                             0.8226948088   \n",
              "3                                 0                             0.6979679996   \n",
              "4                                 1                             0.9419731872   \n",
              "...                             ...                                      ...   \n",
              "76656                             1                             0.6114081889   \n",
              "76657                             0                             0.7535559355   \n",
              "76658                             0                             0.8797720788   \n",
              "76659                             0                            0.04914811821   \n",
              "76660                             0                             0.5108068485   \n",
              "\n",
              "0     Mass Balanced Score Nodule Balanced Score Edema Balanced Score  \\\n",
              "0           0.08962687799          0.3223274601       0.008262414654   \n",
              "1            0.1678770714          0.4644771763        0.08673519902   \n",
              "2            0.1517771742          0.6166349793        0.01350364634   \n",
              "3            0.1366843406          0.6163465142        0.04663362481   \n",
              "4            0.4525913554          0.4320501349        0.05085499389   \n",
              "...                   ...                   ...                  ...   \n",
              "76656        0.3188176683          0.2926796391         0.1410927658   \n",
              "76657        0.0997864652             0.6272998         0.1504372268   \n",
              "76658        0.2601079604          0.7077789726         0.1511556734   \n",
              "76659        0.0117086733          0.1039028442        0.01578075513   \n",
              "76660        0.2280439488          0.3587409915         0.1286962249   \n",
              "\n",
              "0     Atelectasis Balanced Score Cardiomegaly Balanced Score  \\\n",
              "0                  0.07552811707               0.01909299623   \n",
              "1                   0.2267119501               0.05830180422   \n",
              "2                    0.235725454               0.00647519908   \n",
              "3                  0.08208811247               0.02999480347   \n",
              "4                   0.2342405043              0.007880797901   \n",
              "...                          ...                         ...   \n",
              "76656               0.4182457805                0.9265471478   \n",
              "76657               0.2217993614                0.8989995311   \n",
              "76658               0.2263483271                 0.700018838   \n",
              "76659              0.07933877652                0.4247253044   \n",
              "76660               0.2957346634                0.5565393814   \n",
              "\n",
              "0     Pleural Effusion Balanced Score  \n",
              "0                      0.007672864324  \n",
              "1                         0.878199365  \n",
              "2                       0.08067476336  \n",
              "3                       0.01371037712  \n",
              "4                        0.1427466416  \n",
              "...                               ...  \n",
              "76656                    0.3421297222  \n",
              "76657                   0.06295422414  \n",
              "76658                    0.1066745699  \n",
              "76659                  0.007032924475  \n",
              "76660                    0.2747272033  \n",
              "\n",
              "[76661 rows x 21 columns]"
            ],
            "text/html": [
              "\n",
              "  <div id=\"df-381476ea-712d-48ce-a08b-e2101892c0fe\">\n",
              "    <div class=\"colab-df-container\">\n",
              "      <div>\n",
              "<style scoped>\n",
              "    .dataframe tbody tr th:only-of-type {\n",
              "        vertical-align: middle;\n",
              "    }\n",
              "\n",
              "    .dataframe tbody tr th {\n",
              "        vertical-align: top;\n",
              "    }\n",
              "\n",
              "    .dataframe thead th {\n",
              "        text-align: right;\n",
              "    }\n",
              "</style>\n",
              "<table border=\"1\" class=\"dataframe\">\n",
              "  <thead>\n",
              "    <tr style=\"text-align: right;\">\n",
              "      <th></th>\n",
              "      <th>Image Index</th>\n",
              "      <th>Reports</th>\n",
              "      <th>Cardiomegaly BERT Labeler</th>\n",
              "      <th>Edema BERT Labeler</th>\n",
              "      <th>Inspectra Lung Opacity v1 BERT Labeler</th>\n",
              "      <th>Atelectasis BERT Labeler</th>\n",
              "      <th>Pleural Effusion BERT Labeler</th>\n",
              "      <th>Lung Lesion BERT Labeler</th>\n",
              "      <th>Cardiomegaly Inspectra Labeler</th>\n",
              "      <th>Edema Inspectra Labeler</th>\n",
              "      <th>...</th>\n",
              "      <th>Atelectasis Inspectra Labeler</th>\n",
              "      <th>Pleural Effusion Inspectra Labeler</th>\n",
              "      <th>Lung Lesion Inspectra Labeler</th>\n",
              "      <th>Inspectra Lung Opacity v1 Balanced Score</th>\n",
              "      <th>Mass Balanced Score</th>\n",
              "      <th>Nodule Balanced Score</th>\n",
              "      <th>Edema Balanced Score</th>\n",
              "      <th>Atelectasis Balanced Score</th>\n",
              "      <th>Cardiomegaly Balanced Score</th>\n",
              "      <th>Pleural Effusion Balanced Score</th>\n",
              "    </tr>\n",
              "  </thead>\n",
              "  <tbody>\n",
              "    <tr>\n",
              "      <th>0</th>\n",
              "      <td>20290676</td>\n",
              "      <td>CXR  (PA upright)\\n\\nPatchy infiltration at RL...</td>\n",
              "      <td>1</td>\n",
              "      <td>0</td>\n",
              "      <td>0</td>\n",
              "      <td>0</td>\n",
              "      <td>0</td>\n",
              "      <td>0</td>\n",
              "      <td>1</td>\n",
              "      <td>0</td>\n",
              "      <td>...</td>\n",
              "      <td>0</td>\n",
              "      <td>0</td>\n",
              "      <td>0</td>\n",
              "      <td>0.6705767571</td>\n",
              "      <td>0.08962687799</td>\n",
              "      <td>0.3223274601</td>\n",
              "      <td>0.008262414654</td>\n",
              "      <td>0.07552811707</td>\n",
              "      <td>0.01909299623</td>\n",
              "      <td>0.007672864324</td>\n",
              "    </tr>\n",
              "    <tr>\n",
              "      <th>1</th>\n",
              "      <td>20292772</td>\n",
              "      <td>CXR (PA upright)\\n\\nReticulonodular infiltrati...</td>\n",
              "      <td>0</td>\n",
              "      <td>0</td>\n",
              "      <td>0</td>\n",
              "      <td>0</td>\n",
              "      <td>0</td>\n",
              "      <td>1</td>\n",
              "      <td>0</td>\n",
              "      <td>0</td>\n",
              "      <td>...</td>\n",
              "      <td>0</td>\n",
              "      <td>0</td>\n",
              "      <td>0</td>\n",
              "      <td>0.9478721681</td>\n",
              "      <td>0.1678770714</td>\n",
              "      <td>0.4644771763</td>\n",
              "      <td>0.08673519902</td>\n",
              "      <td>0.2267119501</td>\n",
              "      <td>0.05830180422</td>\n",
              "      <td>0.878199365</td>\n",
              "    </tr>\n",
              "    <tr>\n",
              "      <th>2</th>\n",
              "      <td>20294567</td>\n",
              "      <td>Chest:-\\nPa chest study reveals fibronodular i...</td>\n",
              "      <td>0</td>\n",
              "      <td>0</td>\n",
              "      <td>0</td>\n",
              "      <td>0</td>\n",
              "      <td>0</td>\n",
              "      <td>1</td>\n",
              "      <td>0</td>\n",
              "      <td>0</td>\n",
              "      <td>...</td>\n",
              "      <td>0</td>\n",
              "      <td>0</td>\n",
              "      <td>0</td>\n",
              "      <td>0.8226948088</td>\n",
              "      <td>0.1517771742</td>\n",
              "      <td>0.6166349793</td>\n",
              "      <td>0.01350364634</td>\n",
              "      <td>0.235725454</td>\n",
              "      <td>0.00647519908</td>\n",
              "      <td>0.08067476336</td>\n",
              "    </tr>\n",
              "    <tr>\n",
              "      <th>3</th>\n",
              "      <td>20294712</td>\n",
              "      <td>CHEST :\\nP.A. upright view .\\nFibronodular inf...</td>\n",
              "      <td>0</td>\n",
              "      <td>0</td>\n",
              "      <td>0</td>\n",
              "      <td>0</td>\n",
              "      <td>0</td>\n",
              "      <td>1</td>\n",
              "      <td>0</td>\n",
              "      <td>0</td>\n",
              "      <td>...</td>\n",
              "      <td>0</td>\n",
              "      <td>0</td>\n",
              "      <td>0</td>\n",
              "      <td>0.6979679996</td>\n",
              "      <td>0.1366843406</td>\n",
              "      <td>0.6163465142</td>\n",
              "      <td>0.04663362481</td>\n",
              "      <td>0.08208811247</td>\n",
              "      <td>0.02999480347</td>\n",
              "      <td>0.01371037712</td>\n",
              "    </tr>\n",
              "    <tr>\n",
              "      <th>4</th>\n",
              "      <td>20294740</td>\n",
              "      <td>CHEST :\\nP.A. upright view .\\nFibronodular inf...</td>\n",
              "      <td>0</td>\n",
              "      <td>0</td>\n",
              "      <td>0</td>\n",
              "      <td>0</td>\n",
              "      <td>0</td>\n",
              "      <td>1</td>\n",
              "      <td>0</td>\n",
              "      <td>0</td>\n",
              "      <td>...</td>\n",
              "      <td>0</td>\n",
              "      <td>0</td>\n",
              "      <td>1</td>\n",
              "      <td>0.9419731872</td>\n",
              "      <td>0.4525913554</td>\n",
              "      <td>0.4320501349</td>\n",
              "      <td>0.05085499389</td>\n",
              "      <td>0.2342405043</td>\n",
              "      <td>0.007880797901</td>\n",
              "      <td>0.1427466416</td>\n",
              "    </tr>\n",
              "    <tr>\n",
              "      <th>...</th>\n",
              "      <td>...</td>\n",
              "      <td>...</td>\n",
              "      <td>...</td>\n",
              "      <td>...</td>\n",
              "      <td>...</td>\n",
              "      <td>...</td>\n",
              "      <td>...</td>\n",
              "      <td>...</td>\n",
              "      <td>...</td>\n",
              "      <td>...</td>\n",
              "      <td>...</td>\n",
              "      <td>...</td>\n",
              "      <td>...</td>\n",
              "      <td>...</td>\n",
              "      <td>...</td>\n",
              "      <td>...</td>\n",
              "      <td>...</td>\n",
              "      <td>...</td>\n",
              "      <td>...</td>\n",
              "      <td>...</td>\n",
              "      <td>...</td>\n",
              "    </tr>\n",
              "    <tr>\n",
              "      <th>76656</th>\n",
              "      <td>25106097</td>\n",
              "      <td>CXR\\n\\n \\nUnchanged size of soft tissue densit...</td>\n",
              "      <td>0</td>\n",
              "      <td>0</td>\n",
              "      <td>0</td>\n",
              "      <td>1</td>\n",
              "      <td>0</td>\n",
              "      <td>1</td>\n",
              "      <td>0</td>\n",
              "      <td>0</td>\n",
              "      <td>...</td>\n",
              "      <td>1</td>\n",
              "      <td>0</td>\n",
              "      <td>1</td>\n",
              "      <td>0.6114081889</td>\n",
              "      <td>0.3188176683</td>\n",
              "      <td>0.2926796391</td>\n",
              "      <td>0.1410927658</td>\n",
              "      <td>0.4182457805</td>\n",
              "      <td>0.9265471478</td>\n",
              "      <td>0.3421297222</td>\n",
              "    </tr>\n",
              "    <tr>\n",
              "      <th>76657</th>\n",
              "      <td>25106159</td>\n",
              "      <td>CXR(PA)\\n  \\n   Reticulocalcified infiltration...</td>\n",
              "      <td>1</td>\n",
              "      <td>0</td>\n",
              "      <td>0</td>\n",
              "      <td>0</td>\n",
              "      <td>0</td>\n",
              "      <td>0</td>\n",
              "      <td>1</td>\n",
              "      <td>0</td>\n",
              "      <td>...</td>\n",
              "      <td>0</td>\n",
              "      <td>0</td>\n",
              "      <td>0</td>\n",
              "      <td>0.7535559355</td>\n",
              "      <td>0.0997864652</td>\n",
              "      <td>0.6272998</td>\n",
              "      <td>0.1504372268</td>\n",
              "      <td>0.2217993614</td>\n",
              "      <td>0.8989995311</td>\n",
              "      <td>0.06295422414</td>\n",
              "    </tr>\n",
              "    <tr>\n",
              "      <th>76658</th>\n",
              "      <td>25106503</td>\n",
              "      <td>CXR(PA)\\n\\n  IMP: Retioculonodular infiltratio...</td>\n",
              "      <td>1</td>\n",
              "      <td>0</td>\n",
              "      <td>0</td>\n",
              "      <td>0</td>\n",
              "      <td>0</td>\n",
              "      <td>1</td>\n",
              "      <td>1</td>\n",
              "      <td>0</td>\n",
              "      <td>...</td>\n",
              "      <td>0</td>\n",
              "      <td>0</td>\n",
              "      <td>0</td>\n",
              "      <td>0.8797720788</td>\n",
              "      <td>0.2601079604</td>\n",
              "      <td>0.7077789726</td>\n",
              "      <td>0.1511556734</td>\n",
              "      <td>0.2263483271</td>\n",
              "      <td>0.700018838</td>\n",
              "      <td>0.1066745699</td>\n",
              "    </tr>\n",
              "    <tr>\n",
              "      <th>76659</th>\n",
              "      <td>25106622</td>\n",
              "      <td>CXR PA upright\\n\\n  There is no definite pulmo...</td>\n",
              "      <td>0</td>\n",
              "      <td>0</td>\n",
              "      <td>0</td>\n",
              "      <td>0</td>\n",
              "      <td>0</td>\n",
              "      <td>0</td>\n",
              "      <td>0</td>\n",
              "      <td>0</td>\n",
              "      <td>...</td>\n",
              "      <td>0</td>\n",
              "      <td>0</td>\n",
              "      <td>0</td>\n",
              "      <td>0.04914811821</td>\n",
              "      <td>0.0117086733</td>\n",
              "      <td>0.1039028442</td>\n",
              "      <td>0.01578075513</td>\n",
              "      <td>0.07933877652</td>\n",
              "      <td>0.4247253044</td>\n",
              "      <td>0.007032924475</td>\n",
              "    </tr>\n",
              "    <tr>\n",
              "      <th>76660</th>\n",
              "      <td>25106687</td>\n",
              "      <td>CXR PA UPRIGHT\\n\\nIMP: As compared to previous...</td>\n",
              "      <td>1</td>\n",
              "      <td>0</td>\n",
              "      <td>0</td>\n",
              "      <td>-1</td>\n",
              "      <td>1</td>\n",
              "      <td>0</td>\n",
              "      <td>1</td>\n",
              "      <td>0</td>\n",
              "      <td>...</td>\n",
              "      <td>-1</td>\n",
              "      <td>1</td>\n",
              "      <td>0</td>\n",
              "      <td>0.5108068485</td>\n",
              "      <td>0.2280439488</td>\n",
              "      <td>0.3587409915</td>\n",
              "      <td>0.1286962249</td>\n",
              "      <td>0.2957346634</td>\n",
              "      <td>0.5565393814</td>\n",
              "      <td>0.2747272033</td>\n",
              "    </tr>\n",
              "  </tbody>\n",
              "</table>\n",
              "<p>76661 rows × 21 columns</p>\n",
              "</div>\n",
              "      <button class=\"colab-df-convert\" onclick=\"convertToInteractive('df-381476ea-712d-48ce-a08b-e2101892c0fe')\"\n",
              "              title=\"Convert this dataframe to an interactive table.\"\n",
              "              style=\"display:none;\">\n",
              "        \n",
              "  <svg xmlns=\"http://www.w3.org/2000/svg\" height=\"24px\"viewBox=\"0 0 24 24\"\n",
              "       width=\"24px\">\n",
              "    <path d=\"M0 0h24v24H0V0z\" fill=\"none\"/>\n",
              "    <path d=\"M18.56 5.44l.94 2.06.94-2.06 2.06-.94-2.06-.94-.94-2.06-.94 2.06-2.06.94zm-11 1L8.5 8.5l.94-2.06 2.06-.94-2.06-.94L8.5 2.5l-.94 2.06-2.06.94zm10 10l.94 2.06.94-2.06 2.06-.94-2.06-.94-.94-2.06-.94 2.06-2.06.94z\"/><path d=\"M17.41 7.96l-1.37-1.37c-.4-.4-.92-.59-1.43-.59-.52 0-1.04.2-1.43.59L10.3 9.45l-7.72 7.72c-.78.78-.78 2.05 0 2.83L4 21.41c.39.39.9.59 1.41.59.51 0 1.02-.2 1.41-.59l7.78-7.78 2.81-2.81c.8-.78.8-2.07 0-2.86zM5.41 20L4 18.59l7.72-7.72 1.47 1.35L5.41 20z\"/>\n",
              "  </svg>\n",
              "      </button>\n",
              "      \n",
              "  <style>\n",
              "    .colab-df-container {\n",
              "      display:flex;\n",
              "      flex-wrap:wrap;\n",
              "      gap: 12px;\n",
              "    }\n",
              "\n",
              "    .colab-df-convert {\n",
              "      background-color: #E8F0FE;\n",
              "      border: none;\n",
              "      border-radius: 50%;\n",
              "      cursor: pointer;\n",
              "      display: none;\n",
              "      fill: #1967D2;\n",
              "      height: 32px;\n",
              "      padding: 0 0 0 0;\n",
              "      width: 32px;\n",
              "    }\n",
              "\n",
              "    .colab-df-convert:hover {\n",
              "      background-color: #E2EBFA;\n",
              "      box-shadow: 0px 1px 2px rgba(60, 64, 67, 0.3), 0px 1px 3px 1px rgba(60, 64, 67, 0.15);\n",
              "      fill: #174EA6;\n",
              "    }\n",
              "\n",
              "    [theme=dark] .colab-df-convert {\n",
              "      background-color: #3B4455;\n",
              "      fill: #D2E3FC;\n",
              "    }\n",
              "\n",
              "    [theme=dark] .colab-df-convert:hover {\n",
              "      background-color: #434B5C;\n",
              "      box-shadow: 0px 1px 3px 1px rgba(0, 0, 0, 0.15);\n",
              "      filter: drop-shadow(0px 1px 2px rgba(0, 0, 0, 0.3));\n",
              "      fill: #FFFFFF;\n",
              "    }\n",
              "  </style>\n",
              "\n",
              "      <script>\n",
              "        const buttonEl =\n",
              "          document.querySelector('#df-381476ea-712d-48ce-a08b-e2101892c0fe button.colab-df-convert');\n",
              "        buttonEl.style.display =\n",
              "          google.colab.kernel.accessAllowed ? 'block' : 'none';\n",
              "\n",
              "        async function convertToInteractive(key) {\n",
              "          const element = document.querySelector('#df-381476ea-712d-48ce-a08b-e2101892c0fe');\n",
              "          const dataTable =\n",
              "            await google.colab.kernel.invokeFunction('convertToInteractive',\n",
              "                                                     [key], {});\n",
              "          if (!dataTable) return;\n",
              "\n",
              "          const docLinkHtml = 'Like what you see? Visit the ' +\n",
              "            '<a target=\"_blank\" href=https://colab.research.google.com/notebooks/data_table.ipynb>data table notebook</a>'\n",
              "            + ' to learn more about interactive tables.';\n",
              "          element.innerHTML = '';\n",
              "          dataTable['output_type'] = 'display_data';\n",
              "          await google.colab.output.renderOutput(dataTable, element);\n",
              "          const docLink = document.createElement('div');\n",
              "          docLink.innerHTML = docLinkHtml;\n",
              "          element.appendChild(docLink);\n",
              "        }\n",
              "      </script>\n",
              "    </div>\n",
              "  </div>\n",
              "  "
            ]
          },
          "metadata": {},
          "execution_count": 76
        }
      ]
    },
    {
      "cell_type": "code",
      "source": [
        "# create report list\n",
        "v1_b0i1_report = createReportList(v1_b0i1_df)\n",
        "v1_b1i0_report = createReportList(v1_b1i0_df)\n",
        "v1_b0i1_report[0]"
      ],
      "metadata": {
        "colab": {
          "base_uri": "https://localhost:8080/"
        },
        "id": "WYJEdKi7R4ge",
        "outputId": "1299ca21-7269-49f0-8633-711cd5a7a7a7"
      },
      "execution_count": 77,
      "outputs": [
        {
          "output_type": "stream",
          "name": "stdout",
          "text": [
            "Lenght : 75554\n",
            "Lenght : 1107\n"
          ]
        },
        {
          "output_type": "execute_result",
          "data": {
            "text/plain": [
              "['CXR  (PA upright)',\n",
              " 'Patchy infiltration at RLL, LUL and LLL. ',\n",
              " 'Mild cardiomegaly. ',\n",
              " 'No perihilar or mediastinal mass.',\n",
              " 'No pleural effusion.',\n",
              " 'Bony thorax is intact.']"
            ]
          },
          "metadata": {},
          "execution_count": 77
        }
      ]
    },
    {
      "cell_type": "code",
      "source": [
        "infil_keyword = r'infil|densit|opaci|'\n",
        "conso_keyword = 'consolidat|'\n",
        "opaci_keyword = 'opaci|translu|air|mark|pattern|lung|reticul|scar|thicken|densit|patchy'\n",
        "v1_keyword = infil_keyword + conso_keyword + opaci_keyword"
      ],
      "metadata": {
        "id": "RQrm5kvegAJ1"
      },
      "execution_count": 78,
      "outputs": []
    },
    {
      "cell_type": "markdown",
      "source": [
        "## BERT 0, Inspectra 1"
      ],
      "metadata": {
        "id": "GeHWKCf8SuJz"
      }
    },
    {
      "cell_type": "markdown",
      "source": [
        "Without keyword"
      ],
      "metadata": {
        "id": "XwEQzOd5jx7c"
      }
    },
    {
      "cell_type": "code",
      "source": [
        "v1_b0i1_unigram = createPatternNgrams(v1_b0i1_report, 1)"
      ],
      "metadata": {
        "id": "YbmLhP4r3DKH"
      },
      "execution_count": 79,
      "outputs": []
    },
    {
      "cell_type": "code",
      "source": [
        "v1_b0i1_bigram = createPatternNgrams(v1_b0i1_report, 2)\n",
        "list(v1_b0i1_bigram.items())[:20]"
      ],
      "metadata": {
        "colab": {
          "base_uri": "https://localhost:8080/"
        },
        "id": "p5svWlLES6Hg",
        "outputId": "47884eeb-f706-4e81-c94f-703cc02dbad4"
      },
      "execution_count": 80,
      "outputs": [
        {
          "output_type": "execute_result",
          "data": {
            "text/plain": [
              "[(('<s>', 'no'), 77218),\n",
              " (('<s>', 'the'), 50107),\n",
              " (('bony', 'thorax'), 38975),\n",
              " (('pulmonary', 'infiltration'), 35747),\n",
              " (('clear', '<\\\\s>'), 35669),\n",
              " (('intact', '<\\\\s>'), 33675),\n",
              " (('both', 'costophrenic'), 33162),\n",
              " (('thorax', 'is'), 32734),\n",
              " (('are', 'clear'), 31922),\n",
              " (('noted', '<\\\\s>'), 30789),\n",
              " (('pleural', 'effusion'), 30554),\n",
              " (('change', 'of'), 30318),\n",
              " (('is', 'intact'), 30193),\n",
              " (('<s>', 'both'), 30107),\n",
              " (('costophrenic', 'angles'), 29993),\n",
              " (('angles', 'are'), 29594),\n",
              " (('is', 'seen'), 29065),\n",
              " (('seen', '<\\\\s>'), 27704),\n",
              " (('infiltration', 'at'), 27013),\n",
              " (('is', 'noted'), 26912)]"
            ]
          },
          "metadata": {},
          "execution_count": 80
        }
      ]
    },
    {
      "cell_type": "code",
      "source": [
        "v1_b0i1_trigram = createPatternNgrams(v1_b0i1_report, 3)\n",
        "list(v1_b0i1_trigram.items())[:20]"
      ],
      "metadata": {
        "colab": {
          "base_uri": "https://localhost:8080/"
        },
        "id": "jQ_Cy97RWux9",
        "outputId": "656e54fd-6434-4142-fa2d-e6d92a9c7dd7"
      },
      "execution_count": 81,
      "outputs": [
        {
          "output_type": "execute_result",
          "data": {
            "text/plain": [
              "[(('bony', 'thorax', 'is'), 32687),\n",
              " (('are', 'clear', '<\\\\s>'), 31867),\n",
              " (('is', 'intact', '<\\\\s>'), 30185),\n",
              " (('costophrenic', 'angles', 'are'), 29375),\n",
              " (('thorax', 'is', 'intact'), 29316),\n",
              " (('both', 'costophrenic', 'angles'), 27975),\n",
              " (('<s>', 'both', 'costophrenic'), 26840),\n",
              " (('is', 'seen', '<\\\\s>'), 24821),\n",
              " (('<s>', 'there', 'is'), 24427),\n",
              " (('is', 'noted', '<\\\\s>'), 23952),\n",
              " (('angles', 'are', 'clear'), 23562),\n",
              " (('there', 'is', 'no'), 18362),\n",
              " (('<s>', 'no', 'cardiomegaly'), 18145),\n",
              " (('<s>', 'the', 'bony'), 17654),\n",
              " (('pleural', 'effusion', '<\\\\s>'), 17399),\n",
              " (('the', 'bony', 'thorax'), 17345),\n",
              " (('no', 'pleural', 'effusion'), 17257),\n",
              " (('<s>', 'bony', 'thorax'), 16456),\n",
              " (('<s>', 'no', 'pleural'), 16177),\n",
              " (('pulmonary', 'infiltration', 'or'), 16083)]"
            ]
          },
          "metadata": {},
          "execution_count": 81
        }
      ]
    },
    {
      "cell_type": "code",
      "source": [
        "v1_b0i1_fourgram = createPatternNgrams(v1_b0i1_report, 4)\n",
        "list(v1_b0i1_fourgram.items())[:20]"
      ],
      "metadata": {
        "colab": {
          "base_uri": "https://localhost:8080/"
        },
        "id": "FC1nT0dFW-lo",
        "outputId": "e33ba41a-9cbb-40b5-fff7-f5842757fbe3"
      },
      "execution_count": 82,
      "outputs": [
        {
          "output_type": "execute_result",
          "data": {
            "text/plain": [
              "[(('thorax', 'is', 'intact', '<\\\\s>'), 29309),\n",
              " (('bony', 'thorax', 'is', 'intact'), 29301),\n",
              " (('both', 'costophrenic', 'angles', 'are'), 27485),\n",
              " (('angles', 'are', 'clear', '<\\\\s>'), 23529),\n",
              " (('costophrenic', 'angles', 'are', 'clear'), 23355),\n",
              " (('<s>', 'both', 'costophrenic', 'angles'), 21913),\n",
              " (('<s>', 'there', 'is', 'no'), 17426),\n",
              " (('<s>', 'the', 'bony', 'thorax'), 17344),\n",
              " (('the', 'bony', 'thorax', 'is'), 17307),\n",
              " (('<s>', 'no', 'pleural', 'effusion'), 16090),\n",
              " (('pulmonary', 'infiltration', 'or', 'nodule'), 15504),\n",
              " (('<s>', 'bony', 'thorax', 'is'), 15207),\n",
              " (('no', 'definite', 'pulmonary', 'infiltration'), 13797),\n",
              " (('<s>', 'cardiac', 'shadow', 'is'), 13731),\n",
              " (('is', 'normal', 'size', '<\\\\s>'), 13512),\n",
              " (('there', 'is', 'no', 'definite'), 12961),\n",
              " (('infiltration', 'or', 'nodule', '<\\\\s>'), 12857),\n",
              " (('definite', 'pulmonary', 'infiltration', 'or'), 12839),\n",
              " (('no', 'active', 'pulmonary', 'infiltration'), 12758),\n",
              " (('cardiac', 'shadow', 'is', 'normal'), 12731)]"
            ]
          },
          "metadata": {},
          "execution_count": 82
        }
      ]
    },
    {
      "cell_type": "markdown",
      "source": [
        "With keyword"
      ],
      "metadata": {
        "id": "tvZbSuCPkEnF"
      }
    },
    {
      "cell_type": "code",
      "source": [
        "v1_b0i1_bigramk = createPatternNgrams(v1_b0i1_report, 2, v1_keyword)\n",
        "list(v1_b0i1_bigramk.items())[:20]"
      ],
      "metadata": {
        "colab": {
          "base_uri": "https://localhost:8080/"
        },
        "id": "VoaTEIhrgReM",
        "outputId": "4a945fe0-6b3c-49f3-fd16-fdc0beed7590"
      },
      "execution_count": 83,
      "outputs": [
        {
          "output_type": "execute_result",
          "data": {
            "text/plain": [
              "[(('pulmonary', 'infiltration'), 35747),\n",
              " (('infiltration', 'at'), 27013),\n",
              " (('change', 'of'), 23599),\n",
              " (('<s>', 'no'), 23553),\n",
              " (('there', 'is'), 21300),\n",
              " (('<s>', 'there'), 20648),\n",
              " (('infiltration', '<\\\\s>'), 17335),\n",
              " (('is', 'no'), 16728),\n",
              " (('infiltration', 'or'), 16511),\n",
              " (('active', 'pulmonary'), 15710),\n",
              " (('or', 'nodule'), 15695),\n",
              " (('no', 'definite'), 15206),\n",
              " (('at', 'right'), 14696),\n",
              " (('at', 'both'), 14379),\n",
              " (('definite', 'pulmonary'), 14051),\n",
              " (('nodule', '<\\\\s>'), 13535),\n",
              " (('<s>', 'imp'), 13485),\n",
              " (('imp', 'no'), 12981),\n",
              " (('no', 'active'), 12975),\n",
              " (('<\\\\s>', '<s>'), 12631)]"
            ]
          },
          "metadata": {},
          "execution_count": 83
        }
      ]
    },
    {
      "cell_type": "code",
      "source": [
        "v1_b0i1_trigramk = createPatternNgrams(v1_b0i1_report, 3, v1_keyword)\n",
        "list(v1_b0i1_trigramk.items())[:20]"
      ],
      "metadata": {
        "colab": {
          "base_uri": "https://localhost:8080/"
        },
        "id": "J6BjRvP3gU_P",
        "outputId": "338eb1cb-fc1c-4556-cca5-e58932bd684d"
      },
      "execution_count": 84,
      "outputs": [
        {
          "output_type": "execute_result",
          "data": {
            "text/plain": [
              "[(('<s>', 'there', 'is'), 19887),\n",
              " (('there', 'is', 'no'), 16453),\n",
              " (('pulmonary', 'infiltration', 'or'), 16083),\n",
              " (('infiltration', 'or', 'nodule'), 15662),\n",
              " (('active', 'pulmonary', 'infiltration'), 15603),\n",
              " (('pulmonary', 'infiltration', '<\\\\s>'), 15138),\n",
              " (('no', 'definite', 'pulmonary'), 14038),\n",
              " (('definite', 'pulmonary', 'infiltration'), 13809),\n",
              " (('<s>', 'imp', 'no'), 12981),\n",
              " (('is', 'no', 'definite'), 12951),\n",
              " (('or', 'nodule', '<\\\\s>'), 12872),\n",
              " (('no', 'active', 'pulmonary'), 12778),\n",
              " (('no', 'change', 'of'), 11477),\n",
              " (('imp', 'no', 'active'), 11170),\n",
              " (('no', 'significant', 'change'), 10277),\n",
              " (('significant', 'change', 'of'), 9563),\n",
              " (('is', 'noted', '<\\\\s>'), 8836),\n",
              " (('reticulonodular', 'infiltration', 'at'), 8115),\n",
              " (('<s>', 'no', 'significant'), 7921),\n",
              " (('infiltration', 'at', 'both'), 7332)]"
            ]
          },
          "metadata": {},
          "execution_count": 84
        }
      ]
    },
    {
      "cell_type": "code",
      "source": [
        "v1_b0i1_fourgramk = createPatternNgrams(v1_b0i1_report, 4, v1_keyword)\n",
        "list(v1_b0i1_fourgramk.items())[:20]"
      ],
      "metadata": {
        "colab": {
          "base_uri": "https://localhost:8080/"
        },
        "id": "4K-cd3-pm8Uv",
        "outputId": "2bf7574d-817b-4c57-e0e2-3cd1b844f6a8"
      },
      "execution_count": 85,
      "outputs": [
        {
          "output_type": "execute_result",
          "data": {
            "text/plain": [
              "[(('<s>', 'there', 'is', 'no'), 15580),\n",
              " (('pulmonary', 'infiltration', 'or', 'nodule'), 15504),\n",
              " (('no', 'definite', 'pulmonary', 'infiltration'), 13797),\n",
              " (('there', 'is', 'no', 'definite'), 12947),\n",
              " (('infiltration', 'or', 'nodule', '<\\\\s>'), 12857),\n",
              " (('definite', 'pulmonary', 'infiltration', 'or'), 12839),\n",
              " (('no', 'active', 'pulmonary', 'infiltration'), 12758),\n",
              " (('is', 'no', 'definite', 'pulmonary'), 12488),\n",
              " (('active', 'pulmonary', 'infiltration', '<\\\\s>'), 12322),\n",
              " (('<s>', 'imp', 'no', 'active'), 11170),\n",
              " (('imp', 'no', 'active', 'pulmonary'), 11163),\n",
              " (('no', 'significant', 'change', 'of'), 9540),\n",
              " (('<s>', 'no', 'significant', 'change'), 7444),\n",
              " (('<s>', 'no', 'change', 'of'), 5739),\n",
              " (('<s>', 'the', 'chest', 'shows'), 5121),\n",
              " (('are', 'not', 'remarkable', '<\\\\s>'), 4384),\n",
              " (('the', 'chest', 'shows', 'no'), 3724),\n",
              " (('<s>', 'both', 'costophrenic', 'sulci'), 3634),\n",
              " (('thorax', 'is', 'unremarkable', '<\\\\s>'), 3266),\n",
              " (('bony', 'thorax', 'is', 'unremarkable'), 3265)]"
            ]
          },
          "metadata": {},
          "execution_count": 85
        }
      ]
    },
    {
      "cell_type": "code",
      "source": [
        "v1_b0i1_fivegramk = createPatternNgrams(v1_b0i1_report, 5, v1_keyword)\n",
        "list(v1_b0i1_fivegramk.items())[:20]"
      ],
      "metadata": {
        "colab": {
          "base_uri": "https://localhost:8080/"
        },
        "id": "yAFCXlk6nU4h",
        "outputId": "4c70499d-2a73-49a9-b515-55a38afe4bd7"
      },
      "execution_count": 86,
      "outputs": [
        {
          "output_type": "execute_result",
          "data": {
            "text/plain": [
              "[(('pulmonary', 'infiltration', 'or', 'nodule', '<\\\\s>'), 12836),\n",
              " (('no', 'definite', 'pulmonary', 'infiltration', 'or'), 12836),\n",
              " (('definite', 'pulmonary', 'infiltration', 'or', 'nodule'), 12712),\n",
              " (('<s>', 'there', 'is', 'no', 'definite'), 12567),\n",
              " (('there', 'is', 'no', 'definite', 'pulmonary'), 12487),\n",
              " (('is', 'no', 'definite', 'pulmonary', 'infiltration'), 12472),\n",
              " (('no', 'active', 'pulmonary', 'infiltration', '<\\\\s>'), 11631),\n",
              " (('<s>', 'imp', 'no', 'active', 'pulmonary'), 11163),\n",
              " (('imp', 'no', 'active', 'pulmonary', 'infiltration'), 11161),\n",
              " (('<s>', 'no', 'significant', 'change', 'of'), 7170),\n",
              " (('<s>', 'the', 'chest', 'shows', 'no'), 3723),\n",
              " (('bony', 'thorax', 'is', 'unremarkable', '<\\\\s>'), 3265),\n",
              " (('sulci', 'are', 'not', 'remarkable', '<\\\\s>'), 3174),\n",
              " (('costophrenic', 'sulci', 'are', 'not', 'remarkable'), 3167),\n",
              " (('the', 'chest', 'shows', 'no', 'change'), 3005),\n",
              " (('chest', 'shows', 'no', 'change', 'of'), 2967),\n",
              " (('<s>', 'both', 'costophrenic', 'sulci', 'are'), 2486),\n",
              " (('<s>', 'bony', 'thorax', 'is', 'unremarkable'), 2399),\n",
              " (('pulmonary', 'infiltration', 'or', 'nodule', 'is'), 2305),\n",
              " (('both', 'costophrenic', 'sulci', 'are', 'not'), 2295)]"
            ]
          },
          "metadata": {},
          "execution_count": 86
        }
      ]
    },
    {
      "cell_type": "code",
      "source": [
        "v1_b0i1_sixgramk = createPatternNgrams(v1_b0i1_report, 6, v1_keyword)\n",
        "list(v1_b0i1_sixgramk.items())[:20]"
      ],
      "metadata": {
        "colab": {
          "base_uri": "https://localhost:8080/"
        },
        "id": "0fD6S8hXaIHL",
        "outputId": "a9537bfb-1ed5-4481-bd27-6f5fa42bbd71"
      },
      "execution_count": 87,
      "outputs": [
        {
          "output_type": "execute_result",
          "data": {
            "text/plain": [
              "[(('no', 'definite', 'pulmonary', 'infiltration', 'or', 'nodule'), 12710),\n",
              " (('definite', 'pulmonary', 'infiltration', 'or', 'nodule', '<\\\\s>'), 12671),\n",
              " (('there', 'is', 'no', 'definite', 'pulmonary', 'infiltration'), 12471),\n",
              " (('<s>', 'there', 'is', 'no', 'definite', 'pulmonary'), 12401),\n",
              " (('is', 'no', 'definite', 'pulmonary', 'infiltration', 'or'), 12349),\n",
              " (('<s>', 'imp', 'no', 'active', 'pulmonary', 'infiltration'), 11161),\n",
              " (('imp', 'no', 'active', 'pulmonary', 'infiltration', '<\\\\s>'), 11161),\n",
              " (('costophrenic', 'sulci', 'are', 'not', 'remarkable', '<\\\\s>'), 3165),\n",
              " (('<s>', 'the', 'chest', 'shows', 'no', 'change'), 3004),\n",
              " (('the', 'chest', 'shows', 'no', 'change', 'of'), 2967),\n",
              " (('<s>', 'bony', 'thorax', 'is', 'unremarkable', '<\\\\s>'), 2399),\n",
              " (('<s>', 'both', 'costophrenic', 'sulci', 'are', 'not'), 2295),\n",
              " (('both', 'costophrenic', 'sulci', 'are', 'not', 'remarkable'), 2295),\n",
              " (('infiltration', 'or', 'nodule', 'is', 'noted', '<\\\\s>'), 2251),\n",
              " (('pulmonary', 'infiltration', 'or', 'nodule', 'is', 'noted'), 2248),\n",
              " (('<s>', 'findings', 'no', 'detectable', 'active', 'pulmonary'), 1652),\n",
              " (('findings', 'no', 'detectable', 'active', 'pulmonary', 'infiltration'),\n",
              "  1651),\n",
              " (('active', 'pulmonary', 'infiltration', 'or', 'nodule', 'is'), 1551),\n",
              " (('no', 'detectable', 'active', 'pulmonary', 'infiltration', 'or'), 1517),\n",
              " (('detectable', 'active', 'pulmonary', 'infiltration', 'or', 'nodule'), 1509)]"
            ]
          },
          "metadata": {},
          "execution_count": 87
        }
      ]
    },
    {
      "cell_type": "markdown",
      "source": [
        "## BERT 1, Inspectra 0"
      ],
      "metadata": {
        "id": "3tXwW6vAS6sg"
      }
    },
    {
      "cell_type": "markdown",
      "source": [
        "Without keyword"
      ],
      "metadata": {
        "id": "3RI9upVBjzB1"
      }
    },
    {
      "cell_type": "code",
      "source": [
        "v1_b1i0_unigram = createPatternNgrams(v1_b1i0_report, 1)"
      ],
      "metadata": {
        "id": "ahbs55LZ_SrQ"
      },
      "execution_count": 88,
      "outputs": []
    },
    {
      "cell_type": "code",
      "source": [
        "v1_b1i0_bigram = createPatternNgrams(v1_b1i0_report, 2)\n",
        "list(v1_b1i0_bigram.items())[:20]"
      ],
      "metadata": {
        "colab": {
          "base_uri": "https://localhost:8080/"
        },
        "id": "kjpvIthIS8Sk",
        "outputId": "9acf7f03-34f4-4ebd-9775-6cd0967c2925"
      },
      "execution_count": 89,
      "outputs": [
        {
          "output_type": "execute_result",
          "data": {
            "text/plain": [
              "[(('<s>', 'no'), 722),\n",
              " (('pleural', 'effusion'), 361),\n",
              " (('<\\\\s>', '<s>'), 342),\n",
              " (('bony', 'thorax'), 337),\n",
              " (('intact', '<\\\\s>'), 336),\n",
              " (('seen', '<\\\\s>'), 334),\n",
              " (('<s>', 'the'), 330),\n",
              " (('is', 'seen'), 310),\n",
              " (('clear', '<\\\\s>'), 296),\n",
              " (('noted', '<\\\\s>'), 294),\n",
              " (('<s>', 'bony'), 268),\n",
              " (('thorax', 'is'), 263),\n",
              " (('is', 'noted'), 260),\n",
              " (('<s>', 'both'), 252),\n",
              " (('is', 'intact'), 252),\n",
              " (('both', 'costophrenic'), 244),\n",
              " (('effusion', '<\\\\s>'), 231),\n",
              " (('<s>', 'normal'), 228),\n",
              " (('infiltration', 'at'), 207),\n",
              " (('<s>', 'mild'), 202)]"
            ]
          },
          "metadata": {},
          "execution_count": 89
        }
      ]
    },
    {
      "cell_type": "code",
      "source": [
        "v1_b1i0_trigram = createPatternNgrams(v1_b1i0_report, 3)\n",
        "list(v1_b1i0_trigram.items())[:20]"
      ],
      "metadata": {
        "colab": {
          "base_uri": "https://localhost:8080/"
        },
        "id": "8HKOXKl8XSsJ",
        "outputId": "7c868944-8154-4fb9-b0ad-2be2d38e4ace"
      },
      "execution_count": 90,
      "outputs": [
        {
          "output_type": "execute_result",
          "data": {
            "text/plain": [
              "[(('is', 'seen', '<\\\\s>'), 268),\n",
              " (('bony', 'thorax', 'is'), 262),\n",
              " (('is', 'intact', '<\\\\s>'), 252),\n",
              " (('thorax', 'is', 'intact'), 237),\n",
              " (('is', 'noted', '<\\\\s>'), 226),\n",
              " (('<s>', 'bony', 'thorax'), 203),\n",
              " (('pleural', 'effusion', '<\\\\s>'), 199),\n",
              " (('<s>', 'both', 'costophrenic'), 197),\n",
              " (('are', 'clear', '<\\\\s>'), 185),\n",
              " (('<s>', 'no', 'cardiomegaly'), 156),\n",
              " (('both', 'costophrenic', 'angles'), 149),\n",
              " (('<s>', 'there', 'is'), 145),\n",
              " (('costophrenic', 'angles', 'are'), 143),\n",
              " (('not', 'enlarged', '<\\\\s>'), 137),\n",
              " (('is', 'not', 'enlarged'), 136),\n",
              " (('heart', 'is', 'not'), 131),\n",
              " (('<s>', 'compared', 'to'), 120),\n",
              " (('<s>', 'heart', 'is'), 119),\n",
              " (('no', 'pleural', 'effusion'), 118),\n",
              " (('angles', 'are', 'clear'), 118)]"
            ]
          },
          "metadata": {},
          "execution_count": 90
        }
      ]
    },
    {
      "cell_type": "code",
      "source": [
        "v1_b1i0_fourgram = createPatternNgrams(v1_b1i0_report, 4)\n",
        "list(v1_b1i0_fourgram.items())[:20]"
      ],
      "metadata": {
        "colab": {
          "base_uri": "https://localhost:8080/"
        },
        "id": "IatwRC0NXVBT",
        "outputId": "969fc0e9-6d32-4d10-f440-bddd17906413"
      },
      "execution_count": 91,
      "outputs": [
        {
          "output_type": "execute_result",
          "data": {
            "text/plain": [
              "[(('bony', 'thorax', 'is', 'intact'), 237),\n",
              " (('thorax', 'is', 'intact', '<\\\\s>'), 237),\n",
              " (('<s>', 'bony', 'thorax', 'is'), 189),\n",
              " (('is', 'not', 'enlarged', '<\\\\s>'), 136),\n",
              " (('both', 'costophrenic', 'angles', 'are'), 130),\n",
              " (('heart', 'is', 'not', 'enlarged'), 125),\n",
              " (('angles', 'are', 'clear', '<\\\\s>'), 118),\n",
              " (('costophrenic', 'angles', 'are', 'clear'), 112),\n",
              " (('<s>', 'no', 'pleural', 'effusion'), 111),\n",
              " (('compared', 'to', 'film', 'on'), 109),\n",
              " (('<s>', 'both', 'costophrenic', 'angles'), 107),\n",
              " (('<s>', 'compared', 'to', 'film'), 104),\n",
              " (('<s>', 'heart', 'is', 'not'), 91),\n",
              " (('<s>', 'both', 'costophrenic', 'sulci'), 87),\n",
              " (('<s>', 'no', 'cardiomegaly', '<\\\\s>'), 85),\n",
              " (('<s>', 'normal', 'cardiothoracic', 'ratio'), 84),\n",
              " (('are', 'not', 'remarkable', '<\\\\s>'), 83),\n",
              " (('cardiomegaly', 'is', 'noted', '<\\\\s>'), 77),\n",
              " (('normal', 'cardiothoracic', 'ratio', '<\\\\s>'), 77),\n",
              " (('no', 'pleural', 'effusion', '<\\\\s>'), 74)]"
            ]
          },
          "metadata": {},
          "execution_count": 91
        }
      ]
    },
    {
      "cell_type": "markdown",
      "source": [
        "With keyword"
      ],
      "metadata": {
        "id": "8BoerL6NkC-1"
      }
    },
    {
      "cell_type": "code",
      "source": [
        "v1_b1i0_bigramk = createPatternNgrams(v1_b1i0_report, 2, v1_keyword)\n",
        "list(v1_b1i0_bigramk.items())[:20]"
      ],
      "metadata": {
        "colab": {
          "base_uri": "https://localhost:8080/"
        },
        "id": "Woirv0cugaQl",
        "outputId": "5c035241-4f63-4e09-fd80-6fcb359a9c8e"
      },
      "execution_count": 92,
      "outputs": [
        {
          "output_type": "execute_result",
          "data": {
            "text/plain": [
              "[(('<s>', 'no'), 239),\n",
              " (('<\\\\s>', '<s>'), 219),\n",
              " (('infiltration', 'at'), 207),\n",
              " (('at', 'both'), 154),\n",
              " (('is', 'seen'), 131),\n",
              " (('<s>', 'the'), 129),\n",
              " (('pulmonary', 'infiltration'), 129),\n",
              " (('seen', '<\\\\s>'), 124),\n",
              " (('clear', '<\\\\s>'), 124),\n",
              " (('<s>', 'both'), 122),\n",
              " (('unremarkable', '<\\\\s>'), 108),\n",
              " (('<s>', 'there'), 106),\n",
              " (('both', 'lungs'), 103),\n",
              " (('costophrenic', 'sulci'), 102),\n",
              " (('there', 'is'), 100),\n",
              " (('left', 'lung'), 99),\n",
              " (('interstitial', 'infiltration'), 95),\n",
              " (('both', 'costophrenic'), 95),\n",
              " (('at', 'right'), 94),\n",
              " (('infiltration', '<\\\\s>'), 94)]"
            ]
          },
          "metadata": {},
          "execution_count": 92
        }
      ]
    },
    {
      "cell_type": "code",
      "source": [
        "v1_b1i0_trigramk = createPatternNgrams(v1_b1i0_report, 3, v1_keyword)\n",
        "list(v1_b1i0_trigramk.items())[:20]"
      ],
      "metadata": {
        "colab": {
          "base_uri": "https://localhost:8080/"
        },
        "id": "kKCQ-wQZgdfQ",
        "outputId": "35cf0dfc-4d0d-48ed-aa8e-bc5b70ed4d9c"
      },
      "execution_count": 93,
      "outputs": [
        {
          "output_type": "execute_result",
          "data": {
            "text/plain": [
              "[(('is', 'seen', '<\\\\s>'), 98),\n",
              " (('<s>', 'there', 'is'), 95),\n",
              " (('<s>', 'both', 'costophrenic'), 85),\n",
              " (('both', 'costophrenic', 'sulci'), 84),\n",
              " (('not', 'remarkable', '<\\\\s>'), 84),\n",
              " (('are', 'not', 'remarkable'), 83),\n",
              " (('costophrenic', 'sulci', 'are'), 74),\n",
              " (('is', 'clear', '<\\\\s>'), 71),\n",
              " (('is', 'noted', '<\\\\s>'), 67),\n",
              " (('interstitial', 'infiltration', 'at'), 62),\n",
              " (('active', 'pulmonary', 'infiltration'), 60),\n",
              " (('lung', 'is', 'clear'), 59),\n",
              " (('pulmonary', 'infiltration', '<\\\\s>'), 57),\n",
              " (('sulci', 'are', 'not'), 56),\n",
              " (('<s>', 'no', 'new'), 55),\n",
              " (('infiltration', 'at', 'both'), 53),\n",
              " (('no', 'new', 'lung'), 49),\n",
              " (('new', 'lung', 'lesion'), 48),\n",
              " (('<s>', 'no', 'active'), 47),\n",
              " (('both', 'lungs', '<\\\\s>'), 47)]"
            ]
          },
          "metadata": {},
          "execution_count": 93
        }
      ]
    },
    {
      "cell_type": "code",
      "source": [
        "v1_b1i0_fourgramk = createPatternNgrams(v1_b1i0_report, 4, v1_keyword)\n",
        "list(v1_b1i0_fourgramk.items())[:20]"
      ],
      "metadata": {
        "colab": {
          "base_uri": "https://localhost:8080/"
        },
        "id": "1rQqbjyMobwZ",
        "outputId": "cc3e5b15-d747-4b7f-843f-2c892240cdf9"
      },
      "execution_count": 94,
      "outputs": [
        {
          "output_type": "execute_result",
          "data": {
            "text/plain": [
              "[(('<s>', 'both', 'costophrenic', 'sulci'), 83),\n",
              " (('are', 'not', 'remarkable', '<\\\\s>'), 83),\n",
              " (('both', 'costophrenic', 'sulci', 'are'), 60),\n",
              " (('lung', 'is', 'clear', '<\\\\s>'), 57),\n",
              " (('costophrenic', 'sulci', 'are', 'not'), 56),\n",
              " (('sulci', 'are', 'not', 'remarkable'), 56),\n",
              " (('<s>', 'no', 'new', 'lung'), 49),\n",
              " (('no', 'new', 'lung', 'lesion'), 48),\n",
              " (('new', 'lung', 'lesion', 'is'), 44),\n",
              " (('no', 'active', 'pulmonary', 'infiltration'), 43),\n",
              " (('<s>', 'there', 'is', 'no'), 35),\n",
              " (('<s>', 'no', 'active', 'pulmonary'), 34),\n",
              " (('active', 'pulmonary', 'infiltration', '<\\\\s>'), 31),\n",
              " (('<\\\\s>', '<s>', 'there', 'is'), 31),\n",
              " (('<s>', 'the', 'chest', 'shows'), 30),\n",
              " (('left', 'lung', 'is', 'clear'), 29),\n",
              " (('no', 'definite', 'pulmonary', 'infiltration'), 28),\n",
              " (('interstitial', 'infiltration', 'at', 'both'), 26),\n",
              " (('at', 'both', 'lower', 'lungs'), 26),\n",
              " (('of', 'lung', 'markings', 'at'), 25)]"
            ]
          },
          "metadata": {},
          "execution_count": 94
        }
      ]
    },
    {
      "cell_type": "code",
      "source": [
        "v1_b1i0_fivegramk = createPatternNgrams(v1_b1i0_report, 5, v1_keyword)\n",
        "list(v1_b1i0_fivegramk.items())[:20]"
      ],
      "metadata": {
        "colab": {
          "base_uri": "https://localhost:8080/"
        },
        "id": "AbRfOYDGoxvz",
        "outputId": "ca34f71b-11a9-4594-a28a-c4244b6e640e"
      },
      "execution_count": 95,
      "outputs": [
        {
          "output_type": "execute_result",
          "data": {
            "text/plain": [
              "[(('<s>', 'both', 'costophrenic', 'sulci', 'are'), 60),\n",
              " (('costophrenic', 'sulci', 'are', 'not', 'remarkable'), 56),\n",
              " (('sulci', 'are', 'not', 'remarkable', '<\\\\s>'), 56),\n",
              " (('<s>', 'no', 'new', 'lung', 'lesion'), 48),\n",
              " (('no', 'new', 'lung', 'lesion', 'is'), 44),\n",
              " (('both', 'costophrenic', 'sulci', 'are', 'not'), 42),\n",
              " (('<s>', 'no', 'active', 'pulmonary', 'infiltration'), 33),\n",
              " (('left', 'lung', 'is', 'clear', '<\\\\s>'), 27),\n",
              " (('bony', 'thorax', 'is', 'unremarkable', '<\\\\s>'), 24),\n",
              " (('and', 'diaphragm', 'are', 'not', 'remarkable'), 23),\n",
              " (('diaphragm', 'are', 'not', 'remarkable', '<\\\\s>'), 23),\n",
              " (('new', 'lung', 'lesion', 'is', 'seen'), 22),\n",
              " (('lung', 'lesion', 'is', 'seen', '<\\\\s>'), 22),\n",
              " (('<s>', 'bony', 'thorax', 'is', 'unremarkable'), 22),\n",
              " (('no', 'active', 'pulmonary', 'infiltration', '<\\\\s>'), 21),\n",
              " (('<s>', 'no', 'definite', 'pulmonary', 'infiltration'), 21),\n",
              " (('<s>', 'both', 'costophrenic', 'sulci', 'hili'), 21),\n",
              " (('both', 'costophrenic', 'sulci', 'hili', 'and'), 20),\n",
              " (('costophrenic', 'sulci', 'hili', 'and', 'diaphragm'), 20),\n",
              " (('sulci', 'hili', 'and', 'diaphragm', 'are'), 20)]"
            ]
          },
          "metadata": {},
          "execution_count": 95
        }
      ]
    },
    {
      "cell_type": "markdown",
      "source": [
        "## Find Word Before"
      ],
      "metadata": {
        "id": "7T13ntJRA_Di"
      }
    },
    {
      "cell_type": "code",
      "source": [
        "before_infiltration = findWordBefore(v1_b0i1_bigram, 'infiltration')\n",
        "print('infiltration :', v1_b0i1_unigram['infiltration',])\n",
        "print('word before infiltration :', sum(before_infiltration.values()))\n",
        "list(before_infiltration.items())[:10]"
      ],
      "metadata": {
        "colab": {
          "base_uri": "https://localhost:8080/"
        },
        "id": "niomZZ6o_KCj",
        "outputId": "54677357-5ecc-4d0c-c820-4213f6705969"
      },
      "execution_count": 96,
      "outputs": [
        {
          "output_type": "stream",
          "name": "stdout",
          "text": [
            "infiltration : 75096\n",
            "word before infiltration : 75096\n"
          ]
        },
        {
          "output_type": "execute_result",
          "data": {
            "text/plain": [
              "[('pulmonary', 35747),\n",
              " ('reticulonodular', 11375),\n",
              " ('interstitial', 6340),\n",
              " ('fibronodular', 3414),\n",
              " ('fibrotic', 3364),\n",
              " ('nodular', 1921),\n",
              " ('fibrocalcific', 1575),\n",
              " ('patchy', 1312),\n",
              " ('fibrointerstitial', 893),\n",
              " ('reticular', 877)]"
            ]
          },
          "metadata": {},
          "execution_count": 96
        }
      ]
    },
    {
      "cell_type": "code",
      "source": [
        "before_infiltrate = findWordBefore(v1_b0i1_bigram, 'infiltrate')\n",
        "print('infiltrate :', v1_b0i1_unigram['infiltrate',])\n",
        "print('word before infiltrate :', sum(before_infiltrate.values()))\n",
        "list(before_infiltrate.items())[:10]"
      ],
      "metadata": {
        "colab": {
          "base_uri": "https://localhost:8080/"
        },
        "id": "phwlyxXUX5sy",
        "outputId": "79513881-7349-40c3-d817-c416703faf73"
      },
      "execution_count": 97,
      "outputs": [
        {
          "output_type": "stream",
          "name": "stdout",
          "text": [
            "infiltrate : 1353\n",
            "word before infiltrate : 1353\n"
          ]
        },
        {
          "output_type": "execute_result",
          "data": {
            "text/plain": [
              "[('reticulonodular', 928),\n",
              " ('nodular', 71),\n",
              " ('fibrocalcific', 68),\n",
              " ('fibronodular', 42),\n",
              " ('reticular', 36),\n",
              " ('<s>', 31),\n",
              " ('interstitial', 30),\n",
              " ('with', 16),\n",
              " ('reticulnodular', 15),\n",
              " ('minimal', 13)]"
            ]
          },
          "metadata": {},
          "execution_count": 97
        }
      ]
    },
    {
      "cell_type": "code",
      "source": [
        "before_infiltration = findWordBefore(v1_b1i0_bigram, 'infiltration')\n",
        "print('infiltration :', v1_b1i0_unigram['infiltration',])\n",
        "print('word before infiltration :', sum(before_infiltration.values()))\n",
        "list(before_infiltration.items())[:10]"
      ],
      "metadata": {
        "colab": {
          "base_uri": "https://localhost:8080/"
        },
        "id": "0e0WoEjn_TZo",
        "outputId": "04d2b81f-0de6-4028-9901-68c602ed1bd2"
      },
      "execution_count": 98,
      "outputs": [
        {
          "output_type": "stream",
          "name": "stdout",
          "text": [
            "infiltration : 513\n",
            "word before infiltration : 513\n"
          ]
        },
        {
          "output_type": "execute_result",
          "data": {
            "text/plain": [
              "[('pulmonary', 129),\n",
              " ('interstitial', 95),\n",
              " ('patchy', 68),\n",
              " ('rll', 17),\n",
              " ('fibrotic', 16),\n",
              " ('rul', 16),\n",
              " ('reticulonodular', 11),\n",
              " ('no', 10),\n",
              " ('active', 10),\n",
              " ('of', 9)]"
            ]
          },
          "metadata": {},
          "execution_count": 98
        }
      ]
    },
    {
      "cell_type": "markdown",
      "source": [
        "# Atelectasis"
      ],
      "metadata": {
        "id": "QCLw7dulSAn0"
      }
    },
    {
      "cell_type": "markdown",
      "source": [
        "## Prepare Data"
      ],
      "metadata": {
        "id": "XmenEah0UABe"
      }
    },
    {
      "cell_type": "code",
      "source": [
        "# choose rows\n",
        "atelec_df, atelec_b0i1_df, atelec_b1i0_df = selectData(df, 'Atelectasis')\n",
        "atelec_df"
      ],
      "metadata": {
        "colab": {
          "base_uri": "https://localhost:8080/",
          "height": 765
        },
        "id": "3TTmrNhXSBP_",
        "outputId": "d3f85cf9-84b0-45e3-d35f-e9742fd5ed0e"
      },
      "execution_count": 99,
      "outputs": [
        {
          "output_type": "execute_result",
          "data": {
            "text/plain": [
              "0    Image Index                                            Reports  \\\n",
              "0       20306056  CXR\\n  Suboptimal inspiration is noted.\\n  Inc...   \n",
              "1       20344856  Chest film\\nReticulonodular infiltration both ...   \n",
              "2       20353706  CXR PA upright\\nFibropathy and atelectasis at ...   \n",
              "3       20359793  CXR\\n  Compare with film on 6/5/05, less expan...   \n",
              "4       20361595  CXR\\n\\nRUL ateletasis.\\nFibrocalcific infiltra...   \n",
              "...          ...                                                ...   \n",
              "2165    25094580  CXR PA UPRIGHT\\nFINDINGS:\\nIncrease in amount ...   \n",
              "2166    25094828  CXR PA UPRIGHT\\n\\nFINDINGS:\\nFurther increase ...   \n",
              "2167    25097701  CHEST FILM\\n\\nCompare to CXR on 22/2/2018, no ...   \n",
              "2168    25100972  CXR PA\\n\\nCompared study: 18/04/2018\\nSuspicio...   \n",
              "2169    25102147  CXR PA\\nIncrease in degree of opacification of...   \n",
              "\n",
              "0    Cardiomegaly BERT Labeler Edema BERT Labeler  \\\n",
              "0                           -1                  0   \n",
              "1                            0                  0   \n",
              "2                            0                  0   \n",
              "3                            0                  0   \n",
              "4                            1                  0   \n",
              "...                        ...                ...   \n",
              "2165                        -1                  0   \n",
              "2166                        -1                  0   \n",
              "2167                         1                  0   \n",
              "2168                         0                  0   \n",
              "2169                         1                  0   \n",
              "\n",
              "0    Inspectra Lung Opacity v1 BERT Labeler Atelectasis BERT Labeler  \\\n",
              "0                                         0                        1   \n",
              "1                                         0                        1   \n",
              "2                                         0                        0   \n",
              "3                                         0                        0   \n",
              "4                                         1                        1   \n",
              "...                                     ...                      ...   \n",
              "2165                                      0                        1   \n",
              "2166                                      0                        1   \n",
              "2167                                      0                        0   \n",
              "2168                                      0                        1   \n",
              "2169                                      1                        1   \n",
              "\n",
              "0    Pleural Effusion BERT Labeler Lung Lesion BERT Labeler  \\\n",
              "0                                0                        0   \n",
              "1                                0                        1   \n",
              "2                                0                        1   \n",
              "3                                0                        0   \n",
              "4                                0                        0   \n",
              "...                            ...                      ...   \n",
              "2165                             1                        0   \n",
              "2166                             1                        0   \n",
              "2167                             1                        0   \n",
              "2168                             1                        1   \n",
              "2169                            -1                        0   \n",
              "\n",
              "0    Cardiomegaly Inspectra Labeler Edema Inspectra Labeler  ...  \\\n",
              "0                                -1                       0  ...   \n",
              "1                                 0                       0  ...   \n",
              "2                                 0                       0  ...   \n",
              "3                                 0                       0  ...   \n",
              "4                                 1                       0  ...   \n",
              "...                             ...                     ...  ...   \n",
              "2165                             -1                       0  ...   \n",
              "2166                             -1                       0  ...   \n",
              "2167                              1                       0  ...   \n",
              "2168                              0                       0  ...   \n",
              "2169                              1                       0  ...   \n",
              "\n",
              "0    Atelectasis Inspectra Labeler Pleural Effusion Inspectra Labeler  \\\n",
              "0                                0                                  0   \n",
              "1                                0                                  0   \n",
              "2                                1                                  0   \n",
              "3                                1                                  0   \n",
              "4                                0                                  0   \n",
              "...                            ...                                ...   \n",
              "2165                             0                                  1   \n",
              "2166                             0                                  1   \n",
              "2167                             1                                  1   \n",
              "2168                             0                                  1   \n",
              "2169                             0                                 -1   \n",
              "\n",
              "0    Lung Lesion Inspectra Labeler Inspectra Lung Opacity v1 Balanced Score  \\\n",
              "0                                0                             0.1212930209   \n",
              "1                                0                             0.2955181881   \n",
              "2                                0                             0.9336188886   \n",
              "3                                0                             0.6829327517   \n",
              "4                                0                             0.5468756785   \n",
              "...                            ...                                      ...   \n",
              "2165                             0                             0.7094685716   \n",
              "2166                             0                              0.758041559   \n",
              "2167                             0                              0.895257505   \n",
              "2168                             1                             0.3408991231   \n",
              "2169                             0                             0.7760819472   \n",
              "\n",
              "0    Mass Balanced Score Nodule Balanced Score Edema Balanced Score  \\\n",
              "0          0.06004886437         0.06782658038         0.3911514027   \n",
              "1           0.2323869381          0.8824456146       0.006998682049   \n",
              "2           0.1687630824          0.5583767301        0.03142648212   \n",
              "3           0.1301421545          0.2440125346          0.388215461   \n",
              "4           0.2285589693          0.3596826504        0.07667310766   \n",
              "...                  ...                   ...                  ...   \n",
              "2165        0.2294285033          0.2662446658         0.1714694755   \n",
              "2166        0.2478894476            0.26763224         0.1229577586   \n",
              "2167         0.227974605          0.6194419396          0.383797026   \n",
              "2168        0.3123909012          0.8802979532        0.05109197491   \n",
              "2169        0.2347027435          0.3645727965         0.3597033193   \n",
              "\n",
              "0    Atelectasis Balanced Score Cardiomegaly Balanced Score  \\\n",
              "0                  0.1170704572                0.7822361718   \n",
              "1                 0.06093342448              0.009307021363   \n",
              "2                  0.7349457878               0.05296808628   \n",
              "3                  0.4157071961                0.2981577734   \n",
              "4                  0.8331698199                0.6703110048   \n",
              "...                         ...                         ...   \n",
              "2165               0.4353038826               0.02299523286   \n",
              "2166               0.4709005516               0.02349641865   \n",
              "2167               0.2936593018                 0.817986079   \n",
              "2168               0.2459659047               0.03043722218   \n",
              "2169               0.4676783294                0.3647995638   \n",
              "\n",
              "0    Pleural Effusion Balanced Score  \n",
              "0                     0.007802768752  \n",
              "1                      0.06180102524  \n",
              "2                       0.1119734273  \n",
              "3                      0.06305989021  \n",
              "4                       0.1585522988  \n",
              "...                              ...  \n",
              "2165                    0.6082483764  \n",
              "2166                    0.4537408123  \n",
              "2167                    0.4619188675  \n",
              "2168                    0.5723631177  \n",
              "2169                    0.4756150429  \n",
              "\n",
              "[2170 rows x 21 columns]"
            ],
            "text/html": [
              "\n",
              "  <div id=\"df-3a2a020e-3478-4ba9-a764-e9311ae72476\">\n",
              "    <div class=\"colab-df-container\">\n",
              "      <div>\n",
              "<style scoped>\n",
              "    .dataframe tbody tr th:only-of-type {\n",
              "        vertical-align: middle;\n",
              "    }\n",
              "\n",
              "    .dataframe tbody tr th {\n",
              "        vertical-align: top;\n",
              "    }\n",
              "\n",
              "    .dataframe thead th {\n",
              "        text-align: right;\n",
              "    }\n",
              "</style>\n",
              "<table border=\"1\" class=\"dataframe\">\n",
              "  <thead>\n",
              "    <tr style=\"text-align: right;\">\n",
              "      <th></th>\n",
              "      <th>Image Index</th>\n",
              "      <th>Reports</th>\n",
              "      <th>Cardiomegaly BERT Labeler</th>\n",
              "      <th>Edema BERT Labeler</th>\n",
              "      <th>Inspectra Lung Opacity v1 BERT Labeler</th>\n",
              "      <th>Atelectasis BERT Labeler</th>\n",
              "      <th>Pleural Effusion BERT Labeler</th>\n",
              "      <th>Lung Lesion BERT Labeler</th>\n",
              "      <th>Cardiomegaly Inspectra Labeler</th>\n",
              "      <th>Edema Inspectra Labeler</th>\n",
              "      <th>...</th>\n",
              "      <th>Atelectasis Inspectra Labeler</th>\n",
              "      <th>Pleural Effusion Inspectra Labeler</th>\n",
              "      <th>Lung Lesion Inspectra Labeler</th>\n",
              "      <th>Inspectra Lung Opacity v1 Balanced Score</th>\n",
              "      <th>Mass Balanced Score</th>\n",
              "      <th>Nodule Balanced Score</th>\n",
              "      <th>Edema Balanced Score</th>\n",
              "      <th>Atelectasis Balanced Score</th>\n",
              "      <th>Cardiomegaly Balanced Score</th>\n",
              "      <th>Pleural Effusion Balanced Score</th>\n",
              "    </tr>\n",
              "  </thead>\n",
              "  <tbody>\n",
              "    <tr>\n",
              "      <th>0</th>\n",
              "      <td>20306056</td>\n",
              "      <td>CXR\\n  Suboptimal inspiration is noted.\\n  Inc...</td>\n",
              "      <td>-1</td>\n",
              "      <td>0</td>\n",
              "      <td>0</td>\n",
              "      <td>1</td>\n",
              "      <td>0</td>\n",
              "      <td>0</td>\n",
              "      <td>-1</td>\n",
              "      <td>0</td>\n",
              "      <td>...</td>\n",
              "      <td>0</td>\n",
              "      <td>0</td>\n",
              "      <td>0</td>\n",
              "      <td>0.1212930209</td>\n",
              "      <td>0.06004886437</td>\n",
              "      <td>0.06782658038</td>\n",
              "      <td>0.3911514027</td>\n",
              "      <td>0.1170704572</td>\n",
              "      <td>0.7822361718</td>\n",
              "      <td>0.007802768752</td>\n",
              "    </tr>\n",
              "    <tr>\n",
              "      <th>1</th>\n",
              "      <td>20344856</td>\n",
              "      <td>Chest film\\nReticulonodular infiltration both ...</td>\n",
              "      <td>0</td>\n",
              "      <td>0</td>\n",
              "      <td>0</td>\n",
              "      <td>1</td>\n",
              "      <td>0</td>\n",
              "      <td>1</td>\n",
              "      <td>0</td>\n",
              "      <td>0</td>\n",
              "      <td>...</td>\n",
              "      <td>0</td>\n",
              "      <td>0</td>\n",
              "      <td>0</td>\n",
              "      <td>0.2955181881</td>\n",
              "      <td>0.2323869381</td>\n",
              "      <td>0.8824456146</td>\n",
              "      <td>0.006998682049</td>\n",
              "      <td>0.06093342448</td>\n",
              "      <td>0.009307021363</td>\n",
              "      <td>0.06180102524</td>\n",
              "    </tr>\n",
              "    <tr>\n",
              "      <th>2</th>\n",
              "      <td>20353706</td>\n",
              "      <td>CXR PA upright\\nFibropathy and atelectasis at ...</td>\n",
              "      <td>0</td>\n",
              "      <td>0</td>\n",
              "      <td>0</td>\n",
              "      <td>0</td>\n",
              "      <td>0</td>\n",
              "      <td>1</td>\n",
              "      <td>0</td>\n",
              "      <td>0</td>\n",
              "      <td>...</td>\n",
              "      <td>1</td>\n",
              "      <td>0</td>\n",
              "      <td>0</td>\n",
              "      <td>0.9336188886</td>\n",
              "      <td>0.1687630824</td>\n",
              "      <td>0.5583767301</td>\n",
              "      <td>0.03142648212</td>\n",
              "      <td>0.7349457878</td>\n",
              "      <td>0.05296808628</td>\n",
              "      <td>0.1119734273</td>\n",
              "    </tr>\n",
              "    <tr>\n",
              "      <th>3</th>\n",
              "      <td>20359793</td>\n",
              "      <td>CXR\\n  Compare with film on 6/5/05, less expan...</td>\n",
              "      <td>0</td>\n",
              "      <td>0</td>\n",
              "      <td>0</td>\n",
              "      <td>0</td>\n",
              "      <td>0</td>\n",
              "      <td>0</td>\n",
              "      <td>0</td>\n",
              "      <td>0</td>\n",
              "      <td>...</td>\n",
              "      <td>1</td>\n",
              "      <td>0</td>\n",
              "      <td>0</td>\n",
              "      <td>0.6829327517</td>\n",
              "      <td>0.1301421545</td>\n",
              "      <td>0.2440125346</td>\n",
              "      <td>0.388215461</td>\n",
              "      <td>0.4157071961</td>\n",
              "      <td>0.2981577734</td>\n",
              "      <td>0.06305989021</td>\n",
              "    </tr>\n",
              "    <tr>\n",
              "      <th>4</th>\n",
              "      <td>20361595</td>\n",
              "      <td>CXR\\n\\nRUL ateletasis.\\nFibrocalcific infiltra...</td>\n",
              "      <td>1</td>\n",
              "      <td>0</td>\n",
              "      <td>1</td>\n",
              "      <td>1</td>\n",
              "      <td>0</td>\n",
              "      <td>0</td>\n",
              "      <td>1</td>\n",
              "      <td>0</td>\n",
              "      <td>...</td>\n",
              "      <td>0</td>\n",
              "      <td>0</td>\n",
              "      <td>0</td>\n",
              "      <td>0.5468756785</td>\n",
              "      <td>0.2285589693</td>\n",
              "      <td>0.3596826504</td>\n",
              "      <td>0.07667310766</td>\n",
              "      <td>0.8331698199</td>\n",
              "      <td>0.6703110048</td>\n",
              "      <td>0.1585522988</td>\n",
              "    </tr>\n",
              "    <tr>\n",
              "      <th>...</th>\n",
              "      <td>...</td>\n",
              "      <td>...</td>\n",
              "      <td>...</td>\n",
              "      <td>...</td>\n",
              "      <td>...</td>\n",
              "      <td>...</td>\n",
              "      <td>...</td>\n",
              "      <td>...</td>\n",
              "      <td>...</td>\n",
              "      <td>...</td>\n",
              "      <td>...</td>\n",
              "      <td>...</td>\n",
              "      <td>...</td>\n",
              "      <td>...</td>\n",
              "      <td>...</td>\n",
              "      <td>...</td>\n",
              "      <td>...</td>\n",
              "      <td>...</td>\n",
              "      <td>...</td>\n",
              "      <td>...</td>\n",
              "      <td>...</td>\n",
              "    </tr>\n",
              "    <tr>\n",
              "      <th>2165</th>\n",
              "      <td>25094580</td>\n",
              "      <td>CXR PA UPRIGHT\\nFINDINGS:\\nIncrease in amount ...</td>\n",
              "      <td>-1</td>\n",
              "      <td>0</td>\n",
              "      <td>0</td>\n",
              "      <td>1</td>\n",
              "      <td>1</td>\n",
              "      <td>0</td>\n",
              "      <td>-1</td>\n",
              "      <td>0</td>\n",
              "      <td>...</td>\n",
              "      <td>0</td>\n",
              "      <td>1</td>\n",
              "      <td>0</td>\n",
              "      <td>0.7094685716</td>\n",
              "      <td>0.2294285033</td>\n",
              "      <td>0.2662446658</td>\n",
              "      <td>0.1714694755</td>\n",
              "      <td>0.4353038826</td>\n",
              "      <td>0.02299523286</td>\n",
              "      <td>0.6082483764</td>\n",
              "    </tr>\n",
              "    <tr>\n",
              "      <th>2166</th>\n",
              "      <td>25094828</td>\n",
              "      <td>CXR PA UPRIGHT\\n\\nFINDINGS:\\nFurther increase ...</td>\n",
              "      <td>-1</td>\n",
              "      <td>0</td>\n",
              "      <td>0</td>\n",
              "      <td>1</td>\n",
              "      <td>1</td>\n",
              "      <td>0</td>\n",
              "      <td>-1</td>\n",
              "      <td>0</td>\n",
              "      <td>...</td>\n",
              "      <td>0</td>\n",
              "      <td>1</td>\n",
              "      <td>0</td>\n",
              "      <td>0.758041559</td>\n",
              "      <td>0.2478894476</td>\n",
              "      <td>0.26763224</td>\n",
              "      <td>0.1229577586</td>\n",
              "      <td>0.4709005516</td>\n",
              "      <td>0.02349641865</td>\n",
              "      <td>0.4537408123</td>\n",
              "    </tr>\n",
              "    <tr>\n",
              "      <th>2167</th>\n",
              "      <td>25097701</td>\n",
              "      <td>CHEST FILM\\n\\nCompare to CXR on 22/2/2018, no ...</td>\n",
              "      <td>1</td>\n",
              "      <td>0</td>\n",
              "      <td>0</td>\n",
              "      <td>0</td>\n",
              "      <td>1</td>\n",
              "      <td>0</td>\n",
              "      <td>1</td>\n",
              "      <td>0</td>\n",
              "      <td>...</td>\n",
              "      <td>1</td>\n",
              "      <td>1</td>\n",
              "      <td>0</td>\n",
              "      <td>0.895257505</td>\n",
              "      <td>0.227974605</td>\n",
              "      <td>0.6194419396</td>\n",
              "      <td>0.383797026</td>\n",
              "      <td>0.2936593018</td>\n",
              "      <td>0.817986079</td>\n",
              "      <td>0.4619188675</td>\n",
              "    </tr>\n",
              "    <tr>\n",
              "      <th>2168</th>\n",
              "      <td>25100972</td>\n",
              "      <td>CXR PA\\n\\nCompared study: 18/04/2018\\nSuspicio...</td>\n",
              "      <td>0</td>\n",
              "      <td>0</td>\n",
              "      <td>0</td>\n",
              "      <td>1</td>\n",
              "      <td>1</td>\n",
              "      <td>1</td>\n",
              "      <td>0</td>\n",
              "      <td>0</td>\n",
              "      <td>...</td>\n",
              "      <td>0</td>\n",
              "      <td>1</td>\n",
              "      <td>1</td>\n",
              "      <td>0.3408991231</td>\n",
              "      <td>0.3123909012</td>\n",
              "      <td>0.8802979532</td>\n",
              "      <td>0.05109197491</td>\n",
              "      <td>0.2459659047</td>\n",
              "      <td>0.03043722218</td>\n",
              "      <td>0.5723631177</td>\n",
              "    </tr>\n",
              "    <tr>\n",
              "      <th>2169</th>\n",
              "      <td>25102147</td>\n",
              "      <td>CXR PA\\nIncrease in degree of opacification of...</td>\n",
              "      <td>1</td>\n",
              "      <td>0</td>\n",
              "      <td>1</td>\n",
              "      <td>1</td>\n",
              "      <td>-1</td>\n",
              "      <td>0</td>\n",
              "      <td>1</td>\n",
              "      <td>0</td>\n",
              "      <td>...</td>\n",
              "      <td>0</td>\n",
              "      <td>-1</td>\n",
              "      <td>0</td>\n",
              "      <td>0.7760819472</td>\n",
              "      <td>0.2347027435</td>\n",
              "      <td>0.3645727965</td>\n",
              "      <td>0.3597033193</td>\n",
              "      <td>0.4676783294</td>\n",
              "      <td>0.3647995638</td>\n",
              "      <td>0.4756150429</td>\n",
              "    </tr>\n",
              "  </tbody>\n",
              "</table>\n",
              "<p>2170 rows × 21 columns</p>\n",
              "</div>\n",
              "      <button class=\"colab-df-convert\" onclick=\"convertToInteractive('df-3a2a020e-3478-4ba9-a764-e9311ae72476')\"\n",
              "              title=\"Convert this dataframe to an interactive table.\"\n",
              "              style=\"display:none;\">\n",
              "        \n",
              "  <svg xmlns=\"http://www.w3.org/2000/svg\" height=\"24px\"viewBox=\"0 0 24 24\"\n",
              "       width=\"24px\">\n",
              "    <path d=\"M0 0h24v24H0V0z\" fill=\"none\"/>\n",
              "    <path d=\"M18.56 5.44l.94 2.06.94-2.06 2.06-.94-2.06-.94-.94-2.06-.94 2.06-2.06.94zm-11 1L8.5 8.5l.94-2.06 2.06-.94-2.06-.94L8.5 2.5l-.94 2.06-2.06.94zm10 10l.94 2.06.94-2.06 2.06-.94-2.06-.94-.94-2.06-.94 2.06-2.06.94z\"/><path d=\"M17.41 7.96l-1.37-1.37c-.4-.4-.92-.59-1.43-.59-.52 0-1.04.2-1.43.59L10.3 9.45l-7.72 7.72c-.78.78-.78 2.05 0 2.83L4 21.41c.39.39.9.59 1.41.59.51 0 1.02-.2 1.41-.59l7.78-7.78 2.81-2.81c.8-.78.8-2.07 0-2.86zM5.41 20L4 18.59l7.72-7.72 1.47 1.35L5.41 20z\"/>\n",
              "  </svg>\n",
              "      </button>\n",
              "      \n",
              "  <style>\n",
              "    .colab-df-container {\n",
              "      display:flex;\n",
              "      flex-wrap:wrap;\n",
              "      gap: 12px;\n",
              "    }\n",
              "\n",
              "    .colab-df-convert {\n",
              "      background-color: #E8F0FE;\n",
              "      border: none;\n",
              "      border-radius: 50%;\n",
              "      cursor: pointer;\n",
              "      display: none;\n",
              "      fill: #1967D2;\n",
              "      height: 32px;\n",
              "      padding: 0 0 0 0;\n",
              "      width: 32px;\n",
              "    }\n",
              "\n",
              "    .colab-df-convert:hover {\n",
              "      background-color: #E2EBFA;\n",
              "      box-shadow: 0px 1px 2px rgba(60, 64, 67, 0.3), 0px 1px 3px 1px rgba(60, 64, 67, 0.15);\n",
              "      fill: #174EA6;\n",
              "    }\n",
              "\n",
              "    [theme=dark] .colab-df-convert {\n",
              "      background-color: #3B4455;\n",
              "      fill: #D2E3FC;\n",
              "    }\n",
              "\n",
              "    [theme=dark] .colab-df-convert:hover {\n",
              "      background-color: #434B5C;\n",
              "      box-shadow: 0px 1px 3px 1px rgba(0, 0, 0, 0.15);\n",
              "      filter: drop-shadow(0px 1px 2px rgba(0, 0, 0, 0.3));\n",
              "      fill: #FFFFFF;\n",
              "    }\n",
              "  </style>\n",
              "\n",
              "      <script>\n",
              "        const buttonEl =\n",
              "          document.querySelector('#df-3a2a020e-3478-4ba9-a764-e9311ae72476 button.colab-df-convert');\n",
              "        buttonEl.style.display =\n",
              "          google.colab.kernel.accessAllowed ? 'block' : 'none';\n",
              "\n",
              "        async function convertToInteractive(key) {\n",
              "          const element = document.querySelector('#df-3a2a020e-3478-4ba9-a764-e9311ae72476');\n",
              "          const dataTable =\n",
              "            await google.colab.kernel.invokeFunction('convertToInteractive',\n",
              "                                                     [key], {});\n",
              "          if (!dataTable) return;\n",
              "\n",
              "          const docLinkHtml = 'Like what you see? Visit the ' +\n",
              "            '<a target=\"_blank\" href=https://colab.research.google.com/notebooks/data_table.ipynb>data table notebook</a>'\n",
              "            + ' to learn more about interactive tables.';\n",
              "          element.innerHTML = '';\n",
              "          dataTable['output_type'] = 'display_data';\n",
              "          await google.colab.output.renderOutput(dataTable, element);\n",
              "          const docLink = document.createElement('div');\n",
              "          docLink.innerHTML = docLinkHtml;\n",
              "          element.appendChild(docLink);\n",
              "        }\n",
              "      </script>\n",
              "    </div>\n",
              "  </div>\n",
              "  "
            ]
          },
          "metadata": {},
          "execution_count": 99
        }
      ]
    },
    {
      "cell_type": "code",
      "source": [
        "# create report list\n",
        "atelec_b0i1_report = createReportList(atelec_b0i1_df)\n",
        "atelec_b1i0_report = createReportList(atelec_b1i0_df)\n",
        "atelec_b0i1_report[0]"
      ],
      "metadata": {
        "colab": {
          "base_uri": "https://localhost:8080/"
        },
        "id": "5w7QBKm1SNNF",
        "outputId": "537adb5e-3f8e-43b4-fa1b-43cc71cae542"
      },
      "execution_count": 100,
      "outputs": [
        {
          "output_type": "stream",
          "name": "stdout",
          "text": [
            "Lenght : 810\n",
            "Lenght : 1360\n"
          ]
        },
        {
          "output_type": "execute_result",
          "data": {
            "text/plain": [
              "['CXR PA upright',\n",
              " 'Fibropathy and atelectasis at RUL',\n",
              " 'Nodular infiltration LUL',\n",
              " 'Normal cardiothoracic ratio',\n",
              " 'Bony thorax is intact',\n",
              " 'Both costophrenic sulci are not remarkable']"
            ]
          },
          "metadata": {},
          "execution_count": 100
        }
      ]
    },
    {
      "cell_type": "code",
      "source": [
        "atelec_keyword = r'atelec|collap|volume'"
      ],
      "metadata": {
        "id": "SK-aSotgd3Im"
      },
      "execution_count": 101,
      "outputs": []
    },
    {
      "cell_type": "markdown",
      "source": [
        "## BERT 0, Inspectra 1"
      ],
      "metadata": {
        "id": "exwTR05aSyKn"
      }
    },
    {
      "cell_type": "markdown",
      "source": [
        "Without keyword"
      ],
      "metadata": {
        "id": "lNFnN3Bpj0Xx"
      }
    },
    {
      "cell_type": "code",
      "source": [
        "atelec_b0i1_unigram = createPatternNgrams(atelec_b0i1_report, 1)"
      ],
      "metadata": {
        "id": "wNdkp7Dh_nm1"
      },
      "execution_count": 102,
      "outputs": []
    },
    {
      "cell_type": "code",
      "source": [
        "atelec_b0i1_bigram = createPatternNgrams(atelec_b0i1_report, 2)\n",
        "list(atelec_b0i1_bigram.items())[:20]"
      ],
      "metadata": {
        "colab": {
          "base_uri": "https://localhost:8080/"
        },
        "id": "HVjMN8jdS4Ny",
        "outputId": "76d79d10-0b0c-46e6-9247-26a8e49fa30a"
      },
      "execution_count": 103,
      "outputs": [
        {
          "output_type": "execute_result",
          "data": {
            "text/plain": [
              "[(('<s>', 'no'), 1231),\n",
              " (('change', 'of'), 746),\n",
              " (('no', 'change'), 550),\n",
              " (('atelectasis', 'at'), 489),\n",
              " (('<s>', 'the'), 385),\n",
              " (('plate', 'atelectasis'), 369),\n",
              " (('bony', 'thorax'), 345),\n",
              " (('both', 'costophrenic'), 342),\n",
              " (('<s>', 'both'), 332),\n",
              " (('intact', '<\\\\s>'), 304),\n",
              " (('thorax', 'is'), 295),\n",
              " (('is', 'intact'), 292),\n",
              " (('is', 'noted'), 287),\n",
              " (('noted', '<\\\\s>'), 287),\n",
              " (('<s>', 'normal'), 282),\n",
              " (('pulmonary', 'infiltration'), 274),\n",
              " (('active', 'pulmonary'), 260),\n",
              " (('at', 'right'), 258),\n",
              " (('pleural', 'effusion'), 245),\n",
              " (('at', 'left'), 232)]"
            ]
          },
          "metadata": {},
          "execution_count": 103
        }
      ]
    },
    {
      "cell_type": "code",
      "source": [
        "atelec_b0i1_trigram = createPatternNgrams(atelec_b0i1_report, 3)\n",
        "list(atelec_b0i1_trigram.items())[:20]"
      ],
      "metadata": {
        "colab": {
          "base_uri": "https://localhost:8080/"
        },
        "id": "Uzm6ZxdbFsqy",
        "outputId": "140dd784-6d96-4d47-fa96-3df2425fefde"
      },
      "execution_count": 104,
      "outputs": [
        {
          "output_type": "execute_result",
          "data": {
            "text/plain": [
              "[(('no', 'change', 'of'), 536),\n",
              " (('<s>', 'no', 'change'), 378),\n",
              " (('plate', 'atelectasis', 'at'), 315),\n",
              " (('<s>', 'both', 'costophrenic'), 309),\n",
              " (('bony', 'thorax', 'is'), 293),\n",
              " (('is', 'intact', '<\\\\s>'), 292),\n",
              " (('thorax', 'is', 'intact'), 277),\n",
              " (('is', 'noted', '<\\\\s>'), 241),\n",
              " (('normal', 'cardiothoracic', 'ratio'), 221),\n",
              " (('<s>', 'normal', 'cardiothoracic'), 217),\n",
              " (('not', 'remarkable', '<\\\\s>'), 208),\n",
              " (('cardiothoracic', 'ratio', '<\\\\s>'), 205),\n",
              " (('are', 'not', 'remarkable'), 205),\n",
              " (('active', 'pulmonary', 'infiltration'), 204),\n",
              " (('both', 'costophrenic', 'sulci'), 201),\n",
              " (('<s>', 'bony', 'thorax'), 198),\n",
              " (('is', 'seen', '<\\\\s>'), 190),\n",
              " (('of', 'plate', 'atelectasis'), 184),\n",
              " (('are', 'clear', '<\\\\s>'), 166),\n",
              " (('no', 'significant', 'change'), 164)]"
            ]
          },
          "metadata": {},
          "execution_count": 104
        }
      ]
    },
    {
      "cell_type": "markdown",
      "source": [
        "With keyword"
      ],
      "metadata": {
        "id": "Gtl3e6uNkA2X"
      }
    },
    {
      "cell_type": "code",
      "source": [
        "atelec_b0i1_bigramk = createPatternNgrams(atelec_b0i1_report, 2, atelec_keyword)\n",
        "list(atelec_b0i1_bigramk.items())[:20]"
      ],
      "metadata": {
        "colab": {
          "base_uri": "https://localhost:8080/"
        },
        "id": "9CSlBCPieHbO",
        "outputId": "72aafcbe-637a-4635-c4dd-418be979cae8"
      },
      "execution_count": 105,
      "outputs": [
        {
          "output_type": "execute_result",
          "data": {
            "text/plain": [
              "[(('change', 'of'), 508),\n",
              " (('atelectasis', 'at'), 489),\n",
              " (('<s>', 'no'), 476),\n",
              " (('no', 'change'), 392),\n",
              " (('plate', 'atelectasis'), 369),\n",
              " (('of', 'plate'), 200),\n",
              " (('at', 'left'), 171),\n",
              " (('lung', '<\\\\s>'), 138),\n",
              " (('at', 'right'), 131),\n",
              " (('at', 'lll'), 128),\n",
              " (('no', 'significant'), 124),\n",
              " (('changed', 'of'), 106),\n",
              " (('<s>', 'plate'), 105),\n",
              " (('significant', 'change'), 102),\n",
              " (('of', 'atelectasis'), 95),\n",
              " (('no', 'changed'), 86),\n",
              " (('lll', '<\\\\s>'), 83),\n",
              " (('noted', '<\\\\s>'), 81),\n",
              " (('lower', 'lung'), 80),\n",
              " (('and', 'atelectasis'), 77)]"
            ]
          },
          "metadata": {},
          "execution_count": 105
        }
      ]
    },
    {
      "cell_type": "code",
      "source": [
        "atelec_b0i1_trigramk = createPatternNgrams(atelec_b0i1_report, 3, atelec_keyword)\n",
        "list(atelec_b0i1_trigramk.items())[:20]"
      ],
      "metadata": {
        "colab": {
          "base_uri": "https://localhost:8080/"
        },
        "id": "dWvCLg9NeLV-",
        "outputId": "7f28444f-0005-431c-c724-e1bd44f57eee"
      },
      "execution_count": 106,
      "outputs": [
        {
          "output_type": "execute_result",
          "data": {
            "text/plain": [
              "[(('no', 'change', 'of'), 390),\n",
              " (('plate', 'atelectasis', 'at'), 315),\n",
              " (('<s>', 'no', 'change'), 279),\n",
              " (('of', 'plate', 'atelectasis'), 184),\n",
              " (('change', 'of', 'plate'), 156),\n",
              " (('atelectasis', 'at', 'left'), 145),\n",
              " (('atelectasis', 'at', 'lll'), 112),\n",
              " (('no', 'significant', 'change'), 102),\n",
              " (('significant', 'change', 'of'), 102),\n",
              " (('<s>', 'plate', 'atelectasis'), 100),\n",
              " (('<s>', 'no', 'significant'), 87),\n",
              " (('no', 'changed', 'of'), 86),\n",
              " (('atelectasis', 'at', 'right'), 85),\n",
              " (('change', 'of', 'atelectasis'), 80),\n",
              " (('at', 'lll', '<\\\\s>'), 74),\n",
              " (('<s>', 'no', 'changed'), 73),\n",
              " (('is', 'noted', '<\\\\s>'), 69),\n",
              " (('of', 'atelectasis', 'at'), 51),\n",
              " (('<s>', 'the', 'chest'), 47),\n",
              " (('the', 'chest', 'shows'), 47)]"
            ]
          },
          "metadata": {},
          "execution_count": 106
        }
      ]
    },
    {
      "cell_type": "code",
      "source": [
        "atelec_b0i1_fourgramk = createPatternNgrams(atelec_b0i1_report, 4, atelec_keyword)\n",
        "list(atelec_b0i1_fourgramk.items())[:20]"
      ],
      "metadata": {
        "colab": {
          "base_uri": "https://localhost:8080/"
        },
        "id": "Qhc_h1WLqzCA",
        "outputId": "fdb1a254-7252-407b-bc2d-851f728ae754"
      },
      "execution_count": 107,
      "outputs": [
        {
          "output_type": "execute_result",
          "data": {
            "text/plain": [
              "[(('<s>', 'no', 'change', 'of'), 279),\n",
              " (('of', 'plate', 'atelectasis', 'at'), 147),\n",
              " (('no', 'change', 'of', 'plate'), 143),\n",
              " (('change', 'of', 'plate', 'atelectasis'), 143),\n",
              " (('plate', 'atelectasis', 'at', 'left'), 116),\n",
              " (('no', 'significant', 'change', 'of'), 102),\n",
              " (('plate', 'atelectasis', 'at', 'lll'), 99),\n",
              " (('<s>', 'plate', 'atelectasis', 'at'), 96),\n",
              " (('<s>', 'no', 'significant', 'change'), 73),\n",
              " (('<s>', 'no', 'changed', 'of'), 73),\n",
              " (('atelectasis', 'at', 'lll', '<\\\\s>'), 68),\n",
              " (('no', 'change', 'of', 'atelectasis'), 58),\n",
              " (('<s>', 'the', 'chest', 'shows'), 47),\n",
              " (('the', 'chest', 'shows', 'no'), 46),\n",
              " (('shows', 'no', 'change', 'of'), 43),\n",
              " (('atelectasis', 'at', 'left', 'lower'), 43),\n",
              " (('chest', 'shows', 'no', 'change'), 42),\n",
              " (('at', 'left', 'lower', 'lung'), 42),\n",
              " (('change', 'of', 'atelectasis', 'at'), 40),\n",
              " (('changed', 'of', 'plate', 'atelectasis'), 39)]"
            ]
          },
          "metadata": {},
          "execution_count": 107
        }
      ]
    },
    {
      "cell_type": "code",
      "source": [
        "atelec_b0i1_fivegramk = createPatternNgrams(atelec_b0i1_report, 5, atelec_keyword)\n",
        "list(atelec_b0i1_fivegramk.items())[:20]"
      ],
      "metadata": {
        "colab": {
          "base_uri": "https://localhost:8080/"
        },
        "id": "0PD6463Yp__6",
        "outputId": "b67db7bf-c9fc-4048-e056-5f372b528b54"
      },
      "execution_count": 108,
      "outputs": [
        {
          "output_type": "execute_result",
          "data": {
            "text/plain": [
              "[(('no', 'change', 'of', 'plate', 'atelectasis'), 130),\n",
              " (('<s>', 'no', 'change', 'of', 'plate'), 117),\n",
              " (('change', 'of', 'plate', 'atelectasis', 'at'), 106),\n",
              " (('<s>', 'no', 'significant', 'change', 'of'), 73),\n",
              " (('plate', 'atelectasis', 'at', 'lll', '<\\\\s>'), 59),\n",
              " (('of', 'plate', 'atelectasis', 'at', 'lll'), 58),\n",
              " (('<s>', 'plate', 'atelectasis', 'at', 'left'), 51),\n",
              " (('<s>', 'the', 'chest', 'shows', 'no'), 46),\n",
              " (('the', 'chest', 'shows', 'no', 'change'), 42),\n",
              " (('chest', 'shows', 'no', 'change', 'of'), 42),\n",
              " (('of', 'plate', 'atelectasis', 'at', 'left'), 41),\n",
              " (('atelectasis', 'at', 'left', 'lower', 'lung'), 41),\n",
              " (('plate', 'atelectasis', 'at', 'left', 'lower'), 40),\n",
              " (('changed', 'of', 'plate', 'atelectasis', 'at'), 39),\n",
              " (('no', 'changed', 'of', 'plate', 'atelectasis'), 37),\n",
              " (('<s>', 'no', 'changed', 'of', 'plate'), 35),\n",
              " (('plate', 'atelectasis', 'at', 'lll', 'is'), 32),\n",
              " (('no', 'change', 'of', 'atelectasis', 'at'), 29),\n",
              " (('fibrosis', 'or', 'plate', 'atelectasis', 'at'), 28),\n",
              " (('atelectasis', 'at', 'left', 'mid', 'lung'), 28)]"
            ]
          },
          "metadata": {},
          "execution_count": 108
        }
      ]
    },
    {
      "cell_type": "code",
      "source": [
        "atelec_b0i1_sixgramk = createPatternNgrams(atelec_b0i1_report, 6, atelec_keyword)\n",
        "list(atelec_b0i1_sixgramk.items())[:20]"
      ],
      "metadata": {
        "colab": {
          "base_uri": "https://localhost:8080/"
        },
        "id": "MojlxY5PrTEo",
        "outputId": "4ded6c92-e4bb-4c1f-f2fa-1acef5b57f6a"
      },
      "execution_count": 109,
      "outputs": [
        {
          "output_type": "execute_result",
          "data": {
            "text/plain": [
              "[(('<s>', 'no', 'change', 'of', 'plate', 'atelectasis'), 110),\n",
              " (('no', 'change', 'of', 'plate', 'atelectasis', 'at'), 99),\n",
              " (('change', 'of', 'plate', 'atelectasis', 'at', 'lll'), 50),\n",
              " (('<s>', 'the', 'chest', 'shows', 'no', 'change'), 42),\n",
              " (('the', 'chest', 'shows', 'no', 'change', 'of'), 42),\n",
              " (('plate', 'atelectasis', 'at', 'left', 'lower', 'lung'), 39),\n",
              " (('no', 'changed', 'of', 'plate', 'atelectasis', 'at'), 37),\n",
              " (('<s>', 'no', 'changed', 'of', 'plate', 'atelectasis'), 35),\n",
              " (('of', 'plate', 'atelectasis', 'at', 'lll', '<\\\\s>'), 28),\n",
              " (('plate', 'atelectasis', 'at', 'left', 'mid', 'lung'), 25),\n",
              " (('change', 'of', 'plate', 'atelectasis', 'at', 'left'), 25),\n",
              " (('of', 'plate', 'atelectasis', 'at', 'lll', 'is'), 23),\n",
              " (('plate', 'atelectasis', 'at', 'left', 'basal', 'lung'), 20),\n",
              " (('<s>', 'plate', 'atelectasis', 'at', 'lll', '<\\\\s>'), 20),\n",
              " (('chest', 'shows', 'no', 'change', 'of', 'atelectasis'), 19),\n",
              " (('plate', 'atelectasis', 'at', 'lll', 'is', 'noted'), 19),\n",
              " (('atelectasis', 'at', 'lll', 'is', 'noted', '<\\\\s>'), 19),\n",
              " (('atelectasis', 'at', 'left', 'basal', 'lung', '<\\\\s>'), 18),\n",
              " (('<s>', 'plate', 'atelectasis', 'at', 'left', 'lower'), 17),\n",
              " (('when', 'compare', 'to', 'previous', 'film', 'on'), 16)]"
            ]
          },
          "metadata": {},
          "execution_count": 109
        }
      ]
    },
    {
      "cell_type": "markdown",
      "source": [
        "## BERT 1, Inspectra 0"
      ],
      "metadata": {
        "id": "TXBLoYIJS4nS"
      }
    },
    {
      "cell_type": "markdown",
      "source": [
        "Without keyword"
      ],
      "metadata": {
        "id": "ajkedUA6j1et"
      }
    },
    {
      "cell_type": "code",
      "source": [
        "atelec_b1i0_unigram = createPatternNgrams(atelec_b1i0_report, 1)"
      ],
      "metadata": {
        "id": "BJBTXUoM_5JL"
      },
      "execution_count": 110,
      "outputs": []
    },
    {
      "cell_type": "code",
      "source": [
        "atelec_b1i0_bigram = createPatternNgrams(atelec_b1i0_report, 2)\n",
        "list(atelec_b1i0_bigram.items())[:20]"
      ],
      "metadata": {
        "colab": {
          "base_uri": "https://localhost:8080/"
        },
        "id": "byTaUHBuS5ek",
        "outputId": "b343f689-9900-4c25-a805-2fa7c0464a81"
      },
      "execution_count": 111,
      "outputs": [
        {
          "output_type": "execute_result",
          "data": {
            "text/plain": [
              "[(('<s>', 'no'), 1511),\n",
              " (('noted', '<\\\\s>'), 818),\n",
              " (('is', 'seen'), 783),\n",
              " (('seen', '<\\\\s>'), 782),\n",
              " (('<s>', 'the'), 745),\n",
              " (('is', 'noted'), 729),\n",
              " (('pleural', 'effusion'), 606),\n",
              " (('<\\\\s>', '<s>'), 526),\n",
              " (('change', 'of'), 486),\n",
              " (('pulmonary', 'infiltration'), 479),\n",
              " (('clear', '<\\\\s>'), 421),\n",
              " (('both', 'costophrenic'), 381),\n",
              " (('cardiomegaly', 'is'), 355),\n",
              " (('<s>', 'both'), 331),\n",
              " (('degenerative', 'change'), 329),\n",
              " (('effusion', '<\\\\s>'), 315),\n",
              " (('are', 'clear'), 308),\n",
              " (('at', 'right'), 306),\n",
              " (('no', 'active'), 304),\n",
              " (('costophrenic', 'angles'), 300)]"
            ]
          },
          "metadata": {},
          "execution_count": 111
        }
      ]
    },
    {
      "cell_type": "code",
      "source": [
        "atelec_b1i0_trigram = createPatternNgrams(atelec_b1i0_report, 3)\n",
        "list(atelec_b1i0_trigram.items())[:20]"
      ],
      "metadata": {
        "colab": {
          "base_uri": "https://localhost:8080/"
        },
        "id": "EN1Ugq0-GDDP",
        "outputId": "cee3df24-f275-4054-f2ae-815e11a430bb"
      },
      "execution_count": 112,
      "outputs": [
        {
          "output_type": "execute_result",
          "data": {
            "text/plain": [
              "[(('is', 'seen', '<\\\\s>'), 698),\n",
              " (('is', 'noted', '<\\\\s>'), 652),\n",
              " (('are', 'clear', '<\\\\s>'), 306),\n",
              " (('costophrenic', 'angles', 'are'), 290),\n",
              " (('pleural', 'effusion', '<\\\\s>'), 280),\n",
              " (('both', 'costophrenic', 'angles'), 278),\n",
              " (('<s>', 'no', 'cardiomegaly'), 263),\n",
              " (('<s>', 'both', 'costophrenic'), 245),\n",
              " (('pleural', 'effusion', 'is'), 228),\n",
              " (('degenerative', 'change', 'of'), 210),\n",
              " (('<s>', 'degenerative', 'change'), 204),\n",
              " (('is', 'intact', '<\\\\s>'), 198),\n",
              " (('bony', 'thorax', 'is'), 192),\n",
              " (('is', 'observed', '<\\\\s>'), 192),\n",
              " (('cardiomegaly', 'is', 'seen'), 177),\n",
              " (('thorax', 'is', 'intact'), 176),\n",
              " (('angles', 'are', 'clear'), 170),\n",
              " (('pulmonary', 'infiltration', 'or'), 169),\n",
              " (('no', 'cardiomegaly', 'is'), 168),\n",
              " (('calcified', 'aortic', 'knob'), 167)]"
            ]
          },
          "metadata": {},
          "execution_count": 112
        }
      ]
    },
    {
      "cell_type": "markdown",
      "source": [
        "With keyword"
      ],
      "metadata": {
        "id": "j547G9nwj-45"
      }
    },
    {
      "cell_type": "code",
      "source": [
        "atelec_b1i0_bigramk = createPatternNgrams(atelec_b1i0_report, 2, atelec_keyword)\n",
        "list(atelec_b1i0_bigramk.items())[:20]"
      ],
      "metadata": {
        "colab": {
          "base_uri": "https://localhost:8080/"
        },
        "id": "rWHfJFQteQVP",
        "outputId": "a2d44f42-61ce-43de-99f5-f2217f3757cb"
      },
      "execution_count": 113,
      "outputs": [
        {
          "output_type": "execute_result",
          "data": {
            "text/plain": [
              "[(('<s>', 'collapsed'), 209),\n",
              " (('atelectasis', 'at'), 187),\n",
              " (('<\\\\s>', '<s>'), 186),\n",
              " (('change', 'of'), 183),\n",
              " (('noted', '<\\\\s>'), 164),\n",
              " (('left', 'lung'), 149),\n",
              " (('degenerative', 'change'), 136),\n",
              " (('is', 'noted'), 135),\n",
              " (('<s>', 'the'), 133),\n",
              " (('right', 'lung'), 125),\n",
              " (('is', 'seen'), 119),\n",
              " (('<s>', 'plate'), 117),\n",
              " (('with', 'collapsed'), 116),\n",
              " (('seen', '<\\\\s>'), 106),\n",
              " (('<s>', 'degenerative'), 105),\n",
              " (('at', 'left'), 102),\n",
              " (('collapse', 'of'), 99),\n",
              " (('<s>', 'no'), 87),\n",
              " (('lung', '<\\\\s>'), 85),\n",
              " (('at', 'right'), 82)]"
            ]
          },
          "metadata": {},
          "execution_count": 113
        }
      ]
    },
    {
      "cell_type": "code",
      "source": [
        "atelec_b1i0_trigramk = createPatternNgrams(atelec_b1i0_report, 3, atelec_keyword)\n",
        "list(atelec_b1i0_trigramk.items())[:20]"
      ],
      "metadata": {
        "colab": {
          "base_uri": "https://localhost:8080/"
        },
        "id": "DQkGzIWveUNz",
        "outputId": "a5a3a393-55b3-4cc3-8b3b-470e6a97528e"
      },
      "execution_count": 114,
      "outputs": [
        {
          "output_type": "execute_result",
          "data": {
            "text/plain": [
              "[(('is', 'noted', '<\\\\s>'), 105),\n",
              " (('<s>', 'degenerative', 'change'), 95),\n",
              " (('degenerative', 'change', 'of'), 94),\n",
              " (('is', 'seen', '<\\\\s>'), 83),\n",
              " (('plate', 'like', 'atelectasis'), 77),\n",
              " (('like', 'atelectasis', 'at'), 76),\n",
              " (('<s>', 'plate', 'like'), 71),\n",
              " (('collapsed', 'compression', 'fracture'), 68),\n",
              " (('atelectasis', 'at', 'lll'), 66),\n",
              " (('plate', 'atelectasis', 'at'), 65),\n",
              " (('change', 'of', 'spine'), 64),\n",
              " (('compression', 'fracture', 'at'), 63),\n",
              " (('atelectasis', 'at', 'left'), 57),\n",
              " (('of', 'spine', 'with'), 54),\n",
              " (('<s>', 'the', 'chest'), 52),\n",
              " (('are', 'noted', '<\\\\s>'), 52),\n",
              " (('the', 'chest', 'shows'), 51),\n",
              " (('of', 'left', 'lung'), 47),\n",
              " (('no', 'significant', 'change'), 46),\n",
              " (('<s>', 'collapsed', 't12'), 43)]"
            ]
          },
          "metadata": {},
          "execution_count": 114
        }
      ]
    },
    {
      "cell_type": "code",
      "source": [
        "atelec_b1i0_fourgramk = createPatternNgrams(atelec_b1i0_report, 4, atelec_keyword)\n",
        "list(atelec_b1i0_fourgramk.items())[:20]"
      ],
      "metadata": {
        "colab": {
          "base_uri": "https://localhost:8080/"
        },
        "id": "1KZfAFhyp78R",
        "outputId": "88c771ec-5403-4493-d42a-22d8d081b8c7"
      },
      "execution_count": 115,
      "outputs": [
        {
          "output_type": "execute_result",
          "data": {
            "text/plain": [
              "[(('<s>', 'degenerative', 'change', 'of'), 88),\n",
              " (('plate', 'like', 'atelectasis', 'at'), 76),\n",
              " (('<s>', 'plate', 'like', 'atelectasis'), 71),\n",
              " (('degenerative', 'change', 'of', 'spine'), 63),\n",
              " (('collapsed', 'compression', 'fracture', 'at'), 63),\n",
              " (('<s>', 'the', 'chest', 'shows'), 51),\n",
              " (('change', 'of', 'spine', 'with'), 50),\n",
              " (('like', 'atelectasis', 'at', 'left'), 40),\n",
              " (('no', 'significant', 'change', 'of'), 39),\n",
              " (('atelectasis', 'at', 'lll', 'is'), 33),\n",
              " (('the', 'chest', 'shows', 'no'), 31),\n",
              " (('atelectasis', 'at', 'left', 'lower'), 30),\n",
              " (('of', 'spine', 'with', 'collapsed'), 29),\n",
              " (('plate', 'atelectasis', 'at', 'lll'), 29),\n",
              " (('<s>', 'the', 'visualized', 'bony'), 29),\n",
              " (('the', 'visualized', 'bony', 'structures'), 29),\n",
              " (('<s>', 'no', 'significant', 'change'), 28),\n",
              " (('visualized', 'bony', 'structures', 'are'), 28),\n",
              " (('bony', 'structures', 'are', 'degenerative'), 26),\n",
              " (('structures', 'are', 'degenerative', 'change'), 26)]"
            ]
          },
          "metadata": {},
          "execution_count": 115
        }
      ]
    },
    {
      "cell_type": "code",
      "source": [
        "atelec_b1i0_fivegramk = createPatternNgrams(atelec_b1i0_report, 5, atelec_keyword)\n",
        "list(atelec_b1i0_fivegramk.items())[:20]"
      ],
      "metadata": {
        "colab": {
          "base_uri": "https://localhost:8080/"
        },
        "id": "KrbE-hnSqNis",
        "outputId": "19ec345d-7de4-449b-cd58-f674f559e841"
      },
      "execution_count": 116,
      "outputs": [
        {
          "output_type": "execute_result",
          "data": {
            "text/plain": [
              "[(('<s>', 'plate', 'like', 'atelectasis', 'at'), 70),\n",
              " (('<s>', 'degenerative', 'change', 'of', 'spine'), 60),\n",
              " (('degenerative', 'change', 'of', 'spine', 'with'), 49),\n",
              " (('plate', 'like', 'atelectasis', 'at', 'left'), 40),\n",
              " (('<s>', 'the', 'chest', 'shows', 'no'), 31),\n",
              " (('<s>', 'the', 'visualized', 'bony', 'structures'), 29),\n",
              " (('change', 'of', 'spine', 'with', 'collapsed'), 28),\n",
              " (('the', 'visualized', 'bony', 'structures', 'are'), 27),\n",
              " (('visualized', 'bony', 'structures', 'are', 'degenerative'), 26),\n",
              " (('bony', 'structures', 'are', 'degenerative', 'change'), 26),\n",
              " (('<s>', 'no', 'significant', 'change', 'of'), 25),\n",
              " (('<s>', 'collapsed', 'compression', 'fracture', 'at'), 24),\n",
              " (('the', 'chest', 'shows', 'no', 'change'), 23),\n",
              " (('like', 'atelectasis', 'at', 'left', 'lower'), 23),\n",
              " (('structures', 'are', 'degenerative', 'change', 'and'), 22),\n",
              " (('chest', 'shows', 'no', 'change', 'of'), 21),\n",
              " (('<s>', 'plate', 'liked', 'atelectasis', 'at'), 20),\n",
              " (('plate', 'like', 'atelectasis', 'at', 'lll'), 19),\n",
              " (('atelectasis', 'at', 'left', 'lower', 'lung'), 18),\n",
              " (('plate', 'atelectasis', 'at', 'lll', 'is'), 17)]"
            ]
          },
          "metadata": {},
          "execution_count": 116
        }
      ]
    },
    {
      "cell_type": "code",
      "source": [
        "atelec_b1i0_sixgramk = createPatternNgrams(atelec_b1i0_report, 6, atelec_keyword)\n",
        "list(atelec_b1i0_sixgramk.items())[:20]"
      ],
      "metadata": {
        "colab": {
          "base_uri": "https://localhost:8080/"
        },
        "id": "qbp2Tz9Nscsy",
        "outputId": "5addb356-460d-48f8-d2ba-92b3eecdaae9"
      },
      "execution_count": 117,
      "outputs": [
        {
          "output_type": "execute_result",
          "data": {
            "text/plain": [
              "[(('<s>', 'degenerative', 'change', 'of', 'spine', 'with'), 49),\n",
              " (('<s>', 'plate', 'like', 'atelectasis', 'at', 'left'), 39),\n",
              " (('degenerative', 'change', 'of', 'spine', 'with', 'collapsed'), 28),\n",
              " (('<s>', 'the', 'visualized', 'bony', 'structures', 'are'), 27),\n",
              " (('visualized', 'bony', 'structures', 'are', 'degenerative', 'change'), 26),\n",
              " (('the', 'visualized', 'bony', 'structures', 'are', 'degenerative'), 25),\n",
              " (('<s>', 'the', 'chest', 'shows', 'no', 'change'), 23),\n",
              " (('plate', 'like', 'atelectasis', 'at', 'left', 'lower'), 23),\n",
              " (('bony', 'structures', 'are', 'degenerative', 'change', 'and'), 22),\n",
              " (('the', 'chest', 'shows', 'no', 'change', 'of'), 21),\n",
              " (('<s>', 'plate', 'like', 'atelectasis', 'at', 'lll'), 15),\n",
              " (('degenerative', 'change', 'of', 'spine', 'with', 'some'), 13),\n",
              " (('<s>', 'the', 'chest', 'shows', 'total', 'collapse'), 13),\n",
              " (('like', 'atelectasis', 'at', 'left', 'lower', 'lung'), 12),\n",
              " (('<s>', 'plate', 'liked', 'atelectasis', 'at', 'lll'), 12),\n",
              " (('plate', 'like', 'atelectasis', 'at', 'lll', '<\\\\s>'), 11),\n",
              " (('chest', 'shows', 'no', 'change', 'of', 'total'), 11),\n",
              " (('shows', 'no', 'change', 'of', 'total', 'collapse'), 11),\n",
              " (('like', 'atelectasis', 'at', 'left', 'lower', 'lobe'), 11),\n",
              " (('collapsed', 'compression', 'fracture', 'at', 't', 'l'), 11)]"
            ]
          },
          "metadata": {},
          "execution_count": 117
        }
      ]
    },
    {
      "cell_type": "markdown",
      "source": [
        "## Find Word Before"
      ],
      "metadata": {
        "id": "nnmwojBPBBOF"
      }
    },
    {
      "cell_type": "code",
      "source": [
        "before_atelec = findWordBefore(atelec_b0i1_bigram, 'atelectasis')\n",
        "print('atelectasis :', atelec_b0i1_unigram['atelectasis',])\n",
        "print('word before atelectasis :', sum(before_atelec.values()))\n",
        "list(before_atelec.items())[:10]"
      ],
      "metadata": {
        "colab": {
          "base_uri": "https://localhost:8080/"
        },
        "id": "U4mZ5mam_l5K",
        "outputId": "914b5c86-77d1-4c9c-8eb0-cfaa14be2144"
      },
      "execution_count": 118,
      "outputs": [
        {
          "output_type": "stream",
          "name": "stdout",
          "text": [
            "atelectasis : 766\n",
            "word before atelectasis : 766\n"
          ]
        },
        {
          "output_type": "execute_result",
          "data": {
            "text/plain": [
              "[('plate', 369),\n",
              " ('of', 95),\n",
              " ('and', 77),\n",
              " ('rul', 32),\n",
              " ('like', 31),\n",
              " ('subsegmental', 24),\n",
              " ('partial', 20),\n",
              " ('or', 14),\n",
              " ('lul', 11),\n",
              " ('<s>', 10)]"
            ]
          },
          "metadata": {},
          "execution_count": 118
        }
      ]
    },
    {
      "cell_type": "code",
      "source": [
        "before_plate = findWordBefore(atelec_b0i1_bigram, 'plate')\n",
        "print('plate :', atelec_b0i1_unigram['plate',])\n",
        "print('word before plate :', sum(before_plate.values()))\n",
        "list(before_plate.items())[:10]"
      ],
      "metadata": {
        "colab": {
          "base_uri": "https://localhost:8080/"
        },
        "id": "zPkeBqQgtV5y",
        "outputId": "7c1b03da-b39c-488a-8666-82ee0df6a079"
      },
      "execution_count": 119,
      "outputs": [
        {
          "output_type": "stream",
          "name": "stdout",
          "text": [
            "plate : 420\n",
            "word before plate : 420\n"
          ]
        },
        {
          "output_type": "execute_result",
          "data": {
            "text/plain": [
              "[('of', 200),\n",
              " ('<s>', 110),\n",
              " ('or', 42),\n",
              " ('and', 22),\n",
              " ('small', 10),\n",
              " ('few', 7),\n",
              " ('fibrosis/', 6),\n",
              " ('minimal', 6),\n",
              " ('/', 2),\n",
              " ('the', 2)]"
            ]
          },
          "metadata": {},
          "execution_count": 119
        }
      ]
    },
    {
      "cell_type": "code",
      "source": [
        "before_atelec = findWordBefore(atelec_b1i0_bigram, 'atelectasis')\n",
        "print('atelectasis :', atelec_b1i0_unigram['atelectasis',])\n",
        "print('word before atelectasis :', sum(before_atelec.values()))\n",
        "list(before_atelec.items())[:10]"
      ],
      "metadata": {
        "colab": {
          "base_uri": "https://localhost:8080/"
        },
        "id": "FJ2aXdRA_cdZ",
        "outputId": "9441d408-dcfa-40f9-93b3-aaf1fba2acd5"
      },
      "execution_count": 120,
      "outputs": [
        {
          "output_type": "stream",
          "name": "stdout",
          "text": [
            "atelectasis : 270\n",
            "word before atelectasis : 270\n"
          ]
        },
        {
          "output_type": "execute_result",
          "data": {
            "text/plain": [
              "[('plate', 79),\n",
              " ('like', 77),\n",
              " ('liked', 20),\n",
              " ('subsegmental', 19),\n",
              " ('or', 18),\n",
              " ('rul', 7),\n",
              " ('lung', 6),\n",
              " ('and', 5),\n",
              " ('rml', 5),\n",
              " ('change', 4)]"
            ]
          },
          "metadata": {},
          "execution_count": 120
        }
      ]
    },
    {
      "cell_type": "markdown",
      "source": [
        "# Lung Lesion\n",
        "Mass + Nodule"
      ],
      "metadata": {
        "id": "Fk7ILlB5SSeX"
      }
    },
    {
      "cell_type": "markdown",
      "source": [
        "## Prepare Data"
      ],
      "metadata": {
        "id": "6FLN8IxZUB0Q"
      }
    },
    {
      "cell_type": "code",
      "source": [
        "# choose rows\n",
        "lesion_df, lesion_b0i1_df, lesion_b1i0_df = selectData(df, 'Lung Lesion')\n",
        "lesion_df"
      ],
      "metadata": {
        "colab": {
          "base_uri": "https://localhost:8080/",
          "height": 800
        },
        "id": "wiUzuzBPSVfA",
        "outputId": "b357ce8b-234b-4bf1-b273-95d19c816619"
      },
      "execution_count": 121,
      "outputs": [
        {
          "output_type": "execute_result",
          "data": {
            "text/plain": [
              "0     Image Index                                            Reports  \\\n",
              "0        20292772  CXR (PA upright)\\n\\nReticulonodular infiltrati...   \n",
              "1        20294567  Chest:-\\nPa chest study reveals fibronodular i...   \n",
              "2        20294712  CHEST :\\nP.A. upright view .\\nFibronodular inf...   \n",
              "3        20295457  CXR\\n  No previous film to be compared.\\n  RLL...   \n",
              "4        20296088  CXR PA upright\\n  The chest shows mild reticul...   \n",
              "...           ...                                                ...   \n",
              "34343    25105659  CXR PA upright\\n\\n  DIffuse reticulonodular in...   \n",
              "34344    25105743  CXR PA \\n\\nDiffuse reticulonodular infiltratio...   \n",
              "34345    25105767  Chest PA upright \\n\\nknown CA breast\\n\\nSurgic...   \n",
              "34346    25105998  CXR(PA)\\n  \\n   Retilocalcified nodules of bot...   \n",
              "34347    25106503  CXR(PA)\\n\\n  IMP: Retioculonodular infiltratio...   \n",
              "\n",
              "0     Cardiomegaly BERT Labeler Edema BERT Labeler  \\\n",
              "0                             0                  0   \n",
              "1                             0                  0   \n",
              "2                             0                  0   \n",
              "3                             0                  0   \n",
              "4                             0                  0   \n",
              "...                         ...                ...   \n",
              "34343                         0                  0   \n",
              "34344                         0                  0   \n",
              "34345                         0                  0   \n",
              "34346                         1                  0   \n",
              "34347                         1                  0   \n",
              "\n",
              "0     Inspectra Lung Opacity v1 BERT Labeler Atelectasis BERT Labeler  \\\n",
              "0                                          0                        0   \n",
              "1                                          0                        0   \n",
              "2                                          0                        0   \n",
              "3                                          1                        0   \n",
              "4                                          0                        0   \n",
              "...                                      ...                      ...   \n",
              "34343                                      0                        0   \n",
              "34344                                      0                        0   \n",
              "34345                                      0                        0   \n",
              "34346                                      0                        0   \n",
              "34347                                      0                        0   \n",
              "\n",
              "0     Pleural Effusion BERT Labeler Lung Lesion BERT Labeler  \\\n",
              "0                                 0                        1   \n",
              "1                                 0                        1   \n",
              "2                                 0                        1   \n",
              "3                                 1                        1   \n",
              "4                                 0                        1   \n",
              "...                             ...                      ...   \n",
              "34343                             0                        1   \n",
              "34344                             0                        1   \n",
              "34345                             0                        1   \n",
              "34346                             0                        0   \n",
              "34347                             0                        1   \n",
              "\n",
              "0     Cardiomegaly Inspectra Labeler Edema Inspectra Labeler  ...  \\\n",
              "0                                  0                       0  ...   \n",
              "1                                  0                       0  ...   \n",
              "2                                  0                       0  ...   \n",
              "3                                  0                       0  ...   \n",
              "4                                  0                       0  ...   \n",
              "...                              ...                     ...  ...   \n",
              "34343                              0                       0  ...   \n",
              "34344                              0                       0  ...   \n",
              "34345                              0                       0  ...   \n",
              "34346                              1                       0  ...   \n",
              "34347                              1                       0  ...   \n",
              "\n",
              "0     Atelectasis Inspectra Labeler Pleural Effusion Inspectra Labeler  \\\n",
              "0                                 0                                  0   \n",
              "1                                 0                                  0   \n",
              "2                                 0                                  0   \n",
              "3                                 0                                  1   \n",
              "4                                 0                                  0   \n",
              "...                             ...                                ...   \n",
              "34343                             0                                  0   \n",
              "34344                             0                                  0   \n",
              "34345                             0                                  0   \n",
              "34346                             0                                  0   \n",
              "34347                             0                                  0   \n",
              "\n",
              "0     Lung Lesion Inspectra Labeler Inspectra Lung Opacity v1 Balanced Score  \\\n",
              "0                                 0                             0.9478721681   \n",
              "1                                 0                             0.8226948088   \n",
              "2                                 0                             0.6979679996   \n",
              "3                                 0                             0.8582449093   \n",
              "4                                 0                             0.7284609589   \n",
              "...                             ...                                      ...   \n",
              "34343                             0                             0.8751587523   \n",
              "34344                             0                            0.02014802623   \n",
              "34345                             0                             0.8246030918   \n",
              "34346                             1                             0.8039141853   \n",
              "34347                             0                             0.8797720788   \n",
              "\n",
              "0     Mass Balanced Score Nodule Balanced Score Edema Balanced Score  \\\n",
              "0            0.1678770714          0.4644771763        0.08673519902   \n",
              "1            0.1517771742          0.6166349793        0.01350364634   \n",
              "2            0.1366843406          0.6163465142        0.04663362481   \n",
              "3            0.5941714662          0.5386270446         0.2007227667   \n",
              "4           0.07017927657          0.3137481618        0.04706920547   \n",
              "...                   ...                   ...                  ...   \n",
              "34343        0.1217781402          0.6192859137        0.05592964319   \n",
              "34344        0.2061536583          0.9158935925                    0   \n",
              "34345        0.1140795483          0.5280247845       0.004297864794   \n",
              "34346        0.1314715573           0.774282467         0.3601595743   \n",
              "34347        0.2601079604          0.7077789726         0.1511556734   \n",
              "\n",
              "0     Atelectasis Balanced Score Cardiomegaly Balanced Score  \\\n",
              "0                   0.2267119501               0.05830180422   \n",
              "1                    0.235725454               0.00647519908   \n",
              "2                  0.08208811247               0.02999480347   \n",
              "3                   0.4146865418                0.2195140952   \n",
              "4                  0.04304903915              0.005609614713   \n",
              "...                          ...                         ...   \n",
              "34343               0.2191973016                0.1200685221   \n",
              "34344              0.03189752104               0.01101295625   \n",
              "34345                0.427581139                0.0260741439   \n",
              "34346               0.1181119851                0.9613563218   \n",
              "34347               0.2263483271                 0.700018838   \n",
              "\n",
              "0     Pleural Effusion Balanced Score  \n",
              "0                         0.878199365  \n",
              "1                       0.08067476336  \n",
              "2                       0.01371037712  \n",
              "3                        0.3749837166  \n",
              "4                       0.01186107229  \n",
              "...                               ...  \n",
              "34343                   0.05588470611  \n",
              "34344                   0.05947037651  \n",
              "34345                   0.05032755883  \n",
              "34346                   0.08755137394  \n",
              "34347                    0.1066745699  \n",
              "\n",
              "[34348 rows x 21 columns]"
            ],
            "text/html": [
              "\n",
              "  <div id=\"df-1f805216-a911-4dba-9df4-cb63a5c70c28\">\n",
              "    <div class=\"colab-df-container\">\n",
              "      <div>\n",
              "<style scoped>\n",
              "    .dataframe tbody tr th:only-of-type {\n",
              "        vertical-align: middle;\n",
              "    }\n",
              "\n",
              "    .dataframe tbody tr th {\n",
              "        vertical-align: top;\n",
              "    }\n",
              "\n",
              "    .dataframe thead th {\n",
              "        text-align: right;\n",
              "    }\n",
              "</style>\n",
              "<table border=\"1\" class=\"dataframe\">\n",
              "  <thead>\n",
              "    <tr style=\"text-align: right;\">\n",
              "      <th></th>\n",
              "      <th>Image Index</th>\n",
              "      <th>Reports</th>\n",
              "      <th>Cardiomegaly BERT Labeler</th>\n",
              "      <th>Edema BERT Labeler</th>\n",
              "      <th>Inspectra Lung Opacity v1 BERT Labeler</th>\n",
              "      <th>Atelectasis BERT Labeler</th>\n",
              "      <th>Pleural Effusion BERT Labeler</th>\n",
              "      <th>Lung Lesion BERT Labeler</th>\n",
              "      <th>Cardiomegaly Inspectra Labeler</th>\n",
              "      <th>Edema Inspectra Labeler</th>\n",
              "      <th>...</th>\n",
              "      <th>Atelectasis Inspectra Labeler</th>\n",
              "      <th>Pleural Effusion Inspectra Labeler</th>\n",
              "      <th>Lung Lesion Inspectra Labeler</th>\n",
              "      <th>Inspectra Lung Opacity v1 Balanced Score</th>\n",
              "      <th>Mass Balanced Score</th>\n",
              "      <th>Nodule Balanced Score</th>\n",
              "      <th>Edema Balanced Score</th>\n",
              "      <th>Atelectasis Balanced Score</th>\n",
              "      <th>Cardiomegaly Balanced Score</th>\n",
              "      <th>Pleural Effusion Balanced Score</th>\n",
              "    </tr>\n",
              "  </thead>\n",
              "  <tbody>\n",
              "    <tr>\n",
              "      <th>0</th>\n",
              "      <td>20292772</td>\n",
              "      <td>CXR (PA upright)\\n\\nReticulonodular infiltrati...</td>\n",
              "      <td>0</td>\n",
              "      <td>0</td>\n",
              "      <td>0</td>\n",
              "      <td>0</td>\n",
              "      <td>0</td>\n",
              "      <td>1</td>\n",
              "      <td>0</td>\n",
              "      <td>0</td>\n",
              "      <td>...</td>\n",
              "      <td>0</td>\n",
              "      <td>0</td>\n",
              "      <td>0</td>\n",
              "      <td>0.9478721681</td>\n",
              "      <td>0.1678770714</td>\n",
              "      <td>0.4644771763</td>\n",
              "      <td>0.08673519902</td>\n",
              "      <td>0.2267119501</td>\n",
              "      <td>0.05830180422</td>\n",
              "      <td>0.878199365</td>\n",
              "    </tr>\n",
              "    <tr>\n",
              "      <th>1</th>\n",
              "      <td>20294567</td>\n",
              "      <td>Chest:-\\nPa chest study reveals fibronodular i...</td>\n",
              "      <td>0</td>\n",
              "      <td>0</td>\n",
              "      <td>0</td>\n",
              "      <td>0</td>\n",
              "      <td>0</td>\n",
              "      <td>1</td>\n",
              "      <td>0</td>\n",
              "      <td>0</td>\n",
              "      <td>...</td>\n",
              "      <td>0</td>\n",
              "      <td>0</td>\n",
              "      <td>0</td>\n",
              "      <td>0.8226948088</td>\n",
              "      <td>0.1517771742</td>\n",
              "      <td>0.6166349793</td>\n",
              "      <td>0.01350364634</td>\n",
              "      <td>0.235725454</td>\n",
              "      <td>0.00647519908</td>\n",
              "      <td>0.08067476336</td>\n",
              "    </tr>\n",
              "    <tr>\n",
              "      <th>2</th>\n",
              "      <td>20294712</td>\n",
              "      <td>CHEST :\\nP.A. upright view .\\nFibronodular inf...</td>\n",
              "      <td>0</td>\n",
              "      <td>0</td>\n",
              "      <td>0</td>\n",
              "      <td>0</td>\n",
              "      <td>0</td>\n",
              "      <td>1</td>\n",
              "      <td>0</td>\n",
              "      <td>0</td>\n",
              "      <td>...</td>\n",
              "      <td>0</td>\n",
              "      <td>0</td>\n",
              "      <td>0</td>\n",
              "      <td>0.6979679996</td>\n",
              "      <td>0.1366843406</td>\n",
              "      <td>0.6163465142</td>\n",
              "      <td>0.04663362481</td>\n",
              "      <td>0.08208811247</td>\n",
              "      <td>0.02999480347</td>\n",
              "      <td>0.01371037712</td>\n",
              "    </tr>\n",
              "    <tr>\n",
              "      <th>3</th>\n",
              "      <td>20295457</td>\n",
              "      <td>CXR\\n  No previous film to be compared.\\n  RLL...</td>\n",
              "      <td>0</td>\n",
              "      <td>0</td>\n",
              "      <td>1</td>\n",
              "      <td>0</td>\n",
              "      <td>1</td>\n",
              "      <td>1</td>\n",
              "      <td>0</td>\n",
              "      <td>0</td>\n",
              "      <td>...</td>\n",
              "      <td>0</td>\n",
              "      <td>1</td>\n",
              "      <td>0</td>\n",
              "      <td>0.8582449093</td>\n",
              "      <td>0.5941714662</td>\n",
              "      <td>0.5386270446</td>\n",
              "      <td>0.2007227667</td>\n",
              "      <td>0.4146865418</td>\n",
              "      <td>0.2195140952</td>\n",
              "      <td>0.3749837166</td>\n",
              "    </tr>\n",
              "    <tr>\n",
              "      <th>4</th>\n",
              "      <td>20296088</td>\n",
              "      <td>CXR PA upright\\n  The chest shows mild reticul...</td>\n",
              "      <td>0</td>\n",
              "      <td>0</td>\n",
              "      <td>0</td>\n",
              "      <td>0</td>\n",
              "      <td>0</td>\n",
              "      <td>1</td>\n",
              "      <td>0</td>\n",
              "      <td>0</td>\n",
              "      <td>...</td>\n",
              "      <td>0</td>\n",
              "      <td>0</td>\n",
              "      <td>0</td>\n",
              "      <td>0.7284609589</td>\n",
              "      <td>0.07017927657</td>\n",
              "      <td>0.3137481618</td>\n",
              "      <td>0.04706920547</td>\n",
              "      <td>0.04304903915</td>\n",
              "      <td>0.005609614713</td>\n",
              "      <td>0.01186107229</td>\n",
              "    </tr>\n",
              "    <tr>\n",
              "      <th>...</th>\n",
              "      <td>...</td>\n",
              "      <td>...</td>\n",
              "      <td>...</td>\n",
              "      <td>...</td>\n",
              "      <td>...</td>\n",
              "      <td>...</td>\n",
              "      <td>...</td>\n",
              "      <td>...</td>\n",
              "      <td>...</td>\n",
              "      <td>...</td>\n",
              "      <td>...</td>\n",
              "      <td>...</td>\n",
              "      <td>...</td>\n",
              "      <td>...</td>\n",
              "      <td>...</td>\n",
              "      <td>...</td>\n",
              "      <td>...</td>\n",
              "      <td>...</td>\n",
              "      <td>...</td>\n",
              "      <td>...</td>\n",
              "      <td>...</td>\n",
              "    </tr>\n",
              "    <tr>\n",
              "      <th>34343</th>\n",
              "      <td>25105659</td>\n",
              "      <td>CXR PA upright\\n\\n  DIffuse reticulonodular in...</td>\n",
              "      <td>0</td>\n",
              "      <td>0</td>\n",
              "      <td>0</td>\n",
              "      <td>0</td>\n",
              "      <td>0</td>\n",
              "      <td>1</td>\n",
              "      <td>0</td>\n",
              "      <td>0</td>\n",
              "      <td>...</td>\n",
              "      <td>0</td>\n",
              "      <td>0</td>\n",
              "      <td>0</td>\n",
              "      <td>0.8751587523</td>\n",
              "      <td>0.1217781402</td>\n",
              "      <td>0.6192859137</td>\n",
              "      <td>0.05592964319</td>\n",
              "      <td>0.2191973016</td>\n",
              "      <td>0.1200685221</td>\n",
              "      <td>0.05588470611</td>\n",
              "    </tr>\n",
              "    <tr>\n",
              "      <th>34344</th>\n",
              "      <td>25105743</td>\n",
              "      <td>CXR PA \\n\\nDiffuse reticulonodular infiltratio...</td>\n",
              "      <td>0</td>\n",
              "      <td>0</td>\n",
              "      <td>0</td>\n",
              "      <td>0</td>\n",
              "      <td>0</td>\n",
              "      <td>1</td>\n",
              "      <td>0</td>\n",
              "      <td>0</td>\n",
              "      <td>...</td>\n",
              "      <td>0</td>\n",
              "      <td>0</td>\n",
              "      <td>0</td>\n",
              "      <td>0.02014802623</td>\n",
              "      <td>0.2061536583</td>\n",
              "      <td>0.9158935925</td>\n",
              "      <td>0</td>\n",
              "      <td>0.03189752104</td>\n",
              "      <td>0.01101295625</td>\n",
              "      <td>0.05947037651</td>\n",
              "    </tr>\n",
              "    <tr>\n",
              "      <th>34345</th>\n",
              "      <td>25105767</td>\n",
              "      <td>Chest PA upright \\n\\nknown CA breast\\n\\nSurgic...</td>\n",
              "      <td>0</td>\n",
              "      <td>0</td>\n",
              "      <td>0</td>\n",
              "      <td>0</td>\n",
              "      <td>0</td>\n",
              "      <td>1</td>\n",
              "      <td>0</td>\n",
              "      <td>0</td>\n",
              "      <td>...</td>\n",
              "      <td>0</td>\n",
              "      <td>0</td>\n",
              "      <td>0</td>\n",
              "      <td>0.8246030918</td>\n",
              "      <td>0.1140795483</td>\n",
              "      <td>0.5280247845</td>\n",
              "      <td>0.004297864794</td>\n",
              "      <td>0.427581139</td>\n",
              "      <td>0.0260741439</td>\n",
              "      <td>0.05032755883</td>\n",
              "    </tr>\n",
              "    <tr>\n",
              "      <th>34346</th>\n",
              "      <td>25105998</td>\n",
              "      <td>CXR(PA)\\n  \\n   Retilocalcified nodules of bot...</td>\n",
              "      <td>1</td>\n",
              "      <td>0</td>\n",
              "      <td>0</td>\n",
              "      <td>0</td>\n",
              "      <td>0</td>\n",
              "      <td>0</td>\n",
              "      <td>1</td>\n",
              "      <td>0</td>\n",
              "      <td>...</td>\n",
              "      <td>0</td>\n",
              "      <td>0</td>\n",
              "      <td>1</td>\n",
              "      <td>0.8039141853</td>\n",
              "      <td>0.1314715573</td>\n",
              "      <td>0.774282467</td>\n",
              "      <td>0.3601595743</td>\n",
              "      <td>0.1181119851</td>\n",
              "      <td>0.9613563218</td>\n",
              "      <td>0.08755137394</td>\n",
              "    </tr>\n",
              "    <tr>\n",
              "      <th>34347</th>\n",
              "      <td>25106503</td>\n",
              "      <td>CXR(PA)\\n\\n  IMP: Retioculonodular infiltratio...</td>\n",
              "      <td>1</td>\n",
              "      <td>0</td>\n",
              "      <td>0</td>\n",
              "      <td>0</td>\n",
              "      <td>0</td>\n",
              "      <td>1</td>\n",
              "      <td>1</td>\n",
              "      <td>0</td>\n",
              "      <td>...</td>\n",
              "      <td>0</td>\n",
              "      <td>0</td>\n",
              "      <td>0</td>\n",
              "      <td>0.8797720788</td>\n",
              "      <td>0.2601079604</td>\n",
              "      <td>0.7077789726</td>\n",
              "      <td>0.1511556734</td>\n",
              "      <td>0.2263483271</td>\n",
              "      <td>0.700018838</td>\n",
              "      <td>0.1066745699</td>\n",
              "    </tr>\n",
              "  </tbody>\n",
              "</table>\n",
              "<p>34348 rows × 21 columns</p>\n",
              "</div>\n",
              "      <button class=\"colab-df-convert\" onclick=\"convertToInteractive('df-1f805216-a911-4dba-9df4-cb63a5c70c28')\"\n",
              "              title=\"Convert this dataframe to an interactive table.\"\n",
              "              style=\"display:none;\">\n",
              "        \n",
              "  <svg xmlns=\"http://www.w3.org/2000/svg\" height=\"24px\"viewBox=\"0 0 24 24\"\n",
              "       width=\"24px\">\n",
              "    <path d=\"M0 0h24v24H0V0z\" fill=\"none\"/>\n",
              "    <path d=\"M18.56 5.44l.94 2.06.94-2.06 2.06-.94-2.06-.94-.94-2.06-.94 2.06-2.06.94zm-11 1L8.5 8.5l.94-2.06 2.06-.94-2.06-.94L8.5 2.5l-.94 2.06-2.06.94zm10 10l.94 2.06.94-2.06 2.06-.94-2.06-.94-.94-2.06-.94 2.06-2.06.94z\"/><path d=\"M17.41 7.96l-1.37-1.37c-.4-.4-.92-.59-1.43-.59-.52 0-1.04.2-1.43.59L10.3 9.45l-7.72 7.72c-.78.78-.78 2.05 0 2.83L4 21.41c.39.39.9.59 1.41.59.51 0 1.02-.2 1.41-.59l7.78-7.78 2.81-2.81c.8-.78.8-2.07 0-2.86zM5.41 20L4 18.59l7.72-7.72 1.47 1.35L5.41 20z\"/>\n",
              "  </svg>\n",
              "      </button>\n",
              "      \n",
              "  <style>\n",
              "    .colab-df-container {\n",
              "      display:flex;\n",
              "      flex-wrap:wrap;\n",
              "      gap: 12px;\n",
              "    }\n",
              "\n",
              "    .colab-df-convert {\n",
              "      background-color: #E8F0FE;\n",
              "      border: none;\n",
              "      border-radius: 50%;\n",
              "      cursor: pointer;\n",
              "      display: none;\n",
              "      fill: #1967D2;\n",
              "      height: 32px;\n",
              "      padding: 0 0 0 0;\n",
              "      width: 32px;\n",
              "    }\n",
              "\n",
              "    .colab-df-convert:hover {\n",
              "      background-color: #E2EBFA;\n",
              "      box-shadow: 0px 1px 2px rgba(60, 64, 67, 0.3), 0px 1px 3px 1px rgba(60, 64, 67, 0.15);\n",
              "      fill: #174EA6;\n",
              "    }\n",
              "\n",
              "    [theme=dark] .colab-df-convert {\n",
              "      background-color: #3B4455;\n",
              "      fill: #D2E3FC;\n",
              "    }\n",
              "\n",
              "    [theme=dark] .colab-df-convert:hover {\n",
              "      background-color: #434B5C;\n",
              "      box-shadow: 0px 1px 3px 1px rgba(0, 0, 0, 0.15);\n",
              "      filter: drop-shadow(0px 1px 2px rgba(0, 0, 0, 0.3));\n",
              "      fill: #FFFFFF;\n",
              "    }\n",
              "  </style>\n",
              "\n",
              "      <script>\n",
              "        const buttonEl =\n",
              "          document.querySelector('#df-1f805216-a911-4dba-9df4-cb63a5c70c28 button.colab-df-convert');\n",
              "        buttonEl.style.display =\n",
              "          google.colab.kernel.accessAllowed ? 'block' : 'none';\n",
              "\n",
              "        async function convertToInteractive(key) {\n",
              "          const element = document.querySelector('#df-1f805216-a911-4dba-9df4-cb63a5c70c28');\n",
              "          const dataTable =\n",
              "            await google.colab.kernel.invokeFunction('convertToInteractive',\n",
              "                                                     [key], {});\n",
              "          if (!dataTable) return;\n",
              "\n",
              "          const docLinkHtml = 'Like what you see? Visit the ' +\n",
              "            '<a target=\"_blank\" href=https://colab.research.google.com/notebooks/data_table.ipynb>data table notebook</a>'\n",
              "            + ' to learn more about interactive tables.';\n",
              "          element.innerHTML = '';\n",
              "          dataTable['output_type'] = 'display_data';\n",
              "          await google.colab.output.renderOutput(dataTable, element);\n",
              "          const docLink = document.createElement('div');\n",
              "          docLink.innerHTML = docLinkHtml;\n",
              "          element.appendChild(docLink);\n",
              "        }\n",
              "      </script>\n",
              "    </div>\n",
              "  </div>\n",
              "  "
            ]
          },
          "metadata": {},
          "execution_count": 121
        }
      ]
    },
    {
      "cell_type": "code",
      "source": [
        "# create report list\n",
        "lesion_b0i1_report = createReportList(lesion_b0i1_df)\n",
        "lesion_b1i0_report = createReportList(lesion_b1i0_df)\n",
        "lesion_b0i1_report[0]"
      ],
      "metadata": {
        "colab": {
          "base_uri": "https://localhost:8080/"
        },
        "id": "oPvqsW1CSiY4",
        "outputId": "25349f01-f49b-483a-cb46-fab13d525d39"
      },
      "execution_count": 122,
      "outputs": [
        {
          "output_type": "stream",
          "name": "stdout",
          "text": [
            "Lenght : 14773\n",
            "Lenght : 19575\n"
          ]
        },
        {
          "output_type": "execute_result",
          "data": {
            "text/plain": [
              "['Chest PA upright',\n",
              " ' chronic bilateral apical lung infiltration with subsegmental both upper lungs atelectasis is shown. Prominent nodular component of active infiltration at LUL is noted.',\n",
              " ' RUL bleb is probable.',\n",
              " ' Blunt both costophrenic angles are observed, could be represented of thick basal pleurae or minimal pleural effusion.']"
            ]
          },
          "metadata": {},
          "execution_count": 122
        }
      ]
    },
    {
      "cell_type": "code",
      "source": [
        "# define keyword to select sentence from report\n",
        "lesion_keyword = r'nodule|mass|granu'"
      ],
      "metadata": {
        "id": "iMPQCxpgZgSX"
      },
      "execution_count": 123,
      "outputs": []
    },
    {
      "cell_type": "markdown",
      "source": [
        "## BERT 0, Inspectra 1"
      ],
      "metadata": {
        "id": "OJy3air4Sy-4"
      }
    },
    {
      "cell_type": "markdown",
      "source": [
        "Without keyword"
      ],
      "metadata": {
        "id": "OUSLNGeOj2uH"
      }
    },
    {
      "cell_type": "code",
      "source": [
        "lesion_b0i1_unigram = createPatternNgrams(lesion_b0i1_report, 1)"
      ],
      "metadata": {
        "id": "Tf5kXrKuAOvO"
      },
      "execution_count": 124,
      "outputs": []
    },
    {
      "cell_type": "code",
      "source": [
        "lesion_b0i1_bigram = createPatternNgrams(lesion_b0i1_report, 2)\n",
        "list(lesion_b0i1_bigram.items())[:20]"
      ],
      "metadata": {
        "colab": {
          "base_uri": "https://localhost:8080/"
        },
        "id": "i22uXdAJS3lB",
        "outputId": "a5ad3e1e-dc5b-4a3b-be01-a5c60ab94faf"
      },
      "execution_count": 125,
      "outputs": [
        {
          "output_type": "execute_result",
          "data": {
            "text/plain": [
              "[(('<s>', 'no'), 20289),\n",
              " (('change', 'of'), 10289),\n",
              " (('<s>', 'the'), 9031),\n",
              " (('bony', 'thorax'), 7013),\n",
              " (('both', 'costophrenic'), 6267),\n",
              " (('intact', '<\\\\s>'), 6206),\n",
              " (('thorax', 'is'), 6016),\n",
              " (('pleural', 'effusion'), 5907),\n",
              " (('<s>', 'both'), 5891),\n",
              " (('noted', '<\\\\s>'), 5671),\n",
              " (('is', 'intact'), 5635),\n",
              " (('is', 'seen'), 5461),\n",
              " (('clear', '<\\\\s>'), 5371),\n",
              " (('no', 'change'), 5366),\n",
              " (('is', 'noted'), 5245),\n",
              " (('seen', '<\\\\s>'), 5221),\n",
              " (('are', 'clear'), 4668),\n",
              " (('pulmonary', 'infiltration'), 4658),\n",
              " (('<s>', 'bony'), 4570),\n",
              " (('at', 'right'), 4426)]"
            ]
          },
          "metadata": {},
          "execution_count": 125
        }
      ]
    },
    {
      "cell_type": "code",
      "source": [
        "lesion_b0i1_trigram = createPatternNgrams(lesion_b0i1_report, 3)\n",
        "list(lesion_b0i1_trigram.items())[:20]"
      ],
      "metadata": {
        "colab": {
          "base_uri": "https://localhost:8080/"
        },
        "id": "wVtjIuY0XzRu",
        "outputId": "1d35ff86-a19b-4cc8-a909-ded6dc37bc44"
      },
      "execution_count": 126,
      "outputs": [
        {
          "output_type": "execute_result",
          "data": {
            "text/plain": [
              "[(('bony', 'thorax', 'is'), 6011),\n",
              " (('is', 'intact', '<\\\\s>'), 5633),\n",
              " (('thorax', 'is', 'intact'), 5381),\n",
              " (('<s>', 'both', 'costophrenic'), 5302),\n",
              " (('no', 'change', 'of'), 5147),\n",
              " (('is', 'seen', '<\\\\s>'), 4776),\n",
              " (('is', 'noted', '<\\\\s>'), 4689),\n",
              " (('are', 'clear', '<\\\\s>'), 4652),\n",
              " (('<s>', 'bony', 'thorax'), 4107),\n",
              " (('costophrenic', 'angles', 'are'), 4003),\n",
              " (('both', 'costophrenic', 'angles'), 3688),\n",
              " (('<s>', 'no', 'cardiomegaly'), 3653),\n",
              " (('no', 'significant', 'change'), 3505),\n",
              " (('significant', 'change', 'of'), 3413),\n",
              " (('pleural', 'effusion', '<\\\\s>'), 3344),\n",
              " (('angles', 'are', 'clear'), 3209),\n",
              " (('active', 'pulmonary', 'infiltration'), 2804),\n",
              " (('<s>', 'there', 'is'), 2789),\n",
              " (('<s>', 'no', 'significant'), 2731),\n",
              " (('no', 'pleural', 'effusion'), 2651)]"
            ]
          },
          "metadata": {},
          "execution_count": 126
        }
      ]
    },
    {
      "cell_type": "markdown",
      "source": [
        "With keyword"
      ],
      "metadata": {
        "id": "xEF4zH3zj8oH"
      }
    },
    {
      "cell_type": "code",
      "source": [
        "lesion_b0i1_bigramk = createPatternNgrams(lesion_b0i1_report, 2, lesion_keyword)\n",
        "list(lesion_b0i1_bigramk.items())[:20]"
      ],
      "metadata": {
        "colab": {
          "base_uri": "https://localhost:8080/"
        },
        "id": "JOVBU0_waAeQ",
        "outputId": "b7f10a55-4c26-4029-d889-f9537908b15d"
      },
      "execution_count": 127,
      "outputs": [
        {
          "output_type": "execute_result",
          "data": {
            "text/plain": [
              "[(('change', 'of'), 6152),\n",
              " (('<s>', 'no'), 4685),\n",
              " (('nodule', 'at'), 3702),\n",
              " (('no', 'change'), 3462),\n",
              " (('at', 'right'), 2612),\n",
              " (('no', 'significant'), 2510),\n",
              " (('significant', 'change'), 2306),\n",
              " (('calcified', 'nodule'), 2202),\n",
              " (('nodules', 'at'), 2017),\n",
              " (('<s>', 'the'), 1997),\n",
              " (('<\\\\s>', '<s>'), 1775),\n",
              " (('calcified', 'granuloma'), 1774),\n",
              " (('at', 'left'), 1717),\n",
              " (('at', 'rul'), 1613),\n",
              " (('the', 'chest'), 1556),\n",
              " (('chest', 'shows'), 1552),\n",
              " (('shows', 'no'), 1484),\n",
              " (('lung', '<\\\\s>'), 1455),\n",
              " (('there', 'is'), 1397),\n",
              " (('at', 'both'), 1342)]"
            ]
          },
          "metadata": {},
          "execution_count": 127
        }
      ]
    },
    {
      "cell_type": "code",
      "source": [
        "lesion_b0i1_trigramk = createPatternNgrams(lesion_b0i1_report, 3, lesion_keyword)\n",
        "list(lesion_b0i1_trigramk.items())[:20]"
      ],
      "metadata": {
        "colab": {
          "base_uri": "https://localhost:8080/"
        },
        "id": "iATytMyNaFQn",
        "outputId": "30dc23dd-0fff-47af-fcc3-8152c84207f6"
      },
      "execution_count": 128,
      "outputs": [
        {
          "output_type": "execute_result",
          "data": {
            "text/plain": [
              "[(('no', 'change', 'of'), 3390),\n",
              " (('no', 'significant', 'change'), 2302),\n",
              " (('significant', 'change', 'of'), 2274),\n",
              " (('calcified', 'nodule', 'at'), 1751),\n",
              " (('<s>', 'no', 'significant'), 1718),\n",
              " (('<s>', 'the', 'chest'), 1555),\n",
              " (('the', 'chest', 'shows'), 1552),\n",
              " (('chest', 'shows', 'no'), 1445),\n",
              " (('shows', 'no', 'change'), 1310),\n",
              " (('<s>', 'no', 'change'), 1275),\n",
              " (('<s>', 'there', 'is'), 1139),\n",
              " (('calcified', 'granuloma', 'at'), 1001),\n",
              " (('change', 'of', 'multiple'), 1000),\n",
              " (('nodule', 'at', 'right'), 955),\n",
              " (('change', 'of', 'a'), 948),\n",
              " (('there', 'is', 'no'), 946),\n",
              " (('nodules', 'at', 'both'), 862),\n",
              " (('is', 'noted', '<\\\\s>'), 785),\n",
              " (('calcific', 'nodule', 'at'), 781),\n",
              " (('both', 'lungs', '<\\\\s>'), 724)]"
            ]
          },
          "metadata": {},
          "execution_count": 128
        }
      ]
    },
    {
      "cell_type": "code",
      "source": [
        "lesion_b0i1_fourgramk = createPatternNgrams(lesion_b0i1_report, 4, lesion_keyword)\n",
        "list(lesion_b0i1_fourgramk.items())[:20]"
      ],
      "metadata": {
        "colab": {
          "base_uri": "https://localhost:8080/"
        },
        "id": "JXKOdJ4UG0cb",
        "outputId": "5a20d709-c9ec-454b-d054-90b19151bc2e"
      },
      "execution_count": 129,
      "outputs": [
        {
          "output_type": "execute_result",
          "data": {
            "text/plain": [
              "[(('no', 'significant', 'change', 'of'), 2272),\n",
              " (('<s>', 'no', 'significant', 'change'), 1590),\n",
              " (('<s>', 'the', 'chest', 'shows'), 1552),\n",
              " (('the', 'chest', 'shows', 'no'), 1445),\n",
              " (('shows', 'no', 'change', 'of'), 1308),\n",
              " (('chest', 'shows', 'no', 'change'), 1302),\n",
              " (('<s>', 'no', 'change', 'of'), 1262),\n",
              " (('<s>', 'there', 'is', 'no'), 743),\n",
              " (('no', 'change', 'of', 'a'), 648),\n",
              " (('nodules', 'at', 'both', 'lungs'), 569),\n",
              " (('at', 'both', 'lungs', '<\\\\s>'), 532),\n",
              " (('small', 'calcified', 'nodule', 'at'), 528),\n",
              " (('no', 'change', 'of', 'multiple'), 516),\n",
              " (('significant', 'change', 'of', 'multiple'), 429),\n",
              " (('calcified', 'nodule', 'at', 'right'), 421),\n",
              " (('small', 'calcific', 'nodule', 'at'), 418),\n",
              " (('mass', 'or', 'atelectasis', '<\\\\s>'), 388),\n",
              " (('at', 'right', 'lower', 'lung'), 386),\n",
              " (('<s>', 'no', 'changed', 'of'), 385),\n",
              " (('<\\\\s>', '<s>', 'there', 'is'), 379)]"
            ]
          },
          "metadata": {},
          "execution_count": 129
        }
      ]
    },
    {
      "cell_type": "code",
      "source": [
        "lesion_b0i1_fivegramk = createPatternNgrams(lesion_b0i1_report, 5, lesion_keyword)\n",
        "list(lesion_b0i1_fivegramk.items())[:20]"
      ],
      "metadata": {
        "colab": {
          "base_uri": "https://localhost:8080/"
        },
        "id": "C9BUu0KJG4jp",
        "outputId": "719db25e-655c-4403-ceb4-e56a0c228d22"
      },
      "execution_count": 130,
      "outputs": [
        {
          "output_type": "execute_result",
          "data": {
            "text/plain": [
              "[(('<s>', 'no', 'significant', 'change', 'of'), 1584),\n",
              " (('<s>', 'the', 'chest', 'shows', 'no'), 1445),\n",
              " (('the', 'chest', 'shows', 'no', 'change'), 1302),\n",
              " (('chest', 'shows', 'no', 'change', 'of'), 1301),\n",
              " (('nodules', 'at', 'both', 'lungs', '<\\\\s>'), 462),\n",
              " (('no', 'significant', 'change', 'of', 'multiple'), 429),\n",
              " (('shows', 'no', 'change', 'of', 'multiple'), 342),\n",
              " (('pulmonary', 'infiltration', 'mass', 'or', 'atelectasis'), 340),\n",
              " (('<s>', 'no', 'demonstrable', 'active', 'pulmonary'), 337),\n",
              " (('infiltration', 'mass', 'or', 'atelectasis', '<\\\\s>'), 337),\n",
              " (('no', 'demonstrable', 'active', 'pulmonary', 'infiltration'), 336),\n",
              " (('active', 'pulmonary', 'infiltration', 'mass', 'or'), 313),\n",
              " (('demonstrable', 'active', 'pulmonary', 'infiltration', 'mass'), 307),\n",
              " (('<s>', 'as', 'compared', 'to', 'prior'), 305),\n",
              " (('as', 'compared', 'to', 'prior', 'film'), 277),\n",
              " (('there', 'is', 'no', 'change', 'of'), 274),\n",
              " (('compared', 'to', 'prior', 'film', 'on'), 272),\n",
              " (('a', 'small', 'calcified', 'nodule', 'at'), 270),\n",
              " (('<s>', 'no', 'change', 'of', 'a'), 268),\n",
              " (('<\\\\s>', '<s>', 'there', 'is', 'no'), 264)]"
            ]
          },
          "metadata": {},
          "execution_count": 130
        }
      ]
    },
    {
      "cell_type": "code",
      "source": [
        "lesion_b0i1_sixgramk = createPatternNgrams(lesion_b0i1_report, 6, lesion_keyword)\n",
        "list(lesion_b0i1_sixgramk.items())[:20]"
      ],
      "metadata": {
        "colab": {
          "base_uri": "https://localhost:8080/"
        },
        "id": "SrGN5tQJvAy7",
        "outputId": "0fcbcbdd-8a9c-454e-a292-67d3623b7563"
      },
      "execution_count": 131,
      "outputs": [
        {
          "output_type": "execute_result",
          "data": {
            "text/plain": [
              "[(('<s>', 'the', 'chest', 'shows', 'no', 'change'), 1302),\n",
              " (('the', 'chest', 'shows', 'no', 'change', 'of'), 1301),\n",
              " (('chest', 'shows', 'no', 'change', 'of', 'multiple'), 341),\n",
              " (('pulmonary', 'infiltration', 'mass', 'or', 'atelectasis', '<\\\\s>'), 337),\n",
              " (('<s>', 'no', 'demonstrable', 'active', 'pulmonary', 'infiltration'), 336),\n",
              " (('active', 'pulmonary', 'infiltration', 'mass', 'or', 'atelectasis'), 309),\n",
              " (('no', 'demonstrable', 'active', 'pulmonary', 'infiltration', 'mass'), 305),\n",
              " (('demonstrable', 'active', 'pulmonary', 'infiltration', 'mass', 'or'), 296),\n",
              " (('<s>', 'as', 'compared', 'to', 'prior', 'film'), 271),\n",
              " (('as', 'compared', 'to', 'prior', 'film', 'on'), 271),\n",
              " (('<s>', 'no', 'significant', 'change', 'of', 'multiple'), 256),\n",
              " (('<s>', 'there', 'is', 'no', 'change', 'of'), 238),\n",
              " (('chest', 'shows', 'no', 'change', 'of', 'a'), 233),\n",
              " (('there', 'is', 'no', 'significant', 'change', 'of'), 203),\n",
              " (('change', 'of', 'multiple', 'nodules', 'at', 'both'), 191),\n",
              " (('<s>', 'no', 'significant', 'change', 'of', 'a'), 184),\n",
              " (('no', 'change', 'of', 'multiple', 'nodules', 'at'), 175),\n",
              " (('of', 'multiple', 'nodules', 'at', 'both', 'lungs'), 164),\n",
              " (('multiple', 'nodules', 'at', 'both', 'lungs', '<\\\\s>'), 163),\n",
              " (('chest', 'shows', 'no', 'change', 'of', 'mass'), 156)]"
            ]
          },
          "metadata": {},
          "execution_count": 131
        }
      ]
    },
    {
      "cell_type": "markdown",
      "source": [
        "## BERT 1, Inspectra 0"
      ],
      "metadata": {
        "id": "INSp5Pc6S1Q0"
      }
    },
    {
      "cell_type": "markdown",
      "source": [
        "Without keyword"
      ],
      "metadata": {
        "id": "aQegZyUAj3uk"
      }
    },
    {
      "cell_type": "code",
      "source": [
        "lesion_b1i0_unigram = createPatternNgrams(lesion_b1i0_report, 1)"
      ],
      "metadata": {
        "id": "B5GizGG3AlsQ"
      },
      "execution_count": 132,
      "outputs": []
    },
    {
      "cell_type": "code",
      "source": [
        "lesion_b1i0_bigram = createPatternNgrams(lesion_b1i0_report, 2)\n",
        "list(lesion_b1i0_bigram.items())[:20]"
      ],
      "metadata": {
        "colab": {
          "base_uri": "https://localhost:8080/"
        },
        "id": "7d1lUjvyS3E1",
        "outputId": "ab3f76e1-2c2e-48ec-89bc-9124b0b94cfb"
      },
      "execution_count": 133,
      "outputs": [
        {
          "output_type": "execute_result",
          "data": {
            "text/plain": [
              "[(('<s>', 'no'), 16163),\n",
              " (('infiltration', 'at'), 11318),\n",
              " (('bony', 'thorax'), 10081),\n",
              " (('<s>', 'the'), 9771),\n",
              " (('pleural', 'effusion'), 9473),\n",
              " (('reticulonodular', 'infiltration'), 9355),\n",
              " (('intact', '<\\\\s>'), 7992),\n",
              " (('thorax', 'is'), 7532),\n",
              " (('is', 'intact'), 7244),\n",
              " (('effusion', '<\\\\s>'), 6764),\n",
              " (('<s>', 'bony'), 6493),\n",
              " (('<\\\\s>', '<s>'), 6321),\n",
              " (('is', 'seen'), 6126),\n",
              " (('no', 'pleural'), 6060),\n",
              " (('seen', '<\\\\s>'), 6027),\n",
              " (('clear', '<\\\\s>'), 5844),\n",
              " (('noted', '<\\\\s>'), 5508),\n",
              " (('<s>', 'normal'), 5106),\n",
              " (('at', 'both'), 5105),\n",
              " (('both', 'costophrenic'), 5083)]"
            ]
          },
          "metadata": {},
          "execution_count": 133
        }
      ]
    },
    {
      "cell_type": "code",
      "source": [
        "lesion_b1i0_trigram = createPatternNgrams(lesion_b1i0_report, 3)\n",
        "list(lesion_b1i0_trigram.items())[:20]"
      ],
      "metadata": {
        "colab": {
          "base_uri": "https://localhost:8080/"
        },
        "id": "H4flfKxOXmMC",
        "outputId": "a071ac7b-15bd-4ccb-bd06-0e53cc9fa36e"
      },
      "execution_count": 134,
      "outputs": [
        {
          "output_type": "execute_result",
          "data": {
            "text/plain": [
              "[(('bony', 'thorax', 'is'), 7514),\n",
              " (('is', 'intact', '<\\\\s>'), 7241),\n",
              " (('thorax', 'is', 'intact'), 6870),\n",
              " (('reticulonodular', 'infiltration', 'at'), 6634),\n",
              " (('pleural', 'effusion', '<\\\\s>'), 6390),\n",
              " (('no', 'pleural', 'effusion'), 6029),\n",
              " (('<s>', 'bony', 'thorax'), 5841),\n",
              " (('<s>', 'no', 'pleural'), 5688),\n",
              " (('is', 'seen', '<\\\\s>'), 5219),\n",
              " (('are', 'clear', '<\\\\s>'), 4800),\n",
              " (('<s>', 'no', 'cardiomegaly'), 4353),\n",
              " (('<s>', 'both', 'costophrenic'), 4318),\n",
              " (('is', 'noted', '<\\\\s>'), 4196),\n",
              " (('<s>', 'there', 'is'), 3826),\n",
              " (('costophrenic', 'angles', 'are'), 3668),\n",
              " (('both', 'costophrenic', 'angles'), 3280),\n",
              " (('<s>', 'reticulonodular', 'infiltration'), 3272),\n",
              " (('<s>', 'the', 'heart'), 3120),\n",
              " (('angles', 'are', 'clear'), 3061),\n",
              " (('infiltration', 'at', 'both'), 3033)]"
            ]
          },
          "metadata": {},
          "execution_count": 134
        }
      ]
    },
    {
      "cell_type": "markdown",
      "source": [
        "With keyword"
      ],
      "metadata": {
        "id": "CqRrUKbzj50M"
      }
    },
    {
      "cell_type": "code",
      "source": [
        "lesion_b1i0_bigramk = createPatternNgrams(lesion_b1i0_report, 2, lesion_keyword)\n",
        "list(lesion_b1i0_bigramk.items())[:20]"
      ],
      "metadata": {
        "colab": {
          "base_uri": "https://localhost:8080/"
        },
        "id": "9tgyWX94GnbG",
        "outputId": "9e80baf5-efa9-469f-90c0-cf6d884cf1c3"
      },
      "execution_count": 135,
      "outputs": [
        {
          "output_type": "execute_result",
          "data": {
            "text/plain": [
              "[(('<s>', 'no'), 333),\n",
              " (('<\\\\s>', '<s>'), 172),\n",
              " (('pulmonary', 'infiltration'), 171),\n",
              " (('infiltration', 'or'), 159),\n",
              " (('nodule', 'at'), 155),\n",
              " (('or', 'nodule'), 150),\n",
              " (('nodule', 'is'), 132),\n",
              " (('nodule', '<\\\\s>'), 127),\n",
              " (('noted', '<\\\\s>'), 125),\n",
              " (('is', 'noted'), 121),\n",
              " (('<s>', 'history'), 120),\n",
              " (('pulmonary', 'nodule'), 107),\n",
              " (('is', 'seen'), 101),\n",
              " (('<s>', 'the'), 99),\n",
              " (('seen', '<\\\\s>'), 95),\n",
              " (('at', 'right'), 87),\n",
              " (('mass', '<\\\\s>'), 85),\n",
              " (('<s>', 'there'), 79),\n",
              " (('there', 'is'), 75),\n",
              " (('active', 'pulmonary'), 71)]"
            ]
          },
          "metadata": {},
          "execution_count": 135
        }
      ]
    },
    {
      "cell_type": "code",
      "source": [
        "lesion_b1i0_trigramk = createPatternNgrams(lesion_b1i0_report, 3, lesion_keyword)\n",
        "list(lesion_b1i0_trigramk.items())[:20]"
      ],
      "metadata": {
        "colab": {
          "base_uri": "https://localhost:8080/"
        },
        "id": "yUVblRZfGr27",
        "outputId": "c6d40fe7-290b-429d-9899-2bd9f02cde02"
      },
      "execution_count": 136,
      "outputs": [
        {
          "output_type": "execute_result",
          "data": {
            "text/plain": [
              "[(('infiltration', 'or', 'nodule'), 143),\n",
              " (('pulmonary', 'infiltration', 'or'), 117),\n",
              " (('is', 'noted', '<\\\\s>'), 107),\n",
              " (('is', 'seen', '<\\\\s>'), 79),\n",
              " (('or', 'nodule', 'is'), 78),\n",
              " (('<s>', 'there', 'is'), 67),\n",
              " (('active', 'pulmonary', 'infiltration'), 64),\n",
              " (('nodule', 'is', 'seen'), 50),\n",
              " (('nodule', 'is', 'noted'), 50),\n",
              " (('<s>', 'no', 'pulmonary'), 47),\n",
              " (('no', 'definite', 'pulmonary'), 47),\n",
              " (('no', 'detectable', 'pulmonary'), 47),\n",
              " (('or', 'nodule', '<\\\\s>'), 45),\n",
              " (('<s>', 'findings', 'no'), 43),\n",
              " (('<s>', 'no', 'definite'), 41),\n",
              " (('detectable', 'pulmonary', 'infiltration'), 41),\n",
              " (('findings', 'no', 'detectable'), 40),\n",
              " (('there', 'is', 'no'), 38),\n",
              " (('at', 'both', 'lungs'), 38),\n",
              " (('pulmonary', 'nodules', 'at'), 35)]"
            ]
          },
          "metadata": {},
          "execution_count": 136
        }
      ]
    },
    {
      "cell_type": "code",
      "source": [
        "lesion_b1i0_fourgramk = createPatternNgrams(lesion_b1i0_report, 4, lesion_keyword)\n",
        "list(lesion_b1i0_fourgramk.items())[:20]"
      ],
      "metadata": {
        "colab": {
          "base_uri": "https://localhost:8080/"
        },
        "id": "5WZXQgDDwzpd",
        "outputId": "f7cfb728-2e57-44eb-8c8b-5cbe8fb69140"
      },
      "execution_count": 137,
      "outputs": [
        {
          "output_type": "execute_result",
          "data": {
            "text/plain": [
              "[(('pulmonary', 'infiltration', 'or', 'nodule'), 108),\n",
              " (('infiltration', 'or', 'nodule', 'is'), 75),\n",
              " (('nodule', 'is', 'noted', '<\\\\s>'), 48),\n",
              " (('infiltration', 'or', 'nodule', '<\\\\s>'), 42),\n",
              " (('nodule', 'is', 'seen', '<\\\\s>'), 42),\n",
              " (('no', 'detectable', 'pulmonary', 'infiltration'), 41),\n",
              " (('detectable', 'pulmonary', 'infiltration', 'or'), 41),\n",
              " (('<s>', 'findings', 'no', 'detectable'), 40),\n",
              " (('or', 'nodule', 'is', 'noted'), 39),\n",
              " (('<s>', 'no', 'definite', 'pulmonary'), 33),\n",
              " (('findings', 'no', 'detectable', 'pulmonary'), 33),\n",
              " (('active', 'pulmonary', 'infiltration', 'or'), 33),\n",
              " (('or', 'nodule', 'is', 'seen'), 33),\n",
              " (('<s>', 'there', 'is', 'no'), 32),\n",
              " (('<s>', 'no', 'infiltration', 'or'), 32),\n",
              " (('no', 'infiltration', 'or', 'nodule'), 32),\n",
              " (('<s>', 'the', 'chest', 'shows'), 31),\n",
              " (('<s>', 'no', 'active', 'pulmonary'), 28),\n",
              " (('no', 'active', 'pulmonary', 'infiltration'), 27),\n",
              " (('<s>', 'no', 'pulmonary', 'nodule'), 26)]"
            ]
          },
          "metadata": {},
          "execution_count": 137
        }
      ]
    },
    {
      "cell_type": "code",
      "source": [
        "lesion_b1i0_fivegramk = createPatternNgrams(lesion_b1i0_report, 5, lesion_keyword)\n",
        "list(lesion_b1i0_fivegramk.items())[:20]"
      ],
      "metadata": {
        "colab": {
          "base_uri": "https://localhost:8080/"
        },
        "id": "tZCC6M6PxM1b",
        "outputId": "617c25b6-a85f-41bd-ef92-95fc4947072b"
      },
      "execution_count": 138,
      "outputs": [
        {
          "output_type": "execute_result",
          "data": {
            "text/plain": [
              "[(('pulmonary', 'infiltration', 'or', 'nodule', 'is'), 45),\n",
              " (('no', 'detectable', 'pulmonary', 'infiltration', 'or'), 41),\n",
              " (('pulmonary', 'infiltration', 'or', 'nodule', '<\\\\s>'), 40),\n",
              " (('infiltration', 'or', 'nodule', 'is', 'noted'), 39),\n",
              " (('or', 'nodule', 'is', 'noted', '<\\\\s>'), 39),\n",
              " (('detectable', 'pulmonary', 'infiltration', 'or', 'nodule'), 38),\n",
              " (('<s>', 'findings', 'no', 'detectable', 'pulmonary'), 33),\n",
              " (('findings', 'no', 'detectable', 'pulmonary', 'infiltration'), 33),\n",
              " (('infiltration', 'or', 'nodule', 'is', 'seen'), 33),\n",
              " (('or', 'nodule', 'is', 'seen', '<\\\\s>'), 33),\n",
              " (('<s>', 'no', 'infiltration', 'or', 'nodule'), 32),\n",
              " (('active', 'pulmonary', 'infiltration', 'or', 'nodule'), 30),\n",
              " (('no', 'infiltration', 'or', 'nodule', 'is'), 30),\n",
              " (('<s>', 'the', 'chest', 'shows', 'no'), 25),\n",
              " (('<s>', 'no', 'demonstrable', 'active', 'pulmonary'), 24),\n",
              " (('no', 'demonstrable', 'active', 'pulmonary', 'infiltration'), 24),\n",
              " (('no', 'active', 'pulmonary', 'infiltration', 'or'), 23),\n",
              " (('<s>', 'no', 'active', 'pulmonary', 'infiltration'), 23),\n",
              " (('pulmonary', 'infiltration', 'mass', 'or', 'atelectasis'), 21),\n",
              " (('<s>', 'no', 'pulmonary', 'nodule', 'or'), 20)]"
            ]
          },
          "metadata": {},
          "execution_count": 138
        }
      ]
    },
    {
      "cell_type": "code",
      "source": [
        "lesion_b1i0_sixgramk = createPatternNgrams(lesion_b1i0_report, 6, lesion_keyword)\n",
        "list(lesion_b1i0_sixgramk.items())[:20]"
      ],
      "metadata": {
        "colab": {
          "base_uri": "https://localhost:8080/"
        },
        "id": "OS-9S8PUxnUn",
        "outputId": "5aa427ac-5e66-42e4-f456-a58e197c07bb"
      },
      "execution_count": 139,
      "outputs": [
        {
          "output_type": "execute_result",
          "data": {
            "text/plain": [
              "[(('pulmonary', 'infiltration', 'or', 'nodule', 'is', 'noted'), 39),\n",
              " (('infiltration', 'or', 'nodule', 'is', 'noted', '<\\\\s>'), 39),\n",
              " (('no', 'detectable', 'pulmonary', 'infiltration', 'or', 'nodule'), 38),\n",
              " (('<s>', 'findings', 'no', 'detectable', 'pulmonary', 'infiltration'), 33),\n",
              " (('findings', 'no', 'detectable', 'pulmonary', 'infiltration', 'or'), 33),\n",
              " (('infiltration', 'or', 'nodule', 'is', 'seen', '<\\\\s>'), 33),\n",
              " (('<s>', 'no', 'infiltration', 'or', 'nodule', 'is'), 30),\n",
              " (('no', 'infiltration', 'or', 'nodule', 'is', 'seen'), 30),\n",
              " (('<s>', 'no', 'demonstrable', 'active', 'pulmonary', 'infiltration'), 24),\n",
              " (('no', 'active', 'pulmonary', 'infiltration', 'or', 'nodule'), 20),\n",
              " (('no', 'demonstrable', 'active', 'pulmonary', 'infiltration', 'mass'), 20),\n",
              " (('<s>', 'no', 'active', 'pulmonary', 'infiltration', 'or'), 19),\n",
              " (('detectable', 'pulmonary', 'infiltration', 'or', 'nodule', 'is'), 18),\n",
              " (('demonstrable', 'active', 'pulmonary', 'infiltration', 'mass', 'or'), 18),\n",
              " (('active', 'pulmonary', 'infiltration', 'mass', 'or', 'atelectasis'), 18),\n",
              " (('pulmonary', 'infiltration', 'mass', 'or', 'atelectasis', '<\\\\s>'), 17),\n",
              " (('active', 'pulmonary', 'infiltration', 'or', 'nodule', 'is'), 16),\n",
              " (('no', 'definite', 'pulmonary', 'infiltration', 'or', 'nodule'), 15),\n",
              " (('<s>', 'no', 'pulmonary', 'nodule', 'or', 'infiltration'), 15),\n",
              " (('detectable', 'pulmonary', 'infiltration', 'or', 'nodule', 'at'), 15)]"
            ]
          },
          "metadata": {},
          "execution_count": 139
        }
      ]
    },
    {
      "cell_type": "markdown",
      "source": [
        "## Find Word Before"
      ],
      "metadata": {
        "id": "N4kgsWSpBDJ3"
      }
    },
    {
      "cell_type": "code",
      "source": [
        "before_mass = findWordBefore(lesion_b0i1_bigram, 'mass')\n",
        "print('mass :', lesion_b0i1_unigram['mass',])\n",
        "print('word before mass :', sum(before_mass.values()))\n",
        "list(before_mass.items())[:10]"
      ],
      "metadata": {
        "colab": {
          "base_uri": "https://localhost:8080/"
        },
        "id": "bHJjHHUByihr",
        "outputId": "4ed184d2-561a-43d9-a3e6-000e824ec3df"
      },
      "execution_count": 140,
      "outputs": [
        {
          "output_type": "stream",
          "name": "stdout",
          "text": [
            "mass : 2281\n",
            "word before mass : 2281\n"
          ]
        },
        {
          "output_type": "execute_result",
          "data": {
            "text/plain": [
              "[('of', 433),\n",
              " ('infiltration', 358),\n",
              " ('hilar', 149),\n",
              " ('tissue', 128),\n",
              " ('or', 99),\n",
              " ('mediastinal', 84),\n",
              " ('large', 64),\n",
              " ('defined', 55),\n",
              " ('pulmonary', 54),\n",
              " ('paratracheal', 53)]"
            ]
          },
          "metadata": {},
          "execution_count": 140
        }
      ]
    },
    {
      "cell_type": "code",
      "source": [
        "before_nodule = findWordBefore(lesion_b0i1_bigram, 'nodules')\n",
        "print('nodules :', lesion_b0i1_unigram['nodules',])\n",
        "print('word before nodules :', sum(before_nodule.values()))\n",
        "list(before_nodule.items())[:10]"
      ],
      "metadata": {
        "colab": {
          "base_uri": "https://localhost:8080/"
        },
        "id": "HMt-DNNc_v0Q",
        "outputId": "b8847b1b-ebc4-46e2-b0e4-bfa56925bc65"
      },
      "execution_count": 141,
      "outputs": [
        {
          "output_type": "stream",
          "name": "stdout",
          "text": [
            "nodules : 3245\n",
            "word before nodules : 3245\n"
          ]
        },
        {
          "output_type": "execute_result",
          "data": {
            "text/plain": [
              "[('calcified', 811),\n",
              " ('calcific', 615),\n",
              " ('pulmonary', 601),\n",
              " ('multiple', 338),\n",
              " ('small', 254),\n",
              " ('of', 72),\n",
              " ('lung', 65),\n",
              " ('two', 44),\n",
              " ('round', 42),\n",
              " ('few', 34)]"
            ]
          },
          "metadata": {},
          "execution_count": 141
        }
      ]
    },
    {
      "cell_type": "code",
      "source": [
        "before_granu = findWordBefore(lesion_b0i1_bigram, 'granuloma')\n",
        "print('granuloma :', lesion_b0i1_unigram['granuloma',])\n",
        "print('word before granuloma :', sum(before_granu.values()))\n",
        "list(before_granu.items())[:10]"
      ],
      "metadata": {
        "colab": {
          "base_uri": "https://localhost:8080/"
        },
        "id": "s6rsUlGy_5MD",
        "outputId": "13c08fb4-8fde-44d9-91c3-cfffd6666a5a"
      },
      "execution_count": 142,
      "outputs": [
        {
          "output_type": "stream",
          "name": "stdout",
          "text": [
            "granuloma : 2488\n",
            "word before granuloma : 2488\n"
          ]
        },
        {
          "output_type": "execute_result",
          "data": {
            "text/plain": [
              "[('calcified', 1774),\n",
              " ('old', 431),\n",
              " ('small', 62),\n",
              " ('be', 34),\n",
              " ('calcific', 18),\n",
              " ('of', 15),\n",
              " ('<s>', 14),\n",
              " ('likely', 10),\n",
              " ('calcify', 10),\n",
              " ('benign', 9)]"
            ]
          },
          "metadata": {},
          "execution_count": 142
        }
      ]
    },
    {
      "cell_type": "code",
      "source": [
        "before_nodular = findWordBefore(lesion_b1i0_bigram, 'nodular')\n",
        "print('nodular :', lesion_b1i0_unigram['nodular',])\n",
        "print('word before nodular :', sum(before_nodular.values()))\n",
        "list(before_nodular.items())[:10]"
      ],
      "metadata": {
        "colab": {
          "base_uri": "https://localhost:8080/"
        },
        "id": "TuSWvIwfAAQp",
        "outputId": "ac255f25-6ebd-4f40-b02b-be42569a8e8b"
      },
      "execution_count": 143,
      "outputs": [
        {
          "output_type": "stream",
          "name": "stdout",
          "text": [
            "nodular : 2060\n",
            "word before nodular : 2060\n"
          ]
        },
        {
          "output_type": "execute_result",
          "data": {
            "text/plain": [
              "[('<s>', 356),\n",
              " ('and', 252),\n",
              " ('reticulo', 143),\n",
              " ('minimal', 142),\n",
              " ('of', 126),\n",
              " ('diffuse', 124),\n",
              " ('small', 122),\n",
              " ('fibro', 63),\n",
              " ('multiple', 54),\n",
              " ('fine', 50)]"
            ]
          },
          "metadata": {},
          "execution_count": 143
        }
      ]
    },
    {
      "cell_type": "code",
      "source": [
        "before_retino = findWordBefore(lesion_b1i0_bigram, 'reticulonodular')\n",
        "print('reticulonodular :', lesion_b1i0_unigram['reticulonodular',])\n",
        "print('word before reticulonodular :', sum(before_retino.values()))\n",
        "list(before_retino.items())[:10]"
      ],
      "metadata": {
        "colab": {
          "base_uri": "https://localhost:8080/"
        },
        "id": "mpIaHSLqALKX",
        "outputId": "c08d629f-e7c5-42e9-93bd-fc43df284536"
      },
      "execution_count": 144,
      "outputs": [
        {
          "output_type": "stream",
          "name": "stdout",
          "text": [
            "reticulonodular : 11845\n",
            "word before reticulonodular : 11845\n"
          ]
        },
        {
          "output_type": "execute_result",
          "data": {
            "text/plain": [
              "[('<s>', 4241),\n",
              " ('of', 1321),\n",
              " ('diffuse', 1076),\n",
              " ('minimal', 748),\n",
              " ('mild', 535),\n",
              " ('is', 465),\n",
              " ('and', 415),\n",
              " ('increased', 316),\n",
              " ('decreased', 296),\n",
              " ('unchanged', 282)]"
            ]
          },
          "metadata": {},
          "execution_count": 144
        }
      ]
    },
    {
      "cell_type": "code",
      "source": [
        "before_fibrono = findWordBefore(lesion_b1i0_bigram, 'fibronodular')\n",
        "print('fibronodular :', lesion_b1i0_unigram['fibronodular',])\n",
        "print('word before fibronodular :', sum(before_fibrono.values()))\n",
        "list(before_fibrono.items())[:10]"
      ],
      "metadata": {
        "colab": {
          "base_uri": "https://localhost:8080/"
        },
        "id": "iUGbRQuMALri",
        "outputId": "2a5cff11-1958-46ab-ed69-9d2729f1d0b5"
      },
      "execution_count": 145,
      "outputs": [
        {
          "output_type": "stream",
          "name": "stdout",
          "text": [
            "fibronodular : 3284\n",
            "word before fibronodular : 3284\n"
          ]
        },
        {
          "output_type": "execute_result",
          "data": {
            "text/plain": [
              "[('<s>', 1512),\n",
              " ('minimal', 500),\n",
              " ('unchanged', 268),\n",
              " ('of', 230),\n",
              " ('and', 93),\n",
              " ('reveals', 75),\n",
              " ('is', 70),\n",
              " ('rul', 42),\n",
              " ('lul', 39),\n",
              " ('mild', 32)]"
            ]
          },
          "metadata": {},
          "execution_count": 145
        }
      ]
    },
    {
      "cell_type": "markdown",
      "source": [],
      "metadata": {
        "id": "sx5N2hG0SoIR"
      }
    }
  ]
}